{
 "cells": [
  {
   "cell_type": "markdown",
   "id": "b376be0b",
   "metadata": {},
   "source": [
    "# conda environment for this program:\n",
    "# conda activate ?"
   ]
  },
  {
   "cell_type": "code",
   "execution_count": null,
   "id": "9736497f",
   "metadata": {},
   "outputs": [],
   "source": [
    "import logging, os\n",
    "import sys\n",
    "import cv2\n",
    "import numpy as np\n",
    "from PIL import Image\n",
    "import dlib\n",
    "from matplotlib import pyplot as plt\n",
    "\n",
    "NETWORK = \"https://nvlabs-fi-cdn.nvidia.com/stylegan2-ada-pytorch/pretrained/ffhq.pkl\"\n",
    "STEPS = 150\n",
    "FPS = 30\n",
    "FREEZE_STEPS = 30\n",
    "\n",
    "BASE_PATH = \"../../../../local_data/jheaton/\"\n",
    "DATA_PATH = \"../../../../local_data/tfds/\"\n",
    "PACKAGES_PATH=\"../../../../local_data/packages/\"\n",
    "SHAPE_PRED_PATH=\"../../../../local_data/packages/shape_predictor/\"\n",
    "OUTPUT_PATH = BASE_PATH+\"class_09_4_facial_points/\"\n",
    "OUT_SOURCE_PATH=OUTPUT_PATH+\"out_source/\"\n",
    "OUT_TARGET_PATH=OUTPUT_PATH+\"out_target/\"\n",
    "\n",
    "os.system(\"mkdir -p \" + OUTPUT_PATH)\n",
    "os.system(\"mkdir -p \" + OUT_SOURCE_PATH)\n",
    "os.system(\"mkdir -p \" + OUT_TARGET_PATH)\n",
    "\n",
    "\n",
    "sys.path.insert(0, PACKAGES_PATH+\"stylegan2-ada-pytorch\")\n",
    "\n",
    "SOURCE_NAME= OUTPUT_PATH+\"about-jeff-heaton-2020.jpg\"\n",
    "TARGET_NAME= OUTPUT_PATH+\"thor.jpg\"\n"
   ]
  },
  {
   "cell_type": "code",
   "execution_count": null,
   "id": "15e18651",
   "metadata": {},
   "outputs": [],
   "source": [
    "detector = dlib.get_frontal_face_detector()\n",
    "predictor = dlib.shape_predictor(SHAPE_PRED_PATH+'shape_predictor_5_face_landmarks.dat')"
   ]
  },
  {
   "cell_type": "code",
   "execution_count": null,
   "id": "32118374",
   "metadata": {},
   "outputs": [],
   "source": [
    "img = cv2.imread(SOURCE_NAME)\n",
    "if img is None:\n",
    "    raise ValueError(\"Source image not found\")\n",
    "\n",
    "gray = cv2.cvtColor(img, cv2.COLOR_BGR2GRAY)\n",
    "rects = detector(gray, 0)\n",
    "\n",
    "if len(rects) == 0:\n",
    "    raise ValueError(\"No faces detected\")\n",
    "elif len(rects) > 1:\n",
    "    raise ValueError(\"Multiple faces detected\")\n",
    "\n",
    "shape = predictor(gray, rects[0])\n",
    "\n",
    "w = img.shape[0]//50\n",
    "\n",
    "for i in range(0, 5):\n",
    "    pt1 = (shape.part(i).x, shape.part(i).y)\n",
    "    pt2 = (shape.part(i).x+w, shape.part(i).y+w)\n",
    "    cv2.rectangle(img,pt1,pt2,(0,255,255),4)\n",
    "    print(pt1,pt2)"
   ]
  },
  {
   "cell_type": "code",
   "execution_count": null,
   "id": "69097e4a",
   "metadata": {},
   "outputs": [],
   "source": [
    "img = cv2.cvtColor(img, cv2.COLOR_BGR2RGB)\n",
    "plt.imshow(img)\n",
    "plt.title('source')\n",
    "plt.show()"
   ]
  },
  {
   "cell_type": "code",
   "execution_count": null,
   "id": "38275725",
   "metadata": {},
   "outputs": [],
   "source": [
    "def find_eyes(img):\n",
    "    gray = cv2.cvtColor(img, cv2.COLOR_BGR2GRAY)\n",
    "    rects = detector(gray, 0)\n",
    "\n",
    "    if len(rects) == 0:\n",
    "        raise ValueError(\"No faces detected\")\n",
    "    elif len(rects) > 1:\n",
    "        raise ValueError(\"Multiple faces detected\")\n",
    "    \n",
    "    shape = predictor(gray, rects[0])\n",
    "    features = []\n",
    "    \n",
    "    for i in range(0, 5):\n",
    "        features.append((i, (shape.part(i).x, shape.part(i).y)))\n",
    "\n",
    "    return (int(features[3][1][0] + features[2][1][0]) // 2, \\\n",
    "        int(features[3][1][1] + features[2][1][1]) // 2), \\\n",
    "        (int(features[1][1][0] + features[0][1][0]) // 2, \\\n",
    "        int(features[1][1][1] + features[0][1][1]) // 2)\n",
    "    \n",
    "def crop_stylegan(img):\n",
    "    left_eye, right_eye = find_eyes(img)\n",
    "    # Calculate the size of the face\n",
    "    d = abs(right_eye[0] - left_eye[0])\n",
    "    z = 255/d\n",
    "    # Consider the aspect ratio\n",
    "    ar = img.shape[0]/img.shape[1]\n",
    "    w = img.shape[1] * z\n",
    "    img2 = cv2.resize(img, (int(w), int(w*ar)))\n",
    "    bordersize = 1024\n",
    "    img3 = cv2.copyMakeBorder(\n",
    "        img2,\n",
    "        top=bordersize,\n",
    "        bottom=bordersize,\n",
    "        left=bordersize,\n",
    "        right=bordersize,\n",
    "        borderType=cv2.BORDER_REPLICATE)\n",
    "\n",
    "    left_eye2, right_eye2 = find_eyes(img3)\n",
    "\n",
    "    # Adjust to the offset used by StyleGAN2\n",
    "    crop1 = left_eye2[0] - 385\n",
    "    crop0 = left_eye2[1] - 490\n",
    "    return img3[crop0:crop0+1024,crop1:crop1+1024]"
   ]
  },
  {
   "cell_type": "code",
   "execution_count": null,
   "id": "ec3ed58c",
   "metadata": {},
   "outputs": [],
   "source": [
    "image_source = cv2.imread(SOURCE_NAME)\n",
    "if image_source is None:\n",
    "    raise ValueError(\"Source image not found\")\n",
    "\n",
    "image_target = cv2.imread(TARGET_NAME)\n",
    "if image_target is None:\n",
    "    raise ValueError(\"Target image not found\")\n",
    "\n",
    "cropped_source = crop_stylegan(image_source)\n",
    "cropped_target = crop_stylegan(image_target)\n",
    "\n",
    "img = cv2.cvtColor(cropped_source, cv2.COLOR_BGR2RGB)\n",
    "plt.imshow(img)\n",
    "plt.title('source')\n",
    "plt.show()\n",
    "\n",
    "img = cv2.cvtColor(cropped_target, cv2.COLOR_BGR2RGB)\n",
    "plt.imshow(img)\n",
    "plt.title('target')\n",
    "plt.show()\n",
    "\n",
    "cv2.imwrite(OUTPUT_PATH+\"cropped_source.png\", cropped_source)\n",
    "cv2.imwrite(OUTPUT_PATH+\"cropped_target.png\", cropped_target)\n",
    "\n",
    "#print(find_eyes(cropped_source))\n",
    "#print(find_eyes(cropped_target))"
   ]
  },
  {
   "cell_type": "markdown",
   "id": "abd964ea",
   "metadata": {},
   "source": [
    "4.5 Convert Source to a GAN and 4.6 Convert Target to a GAN\n",
    "are run in bash script files outside of jupyter"
   ]
  },
  {
   "cell_type": "code",
   "execution_count": null,
   "id": "aa3a9758",
   "metadata": {},
   "outputs": [],
   "source": [
    "# class_09_4_facial_points_source.sh\n",
    "# class_09_4_facial_points_target.sh"
   ]
  },
  {
   "cell_type": "code",
   "execution_count": null,
   "id": "d34da7a9",
   "metadata": {},
   "outputs": [],
   "source": [
    "img_gan_source = cv2.imread(OUT_SOURCE_PATH+'proj.png')\n",
    "img = cv2.cvtColor(img_gan_source, cv2.COLOR_BGR2RGB)\n",
    "plt.imshow(img)\n",
    "plt.title('source-gan')\n",
    "plt.show()"
   ]
  },
  {
   "cell_type": "code",
   "execution_count": null,
   "id": "37daf9b9",
   "metadata": {},
   "outputs": [],
   "source": [
    "img_gan_target = cv2.imread(OUT_TARGET_PATH+'proj.png')\n",
    "img = cv2.cvtColor(img_gan_target, cv2.COLOR_BGR2RGB)\n",
    "plt.imshow(img)\n",
    "plt.title('target-gan')\n",
    "plt.show()"
   ]
  },
  {
   "cell_type": "code",
   "execution_count": null,
   "id": "c7c5874f",
   "metadata": {},
   "outputs": [
    {
     "ename": "",
     "evalue": "",
     "output_type": "error",
     "traceback": [
      "\u001b[1;31mRunning cells with 'vision (Python 3.10.18)' requires the ipykernel package.\n",
      "\u001b[1;31m<a href='command:jupyter.createPythonEnvAndSelectController'>Create a Python Environment</a> with the required packages.\n",
      "\u001b[1;31mOr install 'ipykernel' using the command: 'conda install -n vision ipykernel --update-deps --force-reinstall'"
     ]
    }
   ],
   "source": [
    "import torch\n",
    "import dnnlib\n",
    "import legacy\n",
    "import PIL.Image\n",
    "import numpy as np\n",
    "import imageio\n",
    "from tqdm.notebook import tqdm\n",
    "\n",
    "lvec1 = np.load(OUT_SOURCE_PATH+'projected_w.npz')['w']\n",
    "lvec2 = np.load(OUT_TARGET_PATH+'projected_w.npz')['w']\n",
    "\n",
    "network_pkl = \"https://nvlabs-fi-cdn.nvidia.com/stylegan2-ada-pytorch/pretrained/ffhq.pkl\"\n",
    "device = torch.device('cuda')\n",
    "with dnnlib.util.open_url(network_pkl) as fp:\n",
    "    G = legacy.load_network_pkl(fp)['G_ema'].requires_grad_(False).to(device)\n",
    "\n",
    "diff = lvec2 - lvec1\n",
    "step = diff / STEPS\n",
    "current = lvec1.copy()\n",
    "target_uint8 = np.array([1024,1024,3], dtype=np.uint8)\n",
    "\n",
    "video = imageio.get_writer(OUTPUT_PATH+'movie.mp4', mode='I', fps=FPS,codec='libx264', bitrate='16M')\n",
    "\n",
    "for j in tqdm(range(STEPS)):\n",
    "    z = torch.from_numpy(current).to(device)\n",
    "    synth_image = G.synthesis(z, noise_mode='const')\n",
    "    synth_image = (synth_image + 1) * (255/2)\n",
    "    synth_image = synth_image.permute(0, 2, 3, 1).clamp(0, 255)\\\n",
    "    .to(torch.uint8)[0].cpu().numpy()\n",
    "    repeat = FREEZE_STEPS if j==0 or j==(STEPS-1) else 1\n",
    "\n",
    "    for i in range(repeat):\n",
    "        video.append_data(synth_image)\n",
    "    current = current + step\n",
    "\n",
    "video.close()\n"
   ]
  }
 ],
 "metadata": {
  "kernelspec": {
   "display_name": "vision",
   "language": "python",
   "name": "python3"
  },
  "language_info": {
   "codemirror_mode": {
    "name": "ipython",
    "version": 3
   },
   "file_extension": ".py",
   "mimetype": "text/x-python",
   "name": "python",
   "nbconvert_exporter": "python",
   "pygments_lexer": "ipython3",
   "version": "3.10.18"
  }
 },
 "nbformat": 4,
 "nbformat_minor": 5
}
