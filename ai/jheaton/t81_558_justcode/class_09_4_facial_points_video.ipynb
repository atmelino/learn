{
 "cells": [
  {
   "cell_type": "markdown",
   "id": "b376be0b",
   "metadata": {},
   "source": [
    "# conda environment for this program:\n",
    "# conda activate ?"
   ]
  },
  {
   "cell_type": "code",
   "execution_count": 1,
   "id": "c7c5874f",
   "metadata": {},
   "outputs": [
    {
     "ename": "ModuleNotFoundError",
     "evalue": "No module named 'torch'",
     "output_type": "error",
     "traceback": [
      "\u001b[0;31m---------------------------------------------------------------------------\u001b[0m",
      "\u001b[0;31mModuleNotFoundError\u001b[0m                       Traceback (most recent call last)",
      "Cell \u001b[0;32mIn[1], line 1\u001b[0m\n\u001b[0;32m----> 1\u001b[0m \u001b[38;5;28;01mimport\u001b[39;00m\u001b[38;5;250m \u001b[39m\u001b[38;5;21;01mtorch\u001b[39;00m\n\u001b[1;32m      2\u001b[0m \u001b[38;5;28;01mimport\u001b[39;00m\u001b[38;5;250m \u001b[39m\u001b[38;5;21;01mdnnlib\u001b[39;00m\n\u001b[1;32m      3\u001b[0m \u001b[38;5;28;01mimport\u001b[39;00m\u001b[38;5;250m \u001b[39m\u001b[38;5;21;01mlegacy\u001b[39;00m\n",
      "\u001b[0;31mModuleNotFoundError\u001b[0m: No module named 'torch'"
     ]
    }
   ],
   "source": [
    "import torch\n",
    "import dnnlib\n",
    "import legacy\n",
    "import PIL.Image\n",
    "import numpy as np\n",
    "import imageio\n",
    "from tqdm.notebook import tqdm\n",
    "\n",
    "lvec1 = np.load(OUT_SOURCE_PATH+'projected_w.npz')['w']\n",
    "lvec2 = np.load(OUT_TARGET_PATH+'projected_w.npz')['w']\n",
    "\n",
    "network_pkl = \"https://nvlabs-fi-cdn.nvidia.com/stylegan2-ada-pytorch/pretrained/ffhq.pkl\"\n",
    "device = torch.device('cuda')\n",
    "with dnnlib.util.open_url(network_pkl) as fp:\n",
    "    G = legacy.load_network_pkl(fp)['G_ema'].requires_grad_(False).to(device)\n",
    "\n",
    "diff = lvec2 - lvec1\n",
    "step = diff / STEPS\n",
    "current = lvec1.copy()\n",
    "target_uint8 = np.array([1024,1024,3], dtype=np.uint8)\n",
    "\n",
    "video = imageio.get_writer(OUTPUT_PATH+'movie.mp4', mode='I', fps=FPS,codec='libx264', bitrate='16M')\n",
    "\n",
    "for j in tqdm(range(STEPS)):\n",
    "    z = torch.from_numpy(current).to(device)\n",
    "    synth_image = G.synthesis(z, noise_mode='const')\n",
    "    synth_image = (synth_image + 1) * (255/2)\n",
    "    synth_image = synth_image.permute(0, 2, 3, 1).clamp(0, 255)\\\n",
    "    .to(torch.uint8)[0].cpu().numpy()\n",
    "    repeat = FREEZE_STEPS if j==0 or j==(STEPS-1) else 1\n",
    "\n",
    "    for i in range(repeat):\n",
    "        video.append_data(synth_image)\n",
    "    current = current + step\n",
    "\n",
    "video.close()\n"
   ]
  }
 ],
 "metadata": {
  "kernelspec": {
   "display_name": "jh_class",
   "language": "python",
   "name": "python3"
  },
  "language_info": {
   "codemirror_mode": {
    "name": "ipython",
    "version": 3
   },
   "file_extension": ".py",
   "mimetype": "text/x-python",
   "name": "python",
   "nbconvert_exporter": "python",
   "pygments_lexer": "ipython3",
   "version": "3.10.13"
  }
 },
 "nbformat": 4,
 "nbformat_minor": 5
}
