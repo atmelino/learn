{
 "cells": [
  {
   "cell_type": "markdown",
   "id": "b376be0b",
   "metadata": {},
   "source": [
    "conda environment for this program:<br>\n",
    "<code>conda activate stylegan3</code><br>\n",
    "make sure to include <br>\n",
    "<code>sys.path.insert(0, \"../../../../local_data/packages/stylegan3\")</code><br>\n",
    "to find dnnlib and legacy!"
   ]
  },
  {
   "cell_type": "code",
   "execution_count": 1,
   "id": "c7c5874f",
   "metadata": {},
   "outputs": [],
   "source": [
    "import sys\n",
    "sys.path.insert(0, \"../../../../local_data/packages/stylegan3\")\n",
    "import torch\n",
    "import dnnlib\n",
    "import legacy\n",
    "import PIL.Image\n",
    "import numpy as np\n",
    "import imageio\n",
    "from tqdm.notebook import tqdm\n",
    "\n",
    "BASE_PATH = \"../../../../local_data/jheaton/\"\n",
    "DATA_PATH = \"../../../../local_data/tfds/\"\n",
    "PACKAGES_PATH=\"../../../../local_data/packages/\"\n",
    "SHAPE_PRED_PATH=\"../../../../local_data/packages/shape_predictor/\"\n",
    "OUTPUT_PATH = BASE_PATH+\"class_09_4_facial_points/\"\n",
    "OUT_SOURCE_PATH=OUTPUT_PATH+\"out_source/\"\n",
    "OUT_TARGET_PATH=OUTPUT_PATH+\"out_target/\"\n",
    "\n",
    "NETWORK = \"https://nvlabs-fi-cdn.nvidia.com/stylegan2-ada-pytorch/pretrained/ffhq.pkl\"\n",
    "STEPS = 150\n",
    "FPS = 30\n",
    "FREEZE_STEPS = 30"
   ]
  },
  {
   "cell_type": "markdown",
   "id": "1942141e",
   "metadata": {},
   "source": [
    "4.7 Build the Video"
   ]
  },
  {
   "cell_type": "code",
   "execution_count": 2,
   "id": "1e1d3aac",
   "metadata": {},
   "outputs": [
    {
     "name": "stdout",
     "output_type": "stream",
     "text": [
      "Downloading https://nvlabs-fi-cdn.nvidia.com/stylegan2-ada-pytorch/pretrained/ffhq.pkl ... done\n"
     ]
    },
    {
     "name": "stderr",
     "output_type": "stream",
     "text": [
      "/tmp/ipykernel_776824/134272979.py:12: DeprecationWarning: NumPy will stop allowing conversion of out-of-bound Python integers to integer arrays.  The conversion of 1024 to uint8 will fail in the future.\n",
      "For the old behavior, usually:\n",
      "    np.array(value).astype(dtype)`\n",
      "will give the desired result (the cast overflows).\n",
      "  target_uint8 = np.array([1024,1024,3], dtype=np.uint8)\n"
     ]
    },
    {
     "data": {
      "application/vnd.jupyter.widget-view+json": {
       "model_id": "587135c367cf4411be00ee5d1063a3a9",
       "version_major": 2,
       "version_minor": 0
      },
      "text/plain": [
       "  0%|          | 0/150 [00:00<?, ?it/s]"
      ]
     },
     "metadata": {},
     "output_type": "display_data"
    },
    {
     "name": "stdout",
     "output_type": "stream",
     "text": [
      "Setting up PyTorch plugin \"bias_act_plugin\"... "
     ]
    },
    {
     "name": "stderr",
     "output_type": "stream",
     "text": [
      "/media/data/miniconda3/envs/stylegan3/lib/python3.9/site-packages/torch/utils/cpp_extension.py:1964: UserWarning: TORCH_CUDA_ARCH_LIST is not set, all archs for visible cards are included for compilation. \n",
      "If this is not desired, please set os.environ['TORCH_CUDA_ARCH_LIST'].\n",
      "  warnings.warn(\n"
     ]
    },
    {
     "name": "stdout",
     "output_type": "stream",
     "text": [
      "Done.\n",
      "Setting up PyTorch plugin \"upfirdn2d_plugin\"... "
     ]
    },
    {
     "name": "stderr",
     "output_type": "stream",
     "text": [
      "/media/data/miniconda3/envs/stylegan3/lib/python3.9/site-packages/torch/utils/cpp_extension.py:1964: UserWarning: TORCH_CUDA_ARCH_LIST is not set, all archs for visible cards are included for compilation. \n",
      "If this is not desired, please set os.environ['TORCH_CUDA_ARCH_LIST'].\n",
      "  warnings.warn(\n"
     ]
    },
    {
     "name": "stdout",
     "output_type": "stream",
     "text": [
      "Done.\n"
     ]
    }
   ],
   "source": [
    "lvec1 = np.load(OUT_SOURCE_PATH+'projected_w.npz')['w']\n",
    "lvec2 = np.load(OUT_TARGET_PATH+'projected_w.npz')['w']\n",
    "\n",
    "network_pkl = \"https://nvlabs-fi-cdn.nvidia.com/stylegan2-ada-pytorch/pretrained/ffhq.pkl\"\n",
    "device = torch.device('cuda')\n",
    "with dnnlib.util.open_url(network_pkl) as fp:\n",
    "    G = legacy.load_network_pkl(fp)['G_ema'].requires_grad_(False).to(device)\n",
    "\n",
    "diff = lvec2 - lvec1\n",
    "step = diff / STEPS\n",
    "current = lvec1.copy()\n",
    "target_uint8 = np.array([1024,1024,3], dtype=np.uint8)\n",
    "\n",
    "video = imageio.get_writer(OUTPUT_PATH+'movie.mp4', mode='I', fps=FPS,codec='libx264', bitrate='16M')\n",
    "\n",
    "for j in tqdm(range(STEPS)):\n",
    "    z = torch.from_numpy(current).to(device)\n",
    "    synth_image = G.synthesis(z, noise_mode='const')\n",
    "    synth_image = (synth_image + 1) * (255/2)\n",
    "    synth_image = synth_image.permute(0, 2, 3, 1).clamp(0, 255)\\\n",
    "    .to(torch.uint8)[0].cpu().numpy()\n",
    "    repeat = FREEZE_STEPS if j==0 or j==(STEPS-1) else 1\n",
    "\n",
    "    for i in range(repeat):\n",
    "        video.append_data(synth_image)\n",
    "    current = current + step\n",
    "\n",
    "video.close()"
   ]
  }
 ],
 "metadata": {
  "kernelspec": {
   "display_name": "stylegan3",
   "language": "python",
   "name": "python3"
  },
  "language_info": {
   "codemirror_mode": {
    "name": "ipython",
    "version": 3
   },
   "file_extension": ".py",
   "mimetype": "text/x-python",
   "name": "python",
   "nbconvert_exporter": "python",
   "pygments_lexer": "ipython3",
   "version": "3.9.21"
  }
 },
 "nbformat": 4,
 "nbformat_minor": 5
}
