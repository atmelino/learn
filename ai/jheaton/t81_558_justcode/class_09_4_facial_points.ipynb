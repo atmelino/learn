{
 "cells": [
  {
   "cell_type": "code",
   "execution_count": 4,
   "id": "9736497f",
   "metadata": {},
   "outputs": [],
   "source": [
    "import logging, os\n",
    "import sys\n",
    "\n",
    "NETWORK = \"https://nvlabs-fi-cdn.nvidia.com/stylegan2-ada-pytorch/pretrained/ffhq.pkl\"\n",
    "STEPS = 150\n",
    "FPS = 30\n",
    "FREEZE_STEPS = 30\n",
    "\n",
    "BASE_PATH = \"../../../../local_data/jheaton/\"\n",
    "DATA_PATH = \"../../../../local_data/tfds/\"\n",
    "PACKAGES_PATH=\"../../../../local_data/packages/\"\n",
    "SHAPE_PRED_PATH=\"../../../../local_data/packages/shape_predictor/\"\n",
    "OUTPUT_PATH = BASE_PATH+\"class_09_4_facial_points/\"\n",
    "os.system(\"mkdir -p \" + OUTPUT_PATH)\n",
    "\n",
    "sys.path.insert(0, PACKAGES_PATH+\"stylegan2-ada-pytorch\")\n",
    "\n",
    "SOURCE_NAME= OUTPUT_PATH+\"about-jeff-heaton-2020.jpg\"\n",
    "TARGET_NAME= OUTPUT_PATH+\"thor.jpg\"\n"
   ]
  },
  {
   "cell_type": "code",
   "execution_count": 6,
   "id": "15e18651",
   "metadata": {},
   "outputs": [],
   "source": [
    "import cv2\n",
    "import numpy as np\n",
    "from PIL import Image\n",
    "import dlib\n",
    "from matplotlib import pyplot as plt\n",
    "detector = dlib.get_frontal_face_detector()\n",
    "predictor = dlib.shape_predictor(SHAPE_PRED_PATH+'shape_predictor_5_face_landmarks.dat')"
   ]
  },
  {
   "cell_type": "code",
   "execution_count": null,
   "id": "32118374",
   "metadata": {},
   "outputs": [],
   "source": [
    "img = cv2.imread(SOURCE_NAME)\n",
    "if img is None:\n",
    "    raise ValueError(\"Source image not found\")\n",
    "\n",
    "gray = cv2.cvtColor(img, cv2.COLOR_BGR2GRAY)\n",
    "rects = detector(gray, 0)\n",
    "\n",
    "if len(rects) == 0:\n",
    "    raise ValueError(\"No faces detected\")\n",
    "elif len(rects) > 1:\n",
    "    raise ValueError(\"Multiple faces detected\")\n",
    "\n",
    "shape = predictor(gray, rects[0])\n",
    "\n",
    "w = img.shape[0]//50\n",
    "\n",
    "for i in range(0, 5):\n",
    "    pt1 = (shape.part(i).x, shape.part(i).y)\n",
    "    pt2 = (shape.part(i).x+w, shape.part(i).y+w)\n",
    "    cv2.rectangle(img,pt1,pt2,(0,255,255),4)\n",
    "    print(pt1,pt2)"
   ]
  }
 ],
 "metadata": {
  "kernelspec": {
   "display_name": "jh_class",
   "language": "python",
   "name": "python3"
  },
  "language_info": {
   "codemirror_mode": {
    "name": "ipython",
    "version": 3
   },
   "file_extension": ".py",
   "mimetype": "text/x-python",
   "name": "python",
   "nbconvert_exporter": "python",
   "pygments_lexer": "ipython3",
   "version": "3.10.13"
  }
 },
 "nbformat": 4,
 "nbformat_minor": 5
}
