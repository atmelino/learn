{
 "cells": [
  {
   "cell_type": "code",
   "execution_count": null,
   "id": "5f8b4cdd",
   "metadata": {},
   "outputs": [
    {
     "name": "stderr",
     "output_type": "stream",
     "text": [
      "2025-08-07 20:34:57.885219: E external/local_xla/xla/stream_executor/cuda/cuda_dnn.cc:9261] Unable to register cuDNN factory: Attempting to register factory for plugin cuDNN when one has already been registered\n",
      "2025-08-07 20:34:57.885253: E external/local_xla/xla/stream_executor/cuda/cuda_fft.cc:607] Unable to register cuFFT factory: Attempting to register factory for plugin cuFFT when one has already been registered\n",
      "2025-08-07 20:34:57.886106: E external/local_xla/xla/stream_executor/cuda/cuda_blas.cc:1515] Unable to register cuBLAS factory: Attempting to register factory for plugin cuBLAS when one has already been registered\n",
      "2025-08-07 20:34:57.891246: I tensorflow/core/platform/cpu_feature_guard.cc:182] This TensorFlow binary is optimized to use available CPU instructions in performance-critical operations.\n",
      "To enable the following instructions: SSE4.1 SSE4.2 AVX AVX2 FMA, in other operations, rebuild TensorFlow with the appropriate compiler flags.\n",
      "2025-08-07 20:34:59.723141: I external/local_xla/xla/stream_executor/cuda/cuda_executor.cc:901] successful NUMA node read from SysFS had negative value (-1), but there must be at least one NUMA node, so returning NUMA node zero. See more at https://github.com/torvalds/linux/blob/v6.0/Documentation/ABI/testing/sysfs-bus-pci#L344-L355\n",
      "2025-08-07 20:34:59.723414: I external/local_xla/xla/stream_executor/cuda/cuda_executor.cc:901] successful NUMA node read from SysFS had negative value (-1), but there must be at least one NUMA node, so returning NUMA node zero. See more at https://github.com/torvalds/linux/blob/v6.0/Documentation/ABI/testing/sysfs-bus-pci#L344-L355\n",
      "2025-08-07 20:34:59.783965: I external/local_xla/xla/stream_executor/cuda/cuda_executor.cc:901] successful NUMA node read from SysFS had negative value (-1), but there must be at least one NUMA node, so returning NUMA node zero. See more at https://github.com/torvalds/linux/blob/v6.0/Documentation/ABI/testing/sysfs-bus-pci#L344-L355\n",
      "2025-08-07 20:34:59.784278: I external/local_xla/xla/stream_executor/cuda/cuda_executor.cc:901] successful NUMA node read from SysFS had negative value (-1), but there must be at least one NUMA node, so returning NUMA node zero. See more at https://github.com/torvalds/linux/blob/v6.0/Documentation/ABI/testing/sysfs-bus-pci#L344-L355\n",
      "2025-08-07 20:34:59.784509: I external/local_xla/xla/stream_executor/cuda/cuda_executor.cc:901] successful NUMA node read from SysFS had negative value (-1), but there must be at least one NUMA node, so returning NUMA node zero. See more at https://github.com/torvalds/linux/blob/v6.0/Documentation/ABI/testing/sysfs-bus-pci#L344-L355\n",
      "2025-08-07 20:34:59.784730: I external/local_xla/xla/stream_executor/cuda/cuda_executor.cc:901] successful NUMA node read from SysFS had negative value (-1), but there must be at least one NUMA node, so returning NUMA node zero. See more at https://github.com/torvalds/linux/blob/v6.0/Documentation/ABI/testing/sysfs-bus-pci#L344-L355\n",
      "2025-08-07 20:34:59.928409: I external/local_xla/xla/stream_executor/cuda/cuda_executor.cc:901] successful NUMA node read from SysFS had negative value (-1), but there must be at least one NUMA node, so returning NUMA node zero. See more at https://github.com/torvalds/linux/blob/v6.0/Documentation/ABI/testing/sysfs-bus-pci#L344-L355\n",
      "2025-08-07 20:34:59.928662: I external/local_xla/xla/stream_executor/cuda/cuda_executor.cc:901] successful NUMA node read from SysFS had negative value (-1), but there must be at least one NUMA node, so returning NUMA node zero. See more at https://github.com/torvalds/linux/blob/v6.0/Documentation/ABI/testing/sysfs-bus-pci#L344-L355\n",
      "2025-08-07 20:34:59.928868: I external/local_xla/xla/stream_executor/cuda/cuda_executor.cc:901] successful NUMA node read from SysFS had negative value (-1), but there must be at least one NUMA node, so returning NUMA node zero. See more at https://github.com/torvalds/linux/blob/v6.0/Documentation/ABI/testing/sysfs-bus-pci#L344-L355\n",
      "2025-08-07 20:34:59.929058: I external/local_xla/xla/stream_executor/cuda/cuda_executor.cc:901] successful NUMA node read from SysFS had negative value (-1), but there must be at least one NUMA node, so returning NUMA node zero. See more at https://github.com/torvalds/linux/blob/v6.0/Documentation/ABI/testing/sysfs-bus-pci#L344-L355\n",
      "2025-08-07 20:34:59.929244: I external/local_xla/xla/stream_executor/cuda/cuda_executor.cc:901] successful NUMA node read from SysFS had negative value (-1), but there must be at least one NUMA node, so returning NUMA node zero. See more at https://github.com/torvalds/linux/blob/v6.0/Documentation/ABI/testing/sysfs-bus-pci#L344-L355\n",
      "2025-08-07 20:34:59.929431: I external/local_xla/xla/stream_executor/cuda/cuda_executor.cc:901] successful NUMA node read from SysFS had negative value (-1), but there must be at least one NUMA node, so returning NUMA node zero. See more at https://github.com/torvalds/linux/blob/v6.0/Documentation/ABI/testing/sysfs-bus-pci#L344-L355\n",
      "2025-08-07 20:34:59.938831: I external/local_xla/xla/stream_executor/cuda/cuda_executor.cc:901] successful NUMA node read from SysFS had negative value (-1), but there must be at least one NUMA node, so returning NUMA node zero. See more at https://github.com/torvalds/linux/blob/v6.0/Documentation/ABI/testing/sysfs-bus-pci#L344-L355\n",
      "2025-08-07 20:34:59.939050: I external/local_xla/xla/stream_executor/cuda/cuda_executor.cc:901] successful NUMA node read from SysFS had negative value (-1), but there must be at least one NUMA node, so returning NUMA node zero. See more at https://github.com/torvalds/linux/blob/v6.0/Documentation/ABI/testing/sysfs-bus-pci#L344-L355\n",
      "2025-08-07 20:34:59.939259: I external/local_xla/xla/stream_executor/cuda/cuda_executor.cc:901] successful NUMA node read from SysFS had negative value (-1), but there must be at least one NUMA node, so returning NUMA node zero. See more at https://github.com/torvalds/linux/blob/v6.0/Documentation/ABI/testing/sysfs-bus-pci#L344-L355\n",
      "2025-08-07 20:34:59.939456: I external/local_xla/xla/stream_executor/cuda/cuda_executor.cc:901] successful NUMA node read from SysFS had negative value (-1), but there must be at least one NUMA node, so returning NUMA node zero. See more at https://github.com/torvalds/linux/blob/v6.0/Documentation/ABI/testing/sysfs-bus-pci#L344-L355\n",
      "2025-08-07 20:34:59.939663: I external/local_xla/xla/stream_executor/cuda/cuda_executor.cc:901] successful NUMA node read from SysFS had negative value (-1), but there must be at least one NUMA node, so returning NUMA node zero. See more at https://github.com/torvalds/linux/blob/v6.0/Documentation/ABI/testing/sysfs-bus-pci#L344-L355\n",
      "2025-08-07 20:34:59.939823: I tensorflow/core/common_runtime/gpu/gpu_device.cc:1929] Created device /job:localhost/replica:0/task:0/device:GPU:0 with 22462 MB memory:  -> device: 0, name: NVIDIA GeForce RTX 3090, pci bus id: 0000:81:00.0, compute capability: 8.6\n",
      "2025-08-07 20:34:59.940371: I external/local_xla/xla/stream_executor/cuda/cuda_executor.cc:901] successful NUMA node read from SysFS had negative value (-1), but there must be at least one NUMA node, so returning NUMA node zero. See more at https://github.com/torvalds/linux/blob/v6.0/Documentation/ABI/testing/sysfs-bus-pci#L344-L355\n",
      "2025-08-07 20:34:59.940529: I tensorflow/core/common_runtime/gpu/gpu_device.cc:1929] Created device /job:localhost/replica:0/task:0/device:GPU:1 with 22462 MB memory:  -> device: 1, name: NVIDIA GeForce RTX 3090, pci bus id: 0000:c1:00.0, compute capability: 8.6\n"
     ]
    },
    {
     "name": "stdout",
     "output_type": "stream",
     "text": [
      "b'I have been known to fall asleep during films, but this is usually due to a combination of things including, really tired, being warm and comfortable on the sette and having just eaten a lot. However on this occasion I fell asleep because the film was rubbish. The plot development was constant. Constantly slow and boring. Things seemed to happen, but with no explanation of what was causing them or why. I admit, I may have missed part of the film, but i watched the majority of it and everything just seemed to happen of its own accord without any real concern for anything else. I cant recommend this film at all.'\n"
     ]
    }
   ],
   "source": [
    "import tensorflow as tf\n",
    "import tensorflow_hub as hub\n",
    "import tensorflow_datasets as tfds\n",
    "from tensorflow.keras.callbacks import EarlyStopping\n",
    "import matplotlib.pyplot as plt\n",
    "\n",
    "train_data, test_data = tfds.load(\n",
    "    name=\"imdb_reviews\",\n",
    "    split=[\"train\", \"test\"],\n",
    "    batch_size=-1, \n",
    "    as_supervised=True\n",
    ")\n",
    "# /Users/jheaton/tensorflow_datasets/imdb_reviews/plain_text/0.1.0\n",
    "\n",
    "# print(train_data)\n",
    "\n",
    "train_examples, train_labels = tfds.as_numpy(train_data)\n",
    "test_examples, test_labels = tfds.as_numpy(test_data)\n",
    "\n",
    "index=1\n",
    "print(train_examples[index])\n",
    "# print(train_labels[index])\n",
    "\n",
    "# print(train_examples[:3])\n",
    "# print(train_labels[:3])"
   ]
  },
  {
   "cell_type": "code",
   "execution_count": 2,
   "id": "8cf8e915",
   "metadata": {},
   "outputs": [
    {
     "name": "stdout",
     "output_type": "stream",
     "text": [
      "tf.Tensor(\n",
      "[[ 1.7657859  -3.882232    3.913424   -1.5557289  -3.3362343  -1.7357956\n",
      "  -1.9954445   1.298955    5.081597   -1.1041285  -2.0503852  -0.7267516\n",
      "  -0.6567596   0.24436145 -3.7208388   2.0954835   2.2969332  -2.0689783\n",
      "  -2.9489715  -1.1315986 ]], shape=(1, 20), dtype=float32)\n"
     ]
    }
   ],
   "source": [
    "hub_model = \"https://tfhub.dev/google/tf2-preview/gnews-swivel-20dim/1\"\n",
    "hub_layer = hub.KerasLayer(\n",
    "    hub_model, \n",
    "    output_shape=[20], \n",
    "    input_shape=[],\n",
    "    dtype=tf.string, \n",
    "    trainable=True\n",
    ")\n",
    "\n",
    "# print(hub_layer(train_examples[:3]))\n",
    "print(hub_layer(train_examples[:1]))"
   ]
  },
  {
   "cell_type": "code",
   "execution_count": 3,
   "id": "9d8913ec",
   "metadata": {},
   "outputs": [
    {
     "name": "stdout",
     "output_type": "stream",
     "text": [
      "Model: \"sequential\"\n",
      "_________________________________________________________________\n",
      " Layer (type)                Output Shape              Param #   \n",
      "=================================================================\n",
      " keras_layer (KerasLayer)    (None, 20)                400020    \n",
      "                                                                 \n",
      " dense (Dense)               (None, 16)                336       \n",
      "                                                                 \n",
      " dense_1 (Dense)             (None, 1)                 17        \n",
      "                                                                 \n",
      "=================================================================\n",
      "Total params: 400373 (1.53 MB)\n",
      "Trainable params: 400373 (1.53 MB)\n",
      "Non-trainable params: 0 (0.00 Byte)\n",
      "_________________________________________________________________\n"
     ]
    }
   ],
   "source": [
    "model = tf.keras.Sequential()\n",
    "model.add(hub_layer)\n",
    "model.add(tf.keras.layers.Dense(16, activation='relu'))\n",
    "model.add(tf.keras.layers.Dense(1, activation='sigmoid'))\n",
    "model.summary()"
   ]
  },
  {
   "cell_type": "code",
   "execution_count": 4,
   "id": "fbe501dc",
   "metadata": {},
   "outputs": [],
   "source": [
    "model.compile(optimizer='adam',\n",
    "loss='binary_crossentropy',\n",
    "metrics=['accuracy'])\n",
    "init_weights = model.get_weights()"
   ]
  },
  {
   "cell_type": "code",
   "execution_count": 5,
   "id": "2e8ce925",
   "metadata": {},
   "outputs": [],
   "source": [
    "x_val = train_examples[:10000]\n",
    "partial_x_train = train_examples[10000:]\n",
    "y_val = train_labels[:10000]\n",
    "partial_y_train = train_labels[10000:]"
   ]
  },
  {
   "cell_type": "code",
   "execution_count": 6,
   "id": "1b8639ac",
   "metadata": {},
   "outputs": [
    {
     "name": "stdout",
     "output_type": "stream",
     "text": [
      "Epoch 1/40\n"
     ]
    },
    {
     "name": "stderr",
     "output_type": "stream",
     "text": [
      "2025-08-07 20:35:03.244158: I external/local_xla/xla/service/service.cc:168] XLA service 0x751a4540ed30 initialized for platform CUDA (this does not guarantee that XLA will be used). Devices:\n",
      "2025-08-07 20:35:03.244208: I external/local_xla/xla/service/service.cc:176]   StreamExecutor device (0): NVIDIA GeForce RTX 3090, Compute Capability 8.6\n",
      "2025-08-07 20:35:03.244222: I external/local_xla/xla/service/service.cc:176]   StreamExecutor device (1): NVIDIA GeForce RTX 3090, Compute Capability 8.6\n",
      "2025-08-07 20:35:03.255926: I tensorflow/compiler/mlir/tensorflow/utils/dump_mlir_util.cc:269] disabling MLIR crash reproducer, set env var `MLIR_CRASH_REPRODUCER_DIRECTORY` to enable.\n",
      "2025-08-07 20:35:03.303268: I external/local_xla/xla/stream_executor/cuda/cuda_dnn.cc:454] Loaded cuDNN version 8907\n",
      "WARNING: All log messages before absl::InitializeLog() is called are written to STDERR\n",
      "I0000 00:00:1754616903.415000  313258 device_compiler.h:186] Compiled cluster using XLA!  This line is logged at most once for the lifetime of the process.\n"
     ]
    },
    {
     "name": "stdout",
     "output_type": "stream",
     "text": [
      "30/30 [==============================] - 10s 259ms/step - loss: 1.5096 - accuracy: 0.4996 - val_loss: 0.8763 - val_accuracy: 0.4938\n",
      "Epoch 2/40\n",
      "30/30 [==============================] - 7s 234ms/step - loss: 0.7487 - accuracy: 0.4820 - val_loss: 0.6988 - val_accuracy: 0.5167\n",
      "Epoch 3/40\n",
      "30/30 [==============================] - 7s 236ms/step - loss: 0.6798 - accuracy: 0.5617 - val_loss: 0.6607 - val_accuracy: 0.6066\n",
      "Epoch 4/40\n",
      "30/30 [==============================] - 7s 238ms/step - loss: 0.6388 - accuracy: 0.6451 - val_loss: 0.6250 - val_accuracy: 0.6679\n",
      "Epoch 5/40\n",
      "30/30 [==============================] - 6s 208ms/step - loss: 0.6025 - accuracy: 0.6885 - val_loss: 0.5952 - val_accuracy: 0.6957\n",
      "Epoch 6/40\n",
      "30/30 [==============================] - 7s 225ms/step - loss: 0.5703 - accuracy: 0.7181 - val_loss: 0.5675 - val_accuracy: 0.7182\n",
      "Epoch 7/40\n",
      "30/30 [==============================] - 5s 176ms/step - loss: 0.5369 - accuracy: 0.7433 - val_loss: 0.5339 - val_accuracy: 0.7426\n",
      "Epoch 8/40\n",
      "30/30 [==============================] - 5s 151ms/step - loss: 0.4939 - accuracy: 0.7719 - val_loss: 0.4992 - val_accuracy: 0.7686\n",
      "Epoch 9/40\n",
      "30/30 [==============================] - 5s 188ms/step - loss: 0.4521 - accuracy: 0.8005 - val_loss: 0.4665 - val_accuracy: 0.7876\n",
      "Epoch 10/40\n",
      "30/30 [==============================] - 4s 148ms/step - loss: 0.4148 - accuracy: 0.8231 - val_loss: 0.4384 - val_accuracy: 0.8042\n",
      "Epoch 11/40\n",
      "30/30 [==============================] - 6s 195ms/step - loss: 0.3813 - accuracy: 0.8415 - val_loss: 0.4161 - val_accuracy: 0.8156\n",
      "Epoch 12/40\n",
      "30/30 [==============================] - 4s 138ms/step - loss: 0.3506 - accuracy: 0.8579 - val_loss: 0.3967 - val_accuracy: 0.8280\n",
      "Epoch 13/40\n",
      "30/30 [==============================] - 3s 112ms/step - loss: 0.3233 - accuracy: 0.8735 - val_loss: 0.3777 - val_accuracy: 0.8405\n",
      "Epoch 14/40\n",
      "30/30 [==============================] - 5s 152ms/step - loss: 0.2985 - accuracy: 0.8835 - val_loss: 0.3621 - val_accuracy: 0.8465\n",
      "Epoch 15/40\n",
      "30/30 [==============================] - 4s 126ms/step - loss: 0.2769 - accuracy: 0.8939 - val_loss: 0.3496 - val_accuracy: 0.8534\n",
      "Epoch 16/40\n",
      "30/30 [==============================] - 4s 124ms/step - loss: 0.2566 - accuracy: 0.9019 - val_loss: 0.3393 - val_accuracy: 0.8582\n",
      "Epoch 17/40\n",
      "30/30 [==============================] - 4s 117ms/step - loss: 0.2386 - accuracy: 0.9100 - val_loss: 0.3310 - val_accuracy: 0.8613\n",
      "Epoch 18/40\n",
      "30/30 [==============================] - 4s 145ms/step - loss: 0.2223 - accuracy: 0.9187 - val_loss: 0.3242 - val_accuracy: 0.8646\n",
      "Epoch 19/40\n",
      "30/30 [==============================] - 4s 134ms/step - loss: 0.2069 - accuracy: 0.9271 - val_loss: 0.3186 - val_accuracy: 0.8678\n",
      "Epoch 20/40\n",
      "30/30 [==============================] - 4s 128ms/step - loss: 0.1928 - accuracy: 0.9337 - val_loss: 0.3142 - val_accuracy: 0.8693\n",
      "Epoch 21/40\n",
      "30/30 [==============================] - 3s 111ms/step - loss: 0.1801 - accuracy: 0.9390 - val_loss: 0.3130 - val_accuracy: 0.8694\n",
      "Epoch 22/40\n",
      "30/30 [==============================] - 4s 126ms/step - loss: 0.1684 - accuracy: 0.9453 - val_loss: 0.3106 - val_accuracy: 0.8716\n",
      "Epoch 23/40\n",
      "30/30 [==============================] - 3s 103ms/step - loss: 0.1574 - accuracy: 0.9497 - val_loss: 0.3089 - val_accuracy: 0.8744\n",
      "Epoch 24/40\n",
      "30/30 [==============================] - 3s 114ms/step - loss: 0.1470 - accuracy: 0.9535 - val_loss: 0.3090 - val_accuracy: 0.8749\n",
      "Epoch 25/40\n",
      "30/30 [==============================] - 5s 155ms/step - loss: 0.1374 - accuracy: 0.9583 - val_loss: 0.3099 - val_accuracy: 0.8752\n",
      "Epoch 26/40\n",
      "30/30 [==============================] - 3s 103ms/step - loss: 0.1291 - accuracy: 0.9616 - val_loss: 0.3116 - val_accuracy: 0.8760\n",
      "Epoch 27/40\n",
      "30/30 [==============================] - 3s 117ms/step - loss: 0.1205 - accuracy: 0.9651 - val_loss: 0.3141 - val_accuracy: 0.8748\n",
      "Epoch 28/40\n",
      "30/30 [==============================] - ETA: 0s - loss: 0.1129 - accuracy: 0.9686Restoring model weights from the end of the best epoch: 23.\n",
      "30/30 [==============================] - 3s 109ms/step - loss: 0.1129 - accuracy: 0.9686 - val_loss: 0.3169 - val_accuracy: 0.8746\n",
      "Epoch 28: early stopping\n"
     ]
    }
   ],
   "source": [
    "monitor = EarlyStopping(\n",
    "    monitor='val_loss', \n",
    "    min_delta=1e-3,\n",
    "    patience=5, \n",
    "    verbose=1, \n",
    "    mode='auto',\n",
    "    restore_best_weights=True\n",
    ")\n",
    "\n",
    "model.set_weights(init_weights)\n",
    "\n",
    "history = model.fit(\n",
    "    partial_x_train,\n",
    "    partial_y_train,\n",
    "    epochs=40,\n",
    "    batch_size=512,\n",
    "    callbacks=[monitor],\n",
    "    validation_data=(x_val, y_val),\n",
    "    verbose=1\n",
    ")"
   ]
  },
  {
   "cell_type": "code",
   "execution_count": null,
   "id": "6bc1e78a",
   "metadata": {},
   "outputs": [
    {
     "data": {
      "image/png": "[encoded data removed]",
      "text/plain": [
       "<Figure size 640x480 with 1 Axes>"
      ]
     },
     "metadata": {},
     "output_type": "display_data"
    }
   ],
   "source": [
    "history_dict = history.history\n",
    "acc = history_dict['accuracy']\n",
    "val_acc = history_dict['val_accuracy']\n",
    "loss = history_dict['loss']\n",
    "val_loss = history_dict['val_loss']\n",
    "epochs = range(1, len(acc) + 1)\n",
    "plt.plot(epochs, loss, 'bo', label='Training loss')\n",
    "plt.plot(epochs, val_loss, 'b', label='Validation loss')\n",
    "plt.title('Training and validation loss')\n",
    "plt.xlabel('Epochs')\n",
    "plt.ylabel('Loss')\n",
    "plt.legend()\n",
    "plt.show()\n"
   ]
  },
  {
   "cell_type": "code",
   "execution_count": 8,
   "id": "a5eba8fa",
   "metadata": {},
   "outputs": [
    {
     "name": "stdout",
     "output_type": "stream",
     "text": [
      "313/313 [==============================] - 1s 3ms/step\n",
      "Accuracy: 0.8744\n"
     ]
    }
   ],
   "source": [
    "from sklearn.metrics import accuracy_score\n",
    "import numpy as np\n",
    "pred = model.predict(x_val)\n",
    "# Use 0.5 as the threshold\n",
    "predict_classes = pred.flatten()>0.5\n",
    "correct = accuracy_score(y_val,predict_classes)\n",
    "print(f\"Accuracy: {correct}\")"
   ]
  }
 ],
 "metadata": {
  "kernelspec": {
   "display_name": "jh_class",
   "language": "python",
   "name": "python3"
  },
  "language_info": {
   "codemirror_mode": {
    "name": "ipython",
    "version": 3
   },
   "file_extension": ".py",
   "mimetype": "text/x-python",
   "name": "python",
   "nbconvert_exporter": "python",
   "pygments_lexer": "ipython3",
   "version": "3.10.13"
  }
 },
 "nbformat": 4,
 "nbformat_minor": 5
}
