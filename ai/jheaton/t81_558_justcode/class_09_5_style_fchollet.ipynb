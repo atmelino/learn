{
 "cells": [
  {
   "cell_type": "markdown",
   "id": "160ff672",
   "metadata": {},
   "source": [
    "conda environment for this program:<br>\n",
    "<code>conda activate jh_class</code>"
   ]
  },
  {
   "cell_type": "code",
   "execution_count": 4,
   "id": "22f51406",
   "metadata": {},
   "outputs": [],
   "source": [
    "import os\n",
    "\n",
    "os.environ[\"KERAS_BACKEND\"] = \"tensorflow\"\n",
    "\n",
    "import keras\n",
    "import numpy as np\n",
    "import tensorflow as tf\n",
    "from keras.applications import vgg19\n",
    "from pathlib import Path\n",
    "\n",
    "BASE_PATH = \"../../../../local_data/jheaton/\"\n",
    "DATA_PATH = \"../../../../local_data/tfds/\"\n",
    "PACKAGES_PATH=\"../../../../local_data/packages/\"\n",
    "OUTPUT_PATH = BASE_PATH+\"class_09_5_style_fchollet/\"\n",
    "\n",
    "os.system(\"mkdir -p \" + OUTPUT_PATH)\n",
    "\n",
    "abs_path=str(Path.cwd())\n",
    "base_path=abs_path.split(\"github\")[0]+\"github/local_data/jheaton/class_09_5_style_transfer/\"\n",
    "# base=abs_path+\"github/local_data/jheaton/class_09_5_style_transfer/brookings.jpg\"\n",
    "base_image_path_string=\"file://\"+base_path+\"brookings.jpg\"\n",
    "style_reference_image_path_string=\"file://\"+base_path+\"van-gogh-crop.jpg\"\n"
   ]
  },
  {
   "cell_type": "code",
   "execution_count": null,
   "id": "86e8c204",
   "metadata": {},
   "outputs": [],
   "source": [
    "base_image_path = keras.utils.get_file(\"paris.jpg\", \"https://i.imgur.com/F28w3Ac.jpg\")\n",
    "style_reference_image_path = keras.utils.get_file(\n",
    "    \"starry_night.jpg\", \"https://i.imgur.com/9ooB60I.jpg\"\n",
    ")\n",
    "result_prefix = \"paris_generated\"\n",
    "\n",
    "# Weights of the different loss components\n",
    "total_variation_weight = 1e-6\n",
    "style_weight = 1e-6\n",
    "content_weight = 2.5e-8\n",
    "\n",
    "# Dimensions of the generated picture.\n",
    "width, height = keras.utils.load_img(base_image_path).size\n",
    "img_nrows = 400\n",
    "img_ncols = int(width * img_nrows / height)"
   ]
  }
 ],
 "metadata": {
  "kernelspec": {
   "display_name": "jh_class",
   "language": "python",
   "name": "python3"
  },
  "language_info": {
   "codemirror_mode": {
    "name": "ipython",
    "version": 3
   },
   "file_extension": ".py",
   "mimetype": "text/x-python",
   "name": "python",
   "nbconvert_exporter": "python",
   "pygments_lexer": "ipython3",
   "version": "3.10.13"
  }
 },
 "nbformat": 4,
 "nbformat_minor": 5
}
