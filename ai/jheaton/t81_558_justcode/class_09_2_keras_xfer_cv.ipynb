{
 "cells": [
  {
   "cell_type": "code",
   "execution_count": 1,
   "id": "250f9883",
   "metadata": {},
   "outputs": [
    {
     "name": "stderr",
     "output_type": "stream",
     "text": [
      "2025-07-26 21:20:30.724464: E external/local_xla/xla/stream_executor/cuda/cuda_dnn.cc:9261] Unable to register cuDNN factory: Attempting to register factory for plugin cuDNN when one has already been registered\n",
      "2025-07-26 21:20:30.724493: E external/local_xla/xla/stream_executor/cuda/cuda_fft.cc:607] Unable to register cuFFT factory: Attempting to register factory for plugin cuFFT when one has already been registered\n",
      "2025-07-26 21:20:30.725326: E external/local_xla/xla/stream_executor/cuda/cuda_blas.cc:1515] Unable to register cuBLAS factory: Attempting to register factory for plugin cuBLAS when one has already been registered\n",
      "2025-07-26 21:20:30.729593: I tensorflow/core/platform/cpu_feature_guard.cc:182] This TensorFlow binary is optimized to use available CPU instructions in performance-critical operations.\n",
      "To enable the following instructions: SSE4.1 SSE4.2 AVX AVX2 FMA, in other operations, rebuild TensorFlow with the appropriate compiler flags.\n",
      "2025-07-26 21:20:32.320582: I external/local_xla/xla/stream_executor/cuda/cuda_executor.cc:901] successful NUMA node read from SysFS had negative value (-1), but there must be at least one NUMA node, so returning NUMA node zero. See more at https://github.com/torvalds/linux/blob/v6.0/Documentation/ABI/testing/sysfs-bus-pci#L344-L355\n"
     ]
    },
    {
     "name": "stdout",
     "output_type": "stream",
     "text": [
      "Number of training samples: 9305\n",
      "Number of validation samples: 2326\n"
     ]
    },
    {
     "name": "stderr",
     "output_type": "stream",
     "text": [
      "2025-07-26 21:20:32.320859: I external/local_xla/xla/stream_executor/cuda/cuda_executor.cc:901] successful NUMA node read from SysFS had negative value (-1), but there must be at least one NUMA node, so returning NUMA node zero. See more at https://github.com/torvalds/linux/blob/v6.0/Documentation/ABI/testing/sysfs-bus-pci#L344-L355\n",
      "2025-07-26 21:20:32.382168: I external/local_xla/xla/stream_executor/cuda/cuda_executor.cc:901] successful NUMA node read from SysFS had negative value (-1), but there must be at least one NUMA node, so returning NUMA node zero. See more at https://github.com/torvalds/linux/blob/v6.0/Documentation/ABI/testing/sysfs-bus-pci#L344-L355\n",
      "2025-07-26 21:20:32.382463: I external/local_xla/xla/stream_executor/cuda/cuda_executor.cc:901] successful NUMA node read from SysFS had negative value (-1), but there must be at least one NUMA node, so returning NUMA node zero. See more at https://github.com/torvalds/linux/blob/v6.0/Documentation/ABI/testing/sysfs-bus-pci#L344-L355\n",
      "2025-07-26 21:20:32.382682: I external/local_xla/xla/stream_executor/cuda/cuda_executor.cc:901] successful NUMA node read from SysFS had negative value (-1), but there must be at least one NUMA node, so returning NUMA node zero. See more at https://github.com/torvalds/linux/blob/v6.0/Documentation/ABI/testing/sysfs-bus-pci#L344-L355\n",
      "2025-07-26 21:20:32.382888: I external/local_xla/xla/stream_executor/cuda/cuda_executor.cc:901] successful NUMA node read from SysFS had negative value (-1), but there must be at least one NUMA node, so returning NUMA node zero. See more at https://github.com/torvalds/linux/blob/v6.0/Documentation/ABI/testing/sysfs-bus-pci#L344-L355\n",
      "2025-07-26 21:20:32.531218: I external/local_xla/xla/stream_executor/cuda/cuda_executor.cc:901] successful NUMA node read from SysFS had negative value (-1), but there must be at least one NUMA node, so returning NUMA node zero. See more at https://github.com/torvalds/linux/blob/v6.0/Documentation/ABI/testing/sysfs-bus-pci#L344-L355\n",
      "2025-07-26 21:20:32.531474: I external/local_xla/xla/stream_executor/cuda/cuda_executor.cc:901] successful NUMA node read from SysFS had negative value (-1), but there must be at least one NUMA node, so returning NUMA node zero. See more at https://github.com/torvalds/linux/blob/v6.0/Documentation/ABI/testing/sysfs-bus-pci#L344-L355\n",
      "2025-07-26 21:20:32.531689: I external/local_xla/xla/stream_executor/cuda/cuda_executor.cc:901] successful NUMA node read from SysFS had negative value (-1), but there must be at least one NUMA node, so returning NUMA node zero. See more at https://github.com/torvalds/linux/blob/v6.0/Documentation/ABI/testing/sysfs-bus-pci#L344-L355\n",
      "2025-07-26 21:20:32.531886: I external/local_xla/xla/stream_executor/cuda/cuda_executor.cc:901] successful NUMA node read from SysFS had negative value (-1), but there must be at least one NUMA node, so returning NUMA node zero. See more at https://github.com/torvalds/linux/blob/v6.0/Documentation/ABI/testing/sysfs-bus-pci#L344-L355\n",
      "2025-07-26 21:20:32.532104: I external/local_xla/xla/stream_executor/cuda/cuda_executor.cc:901] successful NUMA node read from SysFS had negative value (-1), but there must be at least one NUMA node, so returning NUMA node zero. See more at https://github.com/torvalds/linux/blob/v6.0/Documentation/ABI/testing/sysfs-bus-pci#L344-L355\n",
      "2025-07-26 21:20:32.532302: I external/local_xla/xla/stream_executor/cuda/cuda_executor.cc:901] successful NUMA node read from SysFS had negative value (-1), but there must be at least one NUMA node, so returning NUMA node zero. See more at https://github.com/torvalds/linux/blob/v6.0/Documentation/ABI/testing/sysfs-bus-pci#L344-L355\n",
      "2025-07-26 21:20:32.542131: I external/local_xla/xla/stream_executor/cuda/cuda_executor.cc:901] successful NUMA node read from SysFS had negative value (-1), but there must be at least one NUMA node, so returning NUMA node zero. See more at https://github.com/torvalds/linux/blob/v6.0/Documentation/ABI/testing/sysfs-bus-pci#L344-L355\n",
      "2025-07-26 21:20:32.542359: I external/local_xla/xla/stream_executor/cuda/cuda_executor.cc:901] successful NUMA node read from SysFS had negative value (-1), but there must be at least one NUMA node, so returning NUMA node zero. See more at https://github.com/torvalds/linux/blob/v6.0/Documentation/ABI/testing/sysfs-bus-pci#L344-L355\n",
      "2025-07-26 21:20:32.542572: I external/local_xla/xla/stream_executor/cuda/cuda_executor.cc:901] successful NUMA node read from SysFS had negative value (-1), but there must be at least one NUMA node, so returning NUMA node zero. See more at https://github.com/torvalds/linux/blob/v6.0/Documentation/ABI/testing/sysfs-bus-pci#L344-L355\n",
      "2025-07-26 21:20:32.542770: I external/local_xla/xla/stream_executor/cuda/cuda_executor.cc:901] successful NUMA node read from SysFS had negative value (-1), but there must be at least one NUMA node, so returning NUMA node zero. See more at https://github.com/torvalds/linux/blob/v6.0/Documentation/ABI/testing/sysfs-bus-pci#L344-L355\n",
      "2025-07-26 21:20:32.542977: I external/local_xla/xla/stream_executor/cuda/cuda_executor.cc:901] successful NUMA node read from SysFS had negative value (-1), but there must be at least one NUMA node, so returning NUMA node zero. See more at https://github.com/torvalds/linux/blob/v6.0/Documentation/ABI/testing/sysfs-bus-pci#L344-L355\n",
      "2025-07-26 21:20:32.543152: I tensorflow/core/common_runtime/gpu/gpu_device.cc:1929] Created device /job:localhost/replica:0/task:0/device:GPU:0 with 22462 MB memory:  -> device: 0, name: NVIDIA GeForce RTX 3090, pci bus id: 0000:81:00.0, compute capability: 8.6\n",
      "2025-07-26 21:20:32.543571: I external/local_xla/xla/stream_executor/cuda/cuda_executor.cc:901] successful NUMA node read from SysFS had negative value (-1), but there must be at least one NUMA node, so returning NUMA node zero. See more at https://github.com/torvalds/linux/blob/v6.0/Documentation/ABI/testing/sysfs-bus-pci#L344-L355\n",
      "2025-07-26 21:20:32.543731: I tensorflow/core/common_runtime/gpu/gpu_device.cc:1929] Created device /job:localhost/replica:0/task:0/device:GPU:1 with 22462 MB memory:  -> device: 1, name: NVIDIA GeForce RTX 3090, pci bus id: 0000:c1:00.0, compute capability: 8.6\n"
     ]
    }
   ],
   "source": [
    "import tensorflow_datasets as tfds\n",
    "import tensorflow as tf\n",
    "import logging, os\n",
    "from tensorflow import keras\n",
    "from tensorflow.keras import layers\n",
    "\n",
    "BASE_PATH = \"../../../../local_data/jheaton/\"\n",
    "DATA_PATH = \"../../../../local_data/tfds/\"\n",
    "OUTPUT_PATH = BASE_PATH+\"class_09_2_keras_xfer_cv/\"\n",
    "os.system(\"mkdir -p \" + OUTPUT_PATH)\n",
    "\n",
    "\n",
    "train_ds, validation_ds = tfds.load(\n",
    "    \"cats_vs_dogs\",\n",
    "    data_dir=DATA_PATH,\n",
    "    split=[\"train[:40%]\", \"train[40%:50%]\"],\n",
    "    as_supervised=True,  # Include labels\n",
    ")\n",
    "\n",
    "num_train = tf.data.experimental.cardinality(train_ds)\n",
    "num_test = tf.data.experimental.cardinality(validation_ds)\n",
    "\n",
    "print(f\"Number of training samples: {num_train}\")\n",
    "print(f\"Number of validation samples: {num_test}\")"
   ]
  },
  {
   "cell_type": "code",
   "execution_count": 2,
   "id": "ff866dbc",
   "metadata": {},
   "outputs": [],
   "source": [
    "# import matplotlib.pyplot as plt\n",
    "\n",
    "# plt.figure(figsize=(10, 10))\n",
    "# for i, (image, label) in enumerate(train_ds.take(9)):\n",
    "#     ax = plt.subplot(3, 3, i + 1)\n",
    "#     plt.imshow(image)\n",
    "#     plt.title(int(label))\n",
    "#     plt.axis(\"off\")"
   ]
  },
  {
   "cell_type": "code",
   "execution_count": 3,
   "id": "f83ac3f7",
   "metadata": {},
   "outputs": [],
   "source": [
    "size = (150, 150)\n",
    "\n",
    "train_ds = train_ds.map(lambda x, y: (tf.image.resize(x, size), y))\n",
    "validation_ds = validation_ds.map(lambda x, y: \\\n",
    "                                  (tf.image.resize(x, size), y))\n",
    "\n",
    "batch_size = 32\n",
    "\n",
    "train_ds = train_ds.cache().batch(batch_size).prefetch(buffer_size=10)\n",
    "validation_ds = validation_ds.cache() \\\n",
    "    .batch(batch_size).prefetch(buffer_size=10)\n",
    "\n",
    "data_augmentation = keras.Sequential(\n",
    "    [layers.RandomFlip(\"horizontal\"), layers.RandomRotation(0.1),]\n",
    ")"
   ]
  },
  {
   "cell_type": "code",
   "execution_count": 4,
   "id": "daaab9ed",
   "metadata": {},
   "outputs": [
    {
     "name": "stdout",
     "output_type": "stream",
     "text": [
      "Model: \"model\"\n",
      "_________________________________________________________________\n",
      " Layer (type)                Output Shape              Param #   \n",
      "=================================================================\n",
      " input_2 (InputLayer)        [(None, 150, 150, 3)]     0         \n",
      "                                                                 \n",
      " sequential (Sequential)     (None, 150, 150, 3)       0         \n",
      "                                                                 \n",
      " rescaling (Rescaling)       (None, 150, 150, 3)       0         \n",
      "                                                                 \n",
      " xception (Functional)       (None, 5, 5, 2048)        20861480  \n",
      "                                                                 \n",
      " global_average_pooling2d (  (None, 2048)              0         \n",
      " GlobalAveragePooling2D)                                         \n",
      "                                                                 \n",
      " dropout (Dropout)           (None, 2048)              0         \n",
      "                                                                 \n",
      " dense (Dense)               (None, 1)                 2049      \n",
      "                                                                 \n",
      "=================================================================\n",
      "Total params: 20863529 (79.59 MB)\n",
      "Trainable params: 2049 (8.00 KB)\n",
      "Non-trainable params: 20861480 (79.58 MB)\n",
      "_________________________________________________________________\n"
     ]
    }
   ],
   "source": [
    "base_model = keras.applications.Xception(\n",
    "    weights=\"imagenet\",  # Load weights pre-trained on ImageNet.\n",
    "    input_shape=(150, 150, 3),\n",
    "    include_top=False,\n",
    ")  # Do not include the ImageNet classifier at the top.\n",
    "\n",
    "# Freeze the base_model\n",
    "base_model.trainable = False\n",
    "\n",
    "# Create new model on top\n",
    "inputs = keras.Input(shape=(150, 150, 3))\n",
    "x = data_augmentation(inputs)  # Apply random data augmentation\n",
    "\n",
    "# Pre-trained Xception weights requires that input be scaled\n",
    "# from (0, 255) to a range of (-1., +1.), the rescaling layer\n",
    "# outputs: `(inputs * scale) + offset`\n",
    "scale_layer = keras.layers.Rescaling(scale=1 / 127.5, offset=-1)\n",
    "x = scale_layer(x)\n",
    "\n",
    "# The base model contains batchnorm layers. \n",
    "# We want to keep them in inference mode\n",
    "# when we unfreeze the base model for fine-tuning, \n",
    "# so we make sure that the\n",
    "# base_model is running in inference mode here.\n",
    "x = base_model(x, training=False)\n",
    "x = keras.layers.GlobalAveragePooling2D()(x)\n",
    "x = keras.layers.Dropout(0.2)(x)  # Regularize with dropout\n",
    "outputs = keras.layers.Dense(1)(x)\n",
    "model = keras.Model(inputs, outputs)\n",
    "\n",
    "model.summary()"
   ]
  },
  {
   "cell_type": "code",
   "execution_count": 5,
   "id": "2afc6a30",
   "metadata": {},
   "outputs": [
    {
     "name": "stdout",
     "output_type": "stream",
     "text": [
      "Epoch 1/20\n"
     ]
    },
    {
     "name": "stderr",
     "output_type": "stream",
     "text": [
      "2025-07-26 21:20:36.432212: I external/local_xla/xla/stream_executor/cuda/cuda_dnn.cc:454] Loaded cuDNN version 8907\n",
      "2025-07-26 21:20:38.177432: I external/local_xla/xla/service/service.cc:168] XLA service 0x773d00da2af0 initialized for platform CUDA (this does not guarantee that XLA will be used). Devices:\n",
      "2025-07-26 21:20:38.177483: I external/local_xla/xla/service/service.cc:176]   StreamExecutor device (0): NVIDIA GeForce RTX 3090, Compute Capability 8.6\n",
      "2025-07-26 21:20:38.177501: I external/local_xla/xla/service/service.cc:176]   StreamExecutor device (1): NVIDIA GeForce RTX 3090, Compute Capability 8.6\n",
      "2025-07-26 21:20:38.188865: I tensorflow/compiler/mlir/tensorflow/utils/dump_mlir_util.cc:269] disabling MLIR crash reproducer, set env var `MLIR_CRASH_REPRODUCER_DIRECTORY` to enable.\n",
      "WARNING: All log messages before absl::InitializeLog() is called are written to STDERR\n",
      "I0000 00:00:1753582838.316589  300393 device_compiler.h:186] Compiled cluster using XLA!  This line is logged at most once for the lifetime of the process.\n"
     ]
    },
    {
     "name": "stdout",
     "output_type": "stream",
     "text": [
      "142/291 [=============>................] - ETA: 2s - loss: 0.2035 - binary_accuracy: 0.9082"
     ]
    },
    {
     "name": "stderr",
     "output_type": "stream",
     "text": [
      "Corrupt JPEG data: 65 extraneous bytes before marker 0xd9\n"
     ]
    },
    {
     "name": "stdout",
     "output_type": "stream",
     "text": [
      "259/291 [=========================>....] - ETA: 0s - loss: 0.1667 - binary_accuracy: 0.9270"
     ]
    },
    {
     "name": "stderr",
     "output_type": "stream",
     "text": [
      "Corrupt JPEG data: 239 extraneous bytes before marker 0xd9\n"
     ]
    },
    {
     "name": "stdout",
     "output_type": "stream",
     "text": [
      "274/291 [===========================>..] - ETA: 0s - loss: 0.1631 - binary_accuracy: 0.9287"
     ]
    },
    {
     "name": "stderr",
     "output_type": "stream",
     "text": [
      "Corrupt JPEG data: 1153 extraneous bytes before marker 0xd9\n",
      "Corrupt JPEG data: 228 extraneous bytes before marker 0xd9\n"
     ]
    },
    {
     "name": "stdout",
     "output_type": "stream",
     "text": [
      "291/291 [==============================] - ETA: 0s - loss: 0.1604 - binary_accuracy: 0.9299"
     ]
    },
    {
     "name": "stderr",
     "output_type": "stream",
     "text": [
      "Corrupt JPEG data: 2226 extraneous bytes before marker 0xd9\n"
     ]
    },
    {
     "name": "stdout",
     "output_type": "stream",
     "text": [
      "291/291 [==============================] - 11s 26ms/step - loss: 0.1604 - binary_accuracy: 0.9299 - val_loss: 0.0822 - val_binary_accuracy: 0.9673\n",
      "Epoch 2/20\n",
      "291/291 [==============================] - 6s 21ms/step - loss: 0.1109 - binary_accuracy: 0.9534 - val_loss: 0.0766 - val_binary_accuracy: 0.9721\n",
      "Epoch 3/20\n",
      "291/291 [==============================] - 6s 21ms/step - loss: 0.1121 - binary_accuracy: 0.9527 - val_loss: 0.0759 - val_binary_accuracy: 0.9699\n",
      "Epoch 4/20\n",
      "291/291 [==============================] - 6s 21ms/step - loss: 0.1060 - binary_accuracy: 0.9564 - val_loss: 0.0753 - val_binary_accuracy: 0.9682\n",
      "Epoch 5/20\n",
      "291/291 [==============================] - 6s 21ms/step - loss: 0.1018 - binary_accuracy: 0.9578 - val_loss: 0.0761 - val_binary_accuracy: 0.9695\n",
      "Epoch 6/20\n",
      "291/291 [==============================] - 6s 21ms/step - loss: 0.1055 - binary_accuracy: 0.9564 - val_loss: 0.0728 - val_binary_accuracy: 0.9742\n",
      "Epoch 7/20\n",
      "291/291 [==============================] - 6s 21ms/step - loss: 0.0966 - binary_accuracy: 0.9595 - val_loss: 0.0814 - val_binary_accuracy: 0.9703\n",
      "Epoch 8/20\n",
      "291/291 [==============================] - 6s 21ms/step - loss: 0.0982 - binary_accuracy: 0.9591 - val_loss: 0.0752 - val_binary_accuracy: 0.9729\n",
      "Epoch 9/20\n",
      "291/291 [==============================] - 6s 21ms/step - loss: 0.0901 - binary_accuracy: 0.9624 - val_loss: 0.0753 - val_binary_accuracy: 0.9712\n",
      "Epoch 10/20\n",
      "291/291 [==============================] - 6s 21ms/step - loss: 0.0969 - binary_accuracy: 0.9613 - val_loss: 0.0701 - val_binary_accuracy: 0.9733\n",
      "Epoch 11/20\n",
      "291/291 [==============================] - 6s 21ms/step - loss: 0.0917 - binary_accuracy: 0.9612 - val_loss: 0.0734 - val_binary_accuracy: 0.9716\n",
      "Epoch 12/20\n",
      "291/291 [==============================] - 6s 21ms/step - loss: 0.0909 - binary_accuracy: 0.9636 - val_loss: 0.0686 - val_binary_accuracy: 0.9742\n",
      "Epoch 13/20\n",
      "291/291 [==============================] - 6s 21ms/step - loss: 0.0961 - binary_accuracy: 0.9607 - val_loss: 0.0715 - val_binary_accuracy: 0.9721\n",
      "Epoch 14/20\n",
      "291/291 [==============================] - 6s 21ms/step - loss: 0.0936 - binary_accuracy: 0.9614 - val_loss: 0.0724 - val_binary_accuracy: 0.9716\n",
      "Epoch 15/20\n",
      "291/291 [==============================] - 6s 21ms/step - loss: 0.0910 - binary_accuracy: 0.9658 - val_loss: 0.0691 - val_binary_accuracy: 0.9738\n",
      "Epoch 16/20\n",
      "291/291 [==============================] - 6s 21ms/step - loss: 0.0880 - binary_accuracy: 0.9623 - val_loss: 0.0731 - val_binary_accuracy: 0.9729\n",
      "Epoch 17/20\n",
      "291/291 [==============================] - 6s 21ms/step - loss: 0.0963 - binary_accuracy: 0.9608 - val_loss: 0.0743 - val_binary_accuracy: 0.9703\n",
      "Epoch 18/20\n",
      "291/291 [==============================] - 6s 21ms/step - loss: 0.0902 - binary_accuracy: 0.9658 - val_loss: 0.0706 - val_binary_accuracy: 0.9733\n",
      "Epoch 19/20\n",
      "291/291 [==============================] - 6s 21ms/step - loss: 0.0979 - binary_accuracy: 0.9622 - val_loss: 0.0715 - val_binary_accuracy: 0.9733\n",
      "Epoch 20/20\n",
      "291/291 [==============================] - 6s 21ms/step - loss: 0.0890 - binary_accuracy: 0.9621 - val_loss: 0.0703 - val_binary_accuracy: 0.9729\n"
     ]
    },
    {
     "data": {
      "text/plain": [
       "<keras.src.callbacks.History at 0x77425dfae5c0>"
      ]
     },
     "execution_count": 5,
     "metadata": {},
     "output_type": "execute_result"
    }
   ],
   "source": [
    "model.compile(\n",
    "    optimizer=keras.optimizers.Adam(),\n",
    "    loss=keras.losses.BinaryCrossentropy(from_logits=True), \n",
    "    metrics=[keras.metrics.BinaryAccuracy()],\n",
    ")\n",
    "\n",
    "epochs = 20\n",
    "model.fit(train_ds, epochs=epochs, validation_data=validation_ds)"
   ]
  },
  {
   "cell_type": "code",
   "execution_count": 6,
   "id": "70335d1e",
   "metadata": {},
   "outputs": [
    {
     "name": "stdout",
     "output_type": "stream",
     "text": [
      "Model: \"model\"\n",
      "_________________________________________________________________\n",
      " Layer (type)                Output Shape              Param #   \n",
      "=================================================================\n",
      " input_2 (InputLayer)        [(None, 150, 150, 3)]     0         \n",
      "                                                                 \n",
      " sequential (Sequential)     (None, 150, 150, 3)       0         \n",
      "                                                                 \n",
      " rescaling (Rescaling)       (None, 150, 150, 3)       0         \n",
      "                                                                 \n",
      " xception (Functional)       (None, 5, 5, 2048)        20861480  \n",
      "                                                                 \n",
      " global_average_pooling2d (  (None, 2048)              0         \n",
      " GlobalAveragePooling2D)                                         \n",
      "                                                                 \n",
      " dropout (Dropout)           (None, 2048)              0         \n",
      "                                                                 \n",
      " dense (Dense)               (None, 1)                 2049      \n",
      "                                                                 \n",
      "=================================================================\n",
      "Total params: 20863529 (79.59 MB)\n",
      "Trainable params: 20809001 (79.38 MB)\n",
      "Non-trainable params: 54528 (213.00 KB)\n",
      "_________________________________________________________________\n",
      "Epoch 1/10\n",
      "291/291 [==============================] - 40s 71ms/step - loss: 0.0773 - binary_accuracy: 0.9718 - val_loss: 0.0556 - val_binary_accuracy: 0.9776\n",
      "Epoch 2/10\n",
      "291/291 [==============================] - 18s 62ms/step - loss: 0.0537 - binary_accuracy: 0.9778 - val_loss: 0.0574 - val_binary_accuracy: 0.9772\n",
      "Epoch 3/10\n",
      "291/291 [==============================] - 18s 61ms/step - loss: 0.0430 - binary_accuracy: 0.9842 - val_loss: 0.0514 - val_binary_accuracy: 0.9798\n",
      "Epoch 4/10\n",
      "291/291 [==============================] - 18s 62ms/step - loss: 0.0339 - binary_accuracy: 0.9871 - val_loss: 0.0587 - val_binary_accuracy: 0.9802\n",
      "Epoch 5/10\n",
      "291/291 [==============================] - 18s 62ms/step - loss: 0.0318 - binary_accuracy: 0.9884 - val_loss: 0.0530 - val_binary_accuracy: 0.9802\n",
      "Epoch 6/10\n",
      "291/291 [==============================] - 18s 62ms/step - loss: 0.0248 - binary_accuracy: 0.9917 - val_loss: 0.0501 - val_binary_accuracy: 0.9798\n",
      "Epoch 7/10\n",
      "291/291 [==============================] - 18s 63ms/step - loss: 0.0215 - binary_accuracy: 0.9920 - val_loss: 0.0532 - val_binary_accuracy: 0.9811\n",
      "Epoch 8/10\n",
      "291/291 [==============================] - 18s 62ms/step - loss: 0.0137 - binary_accuracy: 0.9948 - val_loss: 0.0628 - val_binary_accuracy: 0.9815\n",
      "Epoch 9/10\n",
      "291/291 [==============================] - 18s 62ms/step - loss: 0.0135 - binary_accuracy: 0.9946 - val_loss: 0.0698 - val_binary_accuracy: 0.9798\n",
      "Epoch 10/10\n",
      "291/291 [==============================] - 18s 62ms/step - loss: 0.0164 - binary_accuracy: 0.9940 - val_loss: 0.0505 - val_binary_accuracy: 0.9815\n"
     ]
    },
    {
     "data": {
      "text/plain": [
       "<keras.src.callbacks.History at 0x7741e9b05a20>"
      ]
     },
     "execution_count": 6,
     "metadata": {},
     "output_type": "execute_result"
    }
   ],
   "source": [
    "# Unfreeze the base_model. Note that it keeps running in inference mode\n",
    "# since we passed `training=False` when calling it. This means that\n",
    "# the batchnorm layers will not update their batch statistics.\n",
    "# This prevents the batchnorm layers from undoing all the training\n",
    "# we've done so far.\n",
    "base_model.trainable = True\n",
    "model.summary()\n",
    "model.compile(\n",
    "optimizer=keras.optimizers.Adam(1e-5), # Low learning rate\n",
    "loss=keras.losses.BinaryCrossentropy(from_logits=True),\n",
    "metrics=[keras.metrics.BinaryAccuracy()],\n",
    ")\n",
    "epochs = 10\n",
    "model.fit(train_ds, epochs=epochs, validation_data=validation_ds)\n"
   ]
  }
 ],
 "metadata": {
  "kernelspec": {
   "display_name": "jh_class",
   "language": "python",
   "name": "python3"
  },
  "language_info": {
   "codemirror_mode": {
    "name": "ipython",
    "version": 3
   },
   "file_extension": ".py",
   "mimetype": "text/x-python",
   "name": "python",
   "nbconvert_exporter": "python",
   "pygments_lexer": "ipython3",
   "version": "3.10.13"
  }
 },
 "nbformat": 4,
 "nbformat_minor": 5
}
