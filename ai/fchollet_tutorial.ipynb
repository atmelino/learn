{
 "cells": [
  {
   "cell_type": "markdown",
   "id": "c4301fb1",
   "metadata": {},
   "source": [
    "https://keras.io/guides/transfer_learning/#the-typical-transferlearning-workflow\n",
    "\n",
    "Transfer learning & fine-tuning"
   ]
  },
  {
   "cell_type": "code",
   "execution_count": 23,
   "id": "c32ea6bb",
   "metadata": {},
   "outputs": [],
   "source": [
    "import numpy as np\n",
    "import tensorflow as tf\n",
    "import keras\n",
    "from keras import layers\n",
    "import tensorflow_datasets as tfds\n",
    "import matplotlib.pyplot as plt"
   ]
  },
  {
   "cell_type": "code",
   "execution_count": 31,
   "id": "a5a79fc5",
   "metadata": {},
   "outputs": [
    {
     "name": "stdout",
     "output_type": "stream",
     "text": [
      "weights: 0\n",
      "weights: 2\n",
      "trainable_weights: 2\n",
      "non_trainable_weights: 0\n"
     ]
    },
    {
     "data": {
      "text/plain": [
       "[<tf.Variable 'kernel:0' shape=(3, 1) dtype=float32, numpy=\n",
       " array([[ 0.6758677],\n",
       "        [-1.0589191],\n",
       "        [-1.0545548]], dtype=float32)>,\n",
       " <tf.Variable 'bias:0' shape=(1,) dtype=float32, numpy=array([0.], dtype=float32)>]"
      ]
     },
     "execution_count": 31,
     "metadata": {},
     "output_type": "execute_result"
    }
   ],
   "source": [
    "layer = layers.Dense(1)\n",
    "print(\"weights:\", len(layer.weights))\n",
    "\n",
    "layer.build((None, 3))  # Create the weights\n",
    "\n",
    "print(\"weights:\", len(layer.weights))\n",
    "print(\"trainable_weights:\", len(layer.trainable_weights))\n",
    "print(\"non_trainable_weights:\", len(layer.non_trainable_weights))\n",
    "layer.weights"
   ]
  },
  {
   "cell_type": "code",
   "execution_count": 40,
   "id": "e8d69d36",
   "metadata": {},
   "outputs": [
    {
     "name": "stdout",
     "output_type": "stream",
     "text": [
      "weights: 0\n",
      "tf.Tensor(\n",
      "[[0.83203757 0.39069557 0.59502244 0.16532624]\n",
      " [0.6601567  0.63252306 0.6119627  0.24258316]], shape=(2, 4), dtype=float32)\n",
      "weights: 0\n",
      "weights: 2\n"
     ]
    },
    {
     "data": {
      "text/plain": [
       "[<tf.Variable 'dense_30/kernel:0' shape=(4, 3) dtype=float32, numpy=\n",
       " array([[-0.12179631,  0.70508564,  0.42845058],\n",
       "        [ 0.38877916, -0.63593096,  0.71680593],\n",
       "        [ 0.81378055,  0.1370902 , -0.886665  ],\n",
       "        [ 0.2338264 ,  0.7273531 , -0.67388684]], dtype=float32)>,\n",
       " <tf.Variable 'dense_30/bias:0' shape=(3,) dtype=float32, numpy=array([0., 0., 0.], dtype=float32)>]"
      ]
     },
     "execution_count": 40,
     "metadata": {},
     "output_type": "execute_result"
    }
   ],
   "source": [
    "# https://keras.io/api/layers/\n",
    "\n",
    "layer = layers.Dense(3, activation='relu')\n",
    "print(\"weights:\", len(layer.weights))\n",
    "inputs = tf.random.uniform(shape=(2, 4))\n",
    "print(inputs)\n",
    "print(\"weights:\", len(layer.weights))\n",
    "outputs = layer(inputs)\n",
    "print(\"weights:\", len(layer.weights))\n",
    "\n",
    "layer.weights"
   ]
  },
  {
   "cell_type": "code",
   "execution_count": 26,
   "id": "fb20fe75",
   "metadata": {},
   "outputs": [
    {
     "name": "stdout",
     "output_type": "stream",
     "text": [
      "weights: 4\n",
      "trainable_weights: 2\n",
      "non_trainable_weights: 2\n"
     ]
    }
   ],
   "source": [
    "layer = keras.layers.BatchNormalization()\n",
    "layer.build((None, 4))  # Create the weights\n",
    "\n",
    "print(\"weights:\", len(layer.weights))\n",
    "print(\"trainable_weights:\", len(layer.trainable_weights))\n",
    "print(\"non_trainable_weights:\", len(layer.non_trainable_weights))"
   ]
  },
  {
   "cell_type": "code",
   "execution_count": null,
   "id": "5a24117b",
   "metadata": {},
   "outputs": [
    {
     "name": "stdout",
     "output_type": "stream",
     "text": [
      "len weights: 2\n",
      "weights: [<tf.Variable 'kernel:0' shape=(4, 3) dtype=float32, numpy=\n",
      "array([[ 0.84600973,  0.58557653, -0.25327557],\n",
      "       [-0.78375363,  0.89454293,  0.7059549 ],\n",
      "       [ 0.7317718 ,  0.43506908, -0.2673062 ],\n",
      "       [ 0.51457655,  0.70768857, -0.7440595 ]], dtype=float32)>, <tf.Variable 'bias:0' shape=(3,) dtype=float32, numpy=array([0., 0., 0.], dtype=float32)>]\n"
     ]
    },
    {
     "ename": "TypeError",
     "evalue": "list indices must be integers or slices, not str",
     "output_type": "error",
     "traceback": [
      "\u001b[0;31m---------------------------------------------------------------------------\u001b[0m",
      "\u001b[0;31mTypeError\u001b[0m                                 Traceback (most recent call last)",
      "Cell \u001b[0;32mIn[46], line 7\u001b[0m\n\u001b[1;32m      5\u001b[0m \u001b[38;5;28mprint\u001b[39m(\u001b[38;5;124m\"\u001b[39m\u001b[38;5;124mlen weights:\u001b[39m\u001b[38;5;124m\"\u001b[39m, \u001b[38;5;28mlen\u001b[39m(layer\u001b[38;5;241m.\u001b[39mweights))\n\u001b[1;32m      6\u001b[0m \u001b[38;5;28mprint\u001b[39m(\u001b[38;5;124m\"\u001b[39m\u001b[38;5;124mweights:\u001b[39m\u001b[38;5;124m\"\u001b[39m, layer\u001b[38;5;241m.\u001b[39mweights)\n\u001b[0;32m----> 7\u001b[0m \u001b[38;5;28mprint\u001b[39m(\u001b[38;5;124m\"\u001b[39m\u001b[38;5;124mweights:\u001b[39m\u001b[38;5;124m\"\u001b[39m, \u001b[43mlayer\u001b[49m\u001b[38;5;241;43m.\u001b[39;49m\u001b[43mweights\u001b[49m\u001b[43m[\u001b[49m\u001b[38;5;124;43m'\u001b[39;49m\u001b[38;5;124;43mnumpy\u001b[39;49m\u001b[38;5;124;43m'\u001b[39;49m\u001b[43m]\u001b[49m)\n\u001b[1;32m      8\u001b[0m \u001b[38;5;66;03m# print(\"weights shape:\", layer.weights.shape)\u001b[39;00m\n\u001b[1;32m      9\u001b[0m \u001b[38;5;28mprint\u001b[39m(\u001b[38;5;124m\"\u001b[39m\u001b[38;5;124mtrainable_weights:\u001b[39m\u001b[38;5;124m\"\u001b[39m, \u001b[38;5;28mlen\u001b[39m(layer\u001b[38;5;241m.\u001b[39mtrainable_weights))\n",
      "\u001b[0;31mTypeError\u001b[0m: list indices must be integers or slices, not str"
     ]
    }
   ],
   "source": [
    "layer = keras.layers.Dense(3)\n",
    "layer.build((None, 4))  # Create the weights\n",
    "layer.trainable = False  # Freeze the layer\n",
    "\n",
    "print(\"len weights:\", len(layer.weights))\n",
    "print(\"weights:\", layer.weights)\n",
    "# print(\"weights:\", layer.weights['numpy'])\n",
    "# print(\"weights shape:\", layer.weights.shape)\n",
    "print(\"trainable_weights:\", len(layer.trainable_weights))\n",
    "print(\"non_trainable_weights:\", len(layer.non_trainable_weights))"
   ]
  },
  {
   "cell_type": "code",
   "execution_count": 43,
   "id": "e4e38b60",
   "metadata": {},
   "outputs": [
    {
     "name": "stdout",
     "output_type": "stream",
     "text": [
      "[array([[ 0.81651115, -0.14896321,  0.41293025],\n",
      "       [-0.48288417, -0.6943476 ,  0.613925  ],\n",
      "       [ 0.8249855 ,  0.8214996 ,  0.23485398]], dtype=float32), array([0., 0., 0.], dtype=float32)]\n",
      "1/1 [==============================] - 0s 184ms/step - loss: 0.0724\n"
     ]
    }
   ],
   "source": [
    "# Make a model with 2 layers\n",
    "layer1 = keras.layers.Dense(3, activation=\"relu\")\n",
    "layer2 = keras.layers.Dense(3, activation=\"sigmoid\")\n",
    "model = keras.Sequential([keras.Input(shape=(3,)), layer1, layer2])\n",
    "\n",
    "# Freeze the first layer\n",
    "layer1.trainable = False\n",
    "\n",
    "# Keep a copy of the weights of layer1 for later reference\n",
    "initial_layer1_weights_values = layer1.get_weights()\n",
    "print(initial_layer1_weights_values)\n",
    "\n",
    "\n",
    "# Train the model\n",
    "model.compile(optimizer=\"adam\", loss=\"mse\")\n",
    "model.fit(np.random.random((2, 3)), np.random.random((2, 3)))\n",
    "\n",
    "# Check that the weights of layer1 have not changed during training\n",
    "final_layer1_weights_values = layer1.get_weights()\n",
    "np.testing.assert_allclose(\n",
    "    initial_layer1_weights_values[0], final_layer1_weights_values[0]\n",
    ")\n",
    "np.testing.assert_allclose(\n",
    "    initial_layer1_weights_values[1], final_layer1_weights_values[1]\n",
    ")"
   ]
  }
 ],
 "metadata": {
  "kernelspec": {
   "display_name": "jh_class",
   "language": "python",
   "name": "python3"
  },
  "language_info": {
   "codemirror_mode": {
    "name": "ipython",
    "version": 3
   },
   "file_extension": ".py",
   "mimetype": "text/x-python",
   "name": "python",
   "nbconvert_exporter": "python",
   "pygments_lexer": "ipython3",
   "version": "3.10.13"
  }
 },
 "nbformat": 4,
 "nbformat_minor": 5
}
