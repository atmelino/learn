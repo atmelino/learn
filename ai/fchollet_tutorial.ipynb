{
 "cells": [
  {
   "cell_type": "markdown",
   "id": "c4301fb1",
   "metadata": {},
   "source": [
    "https://keras.io/guides/transfer_learning/#the-typical-transferlearning-workflow\n",
    "\n",
    "Transfer learning & fine-tuning"
   ]
  },
  {
   "cell_type": "code",
   "execution_count": 49,
   "id": "c32ea6bb",
   "metadata": {},
   "outputs": [],
   "source": [
    "import numpy as np\n",
    "import tensorflow as tf\n",
    "import keras\n",
    "from keras import layers\n",
    "import tensorflow_datasets as tfds\n",
    "import matplotlib.pyplot as plt"
   ]
  },
  {
   "cell_type": "markdown",
   "id": "d740e419",
   "metadata": {},
   "source": [
    "Freezing layers: understanding the trainable attribute"
   ]
  },
  {
   "cell_type": "code",
   "execution_count": 50,
   "id": "a5a79fc5",
   "metadata": {},
   "outputs": [
    {
     "name": "stdout",
     "output_type": "stream",
     "text": [
      "weights: 0\n",
      "weights: 2\n",
      "trainable_weights: 2\n",
      "non_trainable_weights: 0\n"
     ]
    },
    {
     "data": {
      "text/plain": [
       "[<tf.Variable 'kernel:0' shape=(3, 2) dtype=float32, numpy=\n",
       " array([[ 0.10018468, -0.5019272 ],\n",
       "        [ 0.27510214,  0.8585675 ],\n",
       "        [ 0.8921156 ,  0.74958456]], dtype=float32)>,\n",
       " <tf.Variable 'bias:0' shape=(2,) dtype=float32, numpy=array([0., 0.], dtype=float32)>]"
      ]
     },
     "execution_count": 50,
     "metadata": {},
     "output_type": "execute_result"
    }
   ],
   "source": [
    "layer = layers.Dense(2)\n",
    "print(\"weights:\", len(layer.weights))\n",
    "\n",
    "layer.build((None, 3))  # Create the weights\n",
    "\n",
    "print(\"weights:\", len(layer.weights))\n",
    "print(\"trainable_weights:\", len(layer.trainable_weights))\n",
    "print(\"non_trainable_weights:\", len(layer.non_trainable_weights))\n",
    "layer.weights"
   ]
  },
  {
   "cell_type": "code",
   "execution_count": 51,
   "id": "e8d69d36",
   "metadata": {},
   "outputs": [
    {
     "name": "stdout",
     "output_type": "stream",
     "text": [
      "weights: 0\n",
      "tf.Tensor(\n",
      "[[0.588096   0.7298387  0.8849908  0.09413445]\n",
      " [0.70745265 0.44963872 0.459329   0.58028686]], shape=(2, 4), dtype=float32)\n",
      "weights: 0\n",
      "weights: 2\n"
     ]
    },
    {
     "data": {
      "text/plain": [
       "[<tf.Variable 'dense_41/kernel:0' shape=(4, 3) dtype=float32, numpy=\n",
       " array([[-0.48006186, -0.5630181 ,  0.7930138 ],\n",
       "        [ 0.46786106, -0.80529165, -0.01191491],\n",
       "        [ 0.20314252, -0.23659569,  0.1299913 ],\n",
       "        [ 0.40866828,  0.39261127,  0.18158376]], dtype=float32)>,\n",
       " <tf.Variable 'dense_41/bias:0' shape=(3,) dtype=float32, numpy=array([0., 0., 0.], dtype=float32)>]"
      ]
     },
     "execution_count": 51,
     "metadata": {},
     "output_type": "execute_result"
    }
   ],
   "source": [
    "# https://keras.io/api/layers/\n",
    "\n",
    "layer = layers.Dense(3, activation='relu')\n",
    "print(\"weights:\", len(layer.weights))\n",
    "inputs = tf.random.uniform(shape=(2, 4))\n",
    "print(inputs)\n",
    "print(\"weights:\", len(layer.weights))\n",
    "outputs = layer(inputs)\n",
    "print(\"weights:\", len(layer.weights))\n",
    "\n",
    "layer.weights"
   ]
  },
  {
   "cell_type": "code",
   "execution_count": 52,
   "id": "fb20fe75",
   "metadata": {},
   "outputs": [
    {
     "name": "stdout",
     "output_type": "stream",
     "text": [
      "weights: 4\n",
      "trainable_weights: 2\n",
      "non_trainable_weights: 2\n"
     ]
    }
   ],
   "source": [
    "layer = keras.layers.BatchNormalization()\n",
    "layer.build((None, 4))  # Create the weights\n",
    "\n",
    "print(\"weights:\", len(layer.weights))\n",
    "print(\"trainable_weights:\", len(layer.trainable_weights))\n",
    "print(\"non_trainable_weights:\", len(layer.non_trainable_weights))"
   ]
  },
  {
   "cell_type": "code",
   "execution_count": 53,
   "id": "5a24117b",
   "metadata": {},
   "outputs": [
    {
     "name": "stdout",
     "output_type": "stream",
     "text": [
      "len weights: 2\n",
      "weights: [<tf.Variable 'kernel:0' shape=(4, 3) dtype=float32, numpy=\n",
      "array([[-6.6014224e-01, -3.4047961e-03, -8.5234791e-01],\n",
      "       [-4.9411654e-02, -5.6203139e-01,  2.8578508e-01],\n",
      "       [ 8.9249194e-01, -3.0526870e-01, -8.3198309e-01],\n",
      "       [-3.3195263e-01,  3.3527553e-01,  7.8141689e-05]], dtype=float32)>, <tf.Variable 'bias:0' shape=(3,) dtype=float32, numpy=array([0., 0., 0.], dtype=float32)>]\n",
      "[array([[-6.6014224e-01, -3.4047961e-03, -8.5234791e-01],\n",
      "       [-4.9411654e-02, -5.6203139e-01,  2.8578508e-01],\n",
      "       [ 8.9249194e-01, -3.0526870e-01, -8.3198309e-01],\n",
      "       [-3.3195263e-01,  3.3527553e-01,  7.8141689e-05]], dtype=float32), array([0., 0., 0.], dtype=float32)]\n",
      "trainable_weights: 0\n",
      "non_trainable_weights: 2\n"
     ]
    }
   ],
   "source": [
    "layer = keras.layers.Dense(3)\n",
    "layer.build((None, 4))  # Create the weights\n",
    "layer.trainable = False  # Freeze the layer\n",
    "\n",
    "print(\"len weights:\", len(layer.weights))\n",
    "print(\"weights:\", layer.weights)\n",
    "print(layer.get_weights())\n",
    "# print(\"weights:\", layer.weights['numpy'])\n",
    "# print(\"weights shape:\", layer.weights.shape)\n",
    "print(\"trainable_weights:\", len(layer.trainable_weights))\n",
    "print(\"non_trainable_weights:\", len(layer.non_trainable_weights))"
   ]
  },
  {
   "cell_type": "code",
   "execution_count": 54,
   "id": "e4e38b60",
   "metadata": {},
   "outputs": [
    {
     "name": "stdout",
     "output_type": "stream",
     "text": [
      "[array([[-0.556417  , -0.6231663 , -0.9735708 ],\n",
      "       [ 0.18122339, -0.563746  , -0.45962238],\n",
      "       [-0.6202657 ,  0.40935802,  0.7165365 ]], dtype=float32), array([0., 0., 0.], dtype=float32)]\n",
      "1/1 [==============================] - 0s 207ms/step - loss: 0.0218\n"
     ]
    }
   ],
   "source": [
    "# Make a model with 2 layers\n",
    "layer1 = keras.layers.Dense(3, activation=\"relu\")\n",
    "layer2 = keras.layers.Dense(3, activation=\"sigmoid\")\n",
    "model = keras.Sequential([keras.Input(shape=(3,)), layer1, layer2])\n",
    "\n",
    "# Freeze the first layer\n",
    "layer1.trainable = False\n",
    "\n",
    "# Keep a copy of the weights of layer1 for later reference\n",
    "initial_layer1_weights_values = layer1.get_weights()\n",
    "print(initial_layer1_weights_values)\n",
    "\n",
    "\n",
    "# Train the model\n",
    "model.compile(optimizer=\"adam\", loss=\"mse\")\n",
    "model.fit(np.random.random((2, 3)), np.random.random((2, 3)))\n",
    "\n",
    "# Check that the weights of layer1 have not changed during training\n",
    "final_layer1_weights_values = layer1.get_weights()\n",
    "np.testing.assert_allclose(\n",
    "    initial_layer1_weights_values[0], final_layer1_weights_values[0]\n",
    ")\n",
    "np.testing.assert_allclose(\n",
    "    initial_layer1_weights_values[1], final_layer1_weights_values[1]\n",
    ")"
   ]
  },
  {
   "cell_type": "markdown",
   "id": "11d4e60a",
   "metadata": {},
   "source": [
    "Recursive setting of the trainable attribute"
   ]
  },
  {
   "cell_type": "code",
   "execution_count": 55,
   "id": "32f61382",
   "metadata": {},
   "outputs": [],
   "source": [
    "inner_model = keras.Sequential(\n",
    "    [\n",
    "        keras.Input(shape=(3,)),\n",
    "        keras.layers.Dense(3, activation=\"relu\"),\n",
    "        keras.layers.Dense(3, activation=\"relu\"),\n",
    "    ]\n",
    ")\n",
    "\n",
    "model = keras.Sequential(\n",
    "    [\n",
    "        keras.Input(shape=(3,)),\n",
    "        inner_model,\n",
    "        keras.layers.Dense(3, activation=\"sigmoid\"),\n",
    "    ]\n",
    ")\n",
    "\n",
    "model.trainable = False  # Freeze the outer model\n",
    "\n",
    "assert inner_model.trainable == False  # All layers in `model` are now frozen\n",
    "assert inner_model.layers[0].trainable == False  # `trainable` is propagated recursively"
   ]
  }
 ],
 "metadata": {
  "kernelspec": {
   "display_name": "jh_class",
   "language": "python",
   "name": "python3"
  },
  "language_info": {
   "codemirror_mode": {
    "name": "ipython",
    "version": 3
   },
   "file_extension": ".py",
   "mimetype": "text/x-python",
   "name": "python",
   "nbconvert_exporter": "python",
   "pygments_lexer": "ipython3",
   "version": "3.10.13"
  }
 },
 "nbformat": 4,
 "nbformat_minor": 5
}
