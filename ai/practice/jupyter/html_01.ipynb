{
 "cells": [
  {
   "cell_type": "markdown",
   "id": "d12440c4",
   "metadata": {},
   "source": [
    "A | B\n",
    "- | - \n",
    "!alt | !alt"
   ]
  },
  {
   "cell_type": "code",
   "execution_count": 3,
   "id": "ccf5cff2",
   "metadata": {},
   "outputs": [
    {
     "ename": "SyntaxError",
     "evalue": "invalid syntax (1694312703.py, line 2)",
     "output_type": "error",
     "traceback": [
      "\u001b[0;36m  Cell \u001b[0;32mIn[3], line 2\u001b[0;36m\u001b[0m\n\u001b[0;31m    - | -\u001b[0m\n\u001b[0m      ^\u001b[0m\n\u001b[0;31mSyntaxError\u001b[0m\u001b[0;31m:\u001b[0m invalid syntax\n"
     ]
    }
   ],
   "source": [
    "A | B\n",
    "- | - \n",
    "!alt | !alt"
   ]
  },
  {
   "cell_type": "markdown",
   "id": "4bb08a6a",
   "metadata": {},
   "source": [
    "<div style=\"display: flex; align-items: center;\">\n",
    "  <img src=\"path/to/image.jpg\" alt=\"Image\" style=\"width: 200px; margin-right: 10px;\">\n",
    "  <p>This is some text that appears next to the image.</p>\n",
    "</div>"
   ]
  },
  {
   "cell_type": "code",
   "execution_count": null,
   "id": "b667d4da",
   "metadata": {},
   "outputs": [
    {
     "data": {
      "text/html": [
       "<table><tr> <td> <img src=\"puppy.jpg\" alt=\"Drawing\" style=\"width: 250px;\"/> </td> <td> <img src=\"puppy.jpg\" alt=\"Drawing\" style=\"width: 250px;\"/> </td> </tr></table>"
      ],
      "text/plain": [
       "<IPython.core.display.HTML object>"
      ]
     },
     "execution_count": 14,
     "metadata": {},
     "output_type": "execute_result"
    }
   ],
   "source": [
    "import base64, io, IPython\n",
    "from PIL import Image as PILImage\n",
    "\n",
    "image_path='puppy.jpg'\n",
    "image = PILImage.open(image_path)\n",
    "\n",
    "output = io.BytesIO()\n",
    "image.save(output, format='PNG')\n",
    "encoded_string = base64.b64encode(output.getvalue()).decode()\n",
    "\n",
    "\n",
    "html1='<table><tr> \\\n",
    "<td> <img src=\"puppy.jpg\" alt=\"Drawing\" style=\"width: 250px;\"/> </td> \\\n",
    "<td> <img src=\"puppy.jpg\" alt=\"Drawing\" style=\"width: 250px;\"/> </td> \\\n",
    "</tr></table>'\n",
    "\n",
    "html = '<img src=\"data:image/png;base64,{}\"/>'.format(encoded_string)\n",
    "IPython.display.HTML(html1)"
   ]
  }
 ],
 "metadata": {
  "kernelspec": {
   "display_name": "jh_class",
   "language": "python",
   "name": "python3"
  },
  "language_info": {
   "codemirror_mode": {
    "name": "ipython",
    "version": 3
   },
   "file_extension": ".py",
   "mimetype": "text/x-python",
   "name": "python",
   "nbconvert_exporter": "python",
   "pygments_lexer": "ipython3",
   "version": "3.10.13"
  }
 },
 "nbformat": 4,
 "nbformat_minor": 5
}
