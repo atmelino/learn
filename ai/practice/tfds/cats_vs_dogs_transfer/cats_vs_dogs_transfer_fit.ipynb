{
 "cells": [
  {
   "cell_type": "code",
   "execution_count": 38,
   "id": "250f9883",
   "metadata": {},
   "outputs": [
    {
     "name": "stdout",
     "output_type": "stream",
     "text": [
      "Number of training samples: 9305\n",
      "Number of validation samples: 2326\n"
     ]
    }
   ],
   "source": [
    "import tensorflow_datasets as tfds\n",
    "import tensorflow as tf\n",
    "import logging, os\n",
    "import pandas as pd\n",
    "import time\n",
    "from tensorflow import keras\n",
    "from tensorflow.keras import layers\n",
    "from sklearn import metrics\n",
    "import numpy as np\n",
    "import matplotlib.pyplot as plt\n",
    "\n",
    "BASE_PATH = \"../../../../../local_data/practice/tfds/\"\n",
    "DATA_PATH = \"../../../../../local_data/tfds/\"\n",
    "OUTPUT_PATH = BASE_PATH+\"cats_vs_dogs_transfer/\"\n",
    "os.system(\"mkdir -p \" + OUTPUT_PATH)\n",
    "\n",
    "\n",
    "train_dataset, validation_dataset = tfds.load(\n",
    "    \"cats_vs_dogs\",\n",
    "    data_dir=DATA_PATH,\n",
    "    split=[\"train[:40%]\", \"train[40%:50%]\"],\n",
    "    as_supervised=True,  # Include labels\n",
    ")\n",
    "\n",
    "num_train = tf.data.experimental.cardinality(train_dataset)\n",
    "num_test = tf.data.experimental.cardinality(validation_dataset)\n",
    "\n",
    "print(f\"Number of training samples: {num_train}\")\n",
    "print(f\"Number of validation samples: {num_test}\")\n",
    "\n",
    "size = (150, 150)\n",
    "\n",
    "train_dataset = train_dataset.map(lambda x, y: (tf.image.resize(x, size), y))\n",
    "validation_dataset = validation_dataset.map(lambda x, y: \\\n",
    "                                  (tf.image.resize(x, size), y))\n",
    "\n",
    "batch_size = 32\n",
    "\n",
    "train_dataset = train_dataset.cache().batch(batch_size).prefetch(buffer_size=10)\n",
    "validation_dataset = validation_dataset.cache() \\\n",
    "    .batch(batch_size).prefetch(buffer_size=10)\n",
    "\n",
    "data_augmentation = keras.Sequential(\n",
    "    [layers.RandomFlip(\"horizontal\"), layers.RandomRotation(0.1),]\n",
    ")"
   ]
  },
  {
   "cell_type": "code",
   "execution_count": 39,
   "id": "daaab9ed",
   "metadata": {},
   "outputs": [
    {
     "name": "stdout",
     "output_type": "stream",
     "text": [
      "Model: \"model_8\"\n",
      "_________________________________________________________________\n",
      " Layer (type)                Output Shape              Param #   \n",
      "=================================================================\n",
      " input_18 (InputLayer)       [(None, 150, 150, 3)]     0         \n",
      "                                                                 \n",
      " sequential_8 (Sequential)   (None, 150, 150, 3)       0         \n",
      "                                                                 \n",
      " rescaling_8 (Rescaling)     (None, 150, 150, 3)       0         \n",
      "                                                                 \n",
      " xception (Functional)       (None, 5, 5, 2048)        20861480  \n",
      "                                                                 \n",
      " global_average_pooling2d_8  (None, 2048)              0         \n",
      "  (GlobalAveragePooling2D)                                       \n",
      "                                                                 \n",
      " dropout_8 (Dropout)         (None, 2048)              0         \n",
      "                                                                 \n",
      " dense_8 (Dense)             (None, 1)                 2049      \n",
      "                                                                 \n",
      "=================================================================\n",
      "Total params: 20863529 (79.59 MB)\n",
      "Trainable params: 2049 (8.00 KB)\n",
      "Non-trainable params: 20861480 (79.58 MB)\n",
      "_________________________________________________________________\n"
     ]
    }
   ],
   "source": [
    "base_model = keras.applications.Xception(\n",
    "    weights=\"imagenet\",  # Load weights pre-trained on ImageNet.\n",
    "    input_shape=(150, 150, 3),\n",
    "    include_top=False,\n",
    ")  # Do not include the ImageNet classifier at the top.\n",
    "\n",
    "# Freeze the base_model\n",
    "base_model.trainable = False\n",
    "\n",
    "# Create new model on top\n",
    "inputs = keras.Input(shape=(150, 150, 3))\n",
    "x = data_augmentation(inputs)  # Apply random data augmentation\n",
    "\n",
    "# Pre-trained Xception weights requires that input be scaled\n",
    "# from (0, 255) to a range of (-1., +1.), the rescaling layer\n",
    "# outputs: `(inputs * scale) + offset`\n",
    "scale_layer = keras.layers.Rescaling(scale=1 / 127.5, offset=-1)\n",
    "x = scale_layer(x)\n",
    "\n",
    "# The base model contains batchnorm layers. \n",
    "# We want to keep them in inference mode\n",
    "# when we unfreeze the base model for fine-tuning, \n",
    "# so we make sure that the\n",
    "# base_model is running in inference mode here.\n",
    "x = base_model(x, training=False)\n",
    "x = keras.layers.GlobalAveragePooling2D()(x)\n",
    "x = keras.layers.Dropout(0.2)(x)  # Regularize with dropout\n",
    "outputs = keras.layers.Dense(1)(x)\n",
    "model = keras.Model(inputs, outputs)\n",
    "\n",
    "model.summary()"
   ]
  },
  {
   "cell_type": "code",
   "execution_count": 40,
   "id": "2afc6a30",
   "metadata": {},
   "outputs": [
    {
     "name": "stdout",
     "output_type": "stream",
     "text": [
      "Epoch 1/4\n",
      "142/291 [=============>................] - ETA: 2s - loss: 0.2059 - binary_accuracy: 0.9060"
     ]
    },
    {
     "name": "stderr",
     "output_type": "stream",
     "text": [
      "Corrupt JPEG data: 65 extraneous bytes before marker 0xd9\n"
     ]
    },
    {
     "name": "stdout",
     "output_type": "stream",
     "text": [
      "259/291 [=========================>....] - ETA: 0s - loss: 0.1728 - binary_accuracy: 0.9246"
     ]
    },
    {
     "name": "stderr",
     "output_type": "stream",
     "text": [
      "Corrupt JPEG data: 239 extraneous bytes before marker 0xd9\n"
     ]
    },
    {
     "name": "stdout",
     "output_type": "stream",
     "text": [
      "274/291 [===========================>..] - ETA: 0s - loss: 0.1693 - binary_accuracy: 0.9262"
     ]
    },
    {
     "name": "stderr",
     "output_type": "stream",
     "text": [
      "Corrupt JPEG data: 1153 extraneous bytes before marker 0xd9\n",
      "Corrupt JPEG data: 228 extraneous bytes before marker 0xd9\n"
     ]
    },
    {
     "name": "stdout",
     "output_type": "stream",
     "text": [
      "289/291 [============================>.] - ETA: 0s - loss: 0.1668 - binary_accuracy: 0.9277"
     ]
    },
    {
     "name": "stderr",
     "output_type": "stream",
     "text": [
      "Corrupt JPEG data: 2226 extraneous bytes before marker 0xd9\n"
     ]
    },
    {
     "name": "stdout",
     "output_type": "stream",
     "text": [
      "291/291 [==============================] - 9s 24ms/step - loss: 0.1671 - binary_accuracy: 0.9279 - val_loss: 0.0866 - val_binary_accuracy: 0.9699\n",
      "Epoch 2/4\n",
      "291/291 [==============================] - 6s 21ms/step - loss: 0.1197 - binary_accuracy: 0.9485 - val_loss: 0.0776 - val_binary_accuracy: 0.9712\n",
      "Epoch 3/4\n",
      "291/291 [==============================] - 6s 21ms/step - loss: 0.1118 - binary_accuracy: 0.9550 - val_loss: 0.0817 - val_binary_accuracy: 0.9669\n",
      "Epoch 4/4\n",
      "291/291 [==============================] - 6s 22ms/step - loss: 0.1041 - binary_accuracy: 0.9545 - val_loss: 0.0721 - val_binary_accuracy: 0.9721\n"
     ]
    }
   ],
   "source": [
    "model.compile(\n",
    "    optimizer=keras.optimizers.Adam(),\n",
    "    loss=keras.losses.BinaryCrossentropy(from_logits=True), \n",
    "    metrics=[keras.metrics.BinaryAccuracy()],\n",
    ")\n",
    "\n",
    "epochs = 4\n",
    "history =model.fit(train_dataset, epochs=epochs, validation_data=validation_dataset)"
   ]
  },
  {
   "cell_type": "code",
   "execution_count": 41,
   "id": "89308700",
   "metadata": {},
   "outputs": [
    {
     "data": {
      "image/png": "[encoded data removed]",
      "text/plain": [
       "<Figure size 640x480 with 1 Axes>"
      ]
     },
     "metadata": {},
     "output_type": "display_data"
    },
    {
     "data": {
      "image/png": "[encoded data removed]",
      "text/plain": [
       "<Figure size 640x480 with 1 Axes>"
      ]
     },
     "metadata": {},
     "output_type": "display_data"
    }
   ],
   "source": [
    "#-----------------------------------------------------------\n",
    "# Retrieve a list of list results on training and test data\n",
    "# sets for each training epoch\n",
    "#-----------------------------------------------------------\n",
    "acc      = history.history[     'binary_accuracy' ]\n",
    "val_acc  = history.history[ 'val_binary_accuracy' ]\n",
    "loss     = history.history[    'loss' ]\n",
    "val_loss = history.history['val_loss' ]\n",
    "\n",
    "epochs_plot   = range(len(acc)) # Get number of epochs\n",
    "\n",
    "#------------------------------------------------\n",
    "# Plot training and validation accuracy per epoch\n",
    "#------------------------------------------------\n",
    "plt.plot  ( epochs_plot,     acc , label=\"training accuracy\")\n",
    "plt.plot  ( epochs_plot, val_acc, label=\"validation accuracy\" )\n",
    "plt.title ('Training and validation accuracy')\n",
    "plt.legend(loc=\"upper left\")\n",
    "plt.savefig(OUTPUT_PATH + \"accuracy.png\")\n",
    "plt.figure()\n",
    "\n",
    "\n",
    "#------------------------------------------------\n",
    "# Plot training and validation loss per epoch\n",
    "#------------------------------------------------\n",
    "plt.plot  ( epochs_plot,     loss , label=\"training loss\")\n",
    "plt.plot  ( epochs_plot, val_loss , label=\"validation loss\" )\n",
    "plt.legend(loc=\"upper left\")\n",
    "plt.title ('Training and validation loss'   )\n",
    "plt.savefig(OUTPUT_PATH + \"loss.png\")"
   ]
  },
  {
   "cell_type": "code",
   "execution_count": 42,
   "id": "07d2b9cf",
   "metadata": {},
   "outputs": [
    {
     "name": "stdout",
     "output_type": "stream",
     "text": [
      "73/73 [==============================] - 1s 13ms/step\n",
      "test dataset accuracy score: 0.9720550300945829\n",
      "        l      pred  pnorm  diff\n",
      "0     0.0 -8.700836      0   0.0\n",
      "1     1.0  4.693343      1   0.0\n",
      "2     0.0 -9.341220      0   0.0\n",
      "3     0.0 -2.910272      0   0.0\n",
      "4     1.0  0.659717      1   0.0\n",
      "...   ...       ...    ...   ...\n",
      "2321  0.0 -7.481091      0   0.0\n",
      "2322  0.0 -6.783258      0   0.0\n",
      "2323  1.0  4.570061      1   0.0\n",
      "2324  1.0  6.784830      1   0.0\n",
      "2325  0.0 -6.564024      0   0.0\n",
      "\n",
      "[2326 rows x 4 columns]\n"
     ]
    }
   ],
   "source": [
    "# Make predictions\n",
    "predictions = model.predict(validation_dataset)\n",
    "allpreds=predictions.flatten()\n",
    "allpnorms = np.where(allpreds > 0.5, 1, 0)\n",
    "\n",
    "alllabels=np.empty(0)\n",
    "for images, labels in validation_dataset:\n",
    "    alllabels = np.append(alllabels, labels.numpy().flatten())\n",
    "\n",
    "score = metrics.accuracy_score(alllabels, allpnorms)\n",
    "print(\"test dataset accuracy score: {}\".format(score))\n",
    "\n",
    "collabels = pd.DataFrame(alllabels, columns=[\"l\"])\n",
    "colpreds = pd.DataFrame( allpreds, columns=[\"pred\"])\n",
    "pnorm = pd.DataFrame( allpnorms, columns=[\"pnorm\"])\n",
    "diff = collabels[\"l\"] - pnorm[\"pnorm\"]\n",
    "\n",
    "compare = pd.concat([collabels, colpreds,pnorm,diff], axis=1)\n",
    "compare.columns = [\"l\", \"pred\", \"pnorm\",\"diff\"]\n",
    "print(compare)\n",
    "\n",
    "compare.to_csv(OUTPUT_PATH + \"pred_test_fit.csv\", index=False)   "
   ]
  },
  {
   "cell_type": "code",
   "execution_count": 43,
   "id": "639cf78b",
   "metadata": {},
   "outputs": [
    {
     "name": "stdout",
     "output_type": "stream",
     "text": [
      "Saving model to  valacc_0.972_epochs_4_date_20250726-214355.h5\n"
     ]
    },
    {
     "name": "stderr",
     "output_type": "stream",
     "text": [
      "/media/data/miniconda3/envs/jh_class/lib/python3.10/site-packages/keras/src/engine/training.py:3103: UserWarning: You are saving your model as an HDF5 file via `model.save()`. This file format is considered legacy. We recommend using instead the native Keras format, e.g. `model.save('my_model.keras')`.\n",
      "  saving_api.save_model(\n"
     ]
    }
   ],
   "source": [
    "# Save model\n",
    "timestr = time.strftime(\"%Y%m%d-%H%M%S\")\n",
    "acc=val_acc[-1] # last element\n",
    "filename = f\"valacc_{score:.3f}_epochs_{epochs}_date_{timestr}.h5\"\n",
    "fullpath = f\"{OUTPUT_PATH}{filename}\"\n",
    "print(\"Saving model to \", filename)\n",
    "model.save(fullpath)"
   ]
  },
  {
   "cell_type": "code",
   "execution_count": 44,
   "id": "70335d1e",
   "metadata": {},
   "outputs": [],
   "source": [
    "# Unfreeze the base_model. Note that it keeps running in inference mode\n",
    "# since we passed `training=False` when calling it. This means that\n",
    "# the batchnorm layers will not update their batch statistics.\n",
    "# This prevents the batchnorm layers from undoing all the training\n",
    "# we've done so far.\n",
    "\n",
    "# base_model.trainable = True\n",
    "# model.summary()\n",
    "# model.compile(\n",
    "# optimizer=keras.optimizers.Adam(1e-5), # Low learning rate\n",
    "# loss=keras.losses.BinaryCrossentropy(from_logits=True),\n",
    "# metrics=[keras.metrics.BinaryAccuracy()],\n",
    "# )\n",
    "# epochs = 10\n",
    "# model.fit(train_dataset, epochs=epochs, validation_data=validation_dataset)\n"
   ]
  }
 ],
 "metadata": {
  "kernelspec": {
   "display_name": "jh_class",
   "language": "python",
   "name": "python3"
  },
  "language_info": {
   "codemirror_mode": {
    "name": "ipython",
    "version": 3
   },
   "file_extension": ".py",
   "mimetype": "text/x-python",
   "name": "python",
   "nbconvert_exporter": "python",
   "pygments_lexer": "ipython3",
   "version": "3.10.13"
  }
 },
 "nbformat": 4,
 "nbformat_minor": 5
}
