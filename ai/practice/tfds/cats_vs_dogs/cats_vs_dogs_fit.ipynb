{
 "cells": [
  {
   "cell_type": "code",
   "execution_count": 3,
   "id": "ce6a1dae",
   "metadata": {},
   "outputs": [],
   "source": [
    "# Explanation of prediction output when activation is sigmoid:\n",
    "# https://forum.freecodecamp.org/t/model-predict-output/470349\n",
    "\n",
    "import tensorflow as tf\n",
    "import tensorflow_datasets as tfds\n",
    "import logging, os\n",
    "import pandas as pd\n",
    "import time\n",
    "from sklearn import metrics\n",
    "import numpy as np\n",
    "\n",
    "BASE_PATH = \"../../../../../local_data/practice/tfds/\"\n",
    "DATA_PATH = \"../../../../../local_data/tfds/\"\n",
    "OUTPUT_PATH = BASE_PATH+\"predict_example_01/\"\n",
    "os.system(\"mkdir -p \" + OUTPUT_PATH)\n",
    "\n",
    "\n",
    "# Load the dataset\n",
    "(train_dataset, test_dataset), metadata = tfds.load(\n",
    "    'cats_vs_dogs',\n",
    "    data_dir=DATA_PATH,\n",
    "    split=['train[:80%]', 'train[80%:]'],\n",
    "    # split=['train[:80%]', 'train[99%:]'],\n",
    "    with_info=True,\n",
    "    as_supervised=True\n",
    ")\n",
    "\n",
    "# Preprocess the data\n",
    "def preprocess(image, label):\n",
    "    image = tf.cast(image, tf.float32)\n",
    "    image = tf.image.resize(image, [256, 256])\n",
    "    image = image / 255.0\n",
    "    return image, label\n",
    "\n",
    "train_dataset = train_dataset.map(preprocess)\n",
    "test_dataset = test_dataset.map(preprocess)\n",
    "\n",
    "batch_size = 32\n",
    "train_dataset = train_dataset.cache().batch(batch_size).prefetch(buffer_size=10)\n",
    "test_dataset = test_dataset.cache().batch(batch_size).prefetch(buffer_size=10)\n",
    "\n",
    "\n",
    "# Apply data augmentation\n",
    "def augment(image, label):\n",
    "    image = tf.image.random_flip_left_right(image)\n",
    "    image = tf.image.random_brightness(image, 0.1)\n",
    "    return image, label\n",
    "\n",
    "train_dataset = train_dataset.map(augment)\n",
    "\n",
    "\n",
    "# Model prediction\n",
    "model = tf.keras.models.Sequential([\n",
    "    tf.keras.layers.Conv2D(32, (3,3), activation='relu', input_shape=(256, 256, 3)),\n",
    "    tf.keras.layers.MaxPooling2D(2,2),\n",
    "    tf.keras.layers.Conv2D(64, (3,3), activation='relu'),\n",
    "    tf.keras.layers.MaxPooling2D(2,2),\n",
    "    tf.keras.layers.Flatten(),\n",
    "    tf.keras.layers.Dense(512, activation='relu'),\n",
    "    tf.keras.layers.Dense(1, activation='sigmoid')\n",
    "])\n",
    "\n",
    "model.compile(optimizer='adam', loss='binary_crossentropy', metrics=['accuracy'])"
   ]
  },
  {
   "cell_type": "code",
   "execution_count": 4,
   "id": "dbe2eb88",
   "metadata": {},
   "outputs": [
    {
     "name": "stdout",
     "output_type": "stream",
     "text": [
      "177/582 [========>.....................] - ETA: 19s - loss: 0.9084 - accuracy: 0.5980"
     ]
    },
    {
     "name": "stderr",
     "output_type": "stream",
     "text": [
      "Corrupt JPEG data: 99 extraneous bytes before marker 0xd9\n"
     ]
    },
    {
     "name": "stdout",
     "output_type": "stream",
     "text": [
      "208/582 [=========>....................] - ETA: 18s - loss: 0.8685 - accuracy: 0.6035"
     ]
    },
    {
     "name": "stderr",
     "output_type": "stream",
     "text": [
      "Warning: unknown JFIF revision number 0.00\n"
     ]
    },
    {
     "name": "stdout",
     "output_type": "stream",
     "text": [
      "219/582 [==========>...................] - ETA: 17s - loss: 0.8570 - accuracy: 0.6056"
     ]
    },
    {
     "name": "stderr",
     "output_type": "stream",
     "text": [
      "Corrupt JPEG data: 396 extraneous bytes before marker 0xd9\n"
     ]
    },
    {
     "name": "stdout",
     "output_type": "stream",
     "text": [
      "291/582 [==============>...............] - ETA: 14s - loss: 0.7979 - accuracy: 0.6216"
     ]
    },
    {
     "name": "stderr",
     "output_type": "stream",
     "text": [
      "Corrupt JPEG data: 65 extraneous bytes before marker 0xd9\n"
     ]
    },
    {
     "name": "stdout",
     "output_type": "stream",
     "text": [
      "499/582 [========================>.....] - ETA: 4s - loss: 0.7114 - accuracy: 0.6507"
     ]
    },
    {
     "name": "stderr",
     "output_type": "stream",
     "text": [
      "Corrupt JPEG data: 2226 extraneous bytes before marker 0xd9\n"
     ]
    },
    {
     "name": "stdout",
     "output_type": "stream",
     "text": [
      "512/582 [=========================>....] - ETA: 3s - loss: 0.7074 - accuracy: 0.6528"
     ]
    },
    {
     "name": "stderr",
     "output_type": "stream",
     "text": [
      "Corrupt JPEG data: 128 extraneous bytes before marker 0xd9\n"
     ]
    },
    {
     "name": "stdout",
     "output_type": "stream",
     "text": [
      "523/582 [=========================>....] - ETA: 2s - loss: 0.7043 - accuracy: 0.6542"
     ]
    },
    {
     "name": "stderr",
     "output_type": "stream",
     "text": [
      "Corrupt JPEG data: 239 extraneous bytes before marker 0xd9\n"
     ]
    },
    {
     "name": "stdout",
     "output_type": "stream",
     "text": [
      "551/582 [===========================>..] - ETA: 1s - loss: 0.6957 - accuracy: 0.6587"
     ]
    },
    {
     "name": "stderr",
     "output_type": "stream",
     "text": [
      "Corrupt JPEG data: 1153 extraneous bytes before marker 0xd9\n"
     ]
    },
    {
     "name": "stdout",
     "output_type": "stream",
     "text": [
      "556/582 [===========================>..] - ETA: 1s - loss: 0.6943 - accuracy: 0.6593"
     ]
    },
    {
     "name": "stderr",
     "output_type": "stream",
     "text": [
      "Corrupt JPEG data: 228 extraneous bytes before marker 0xd9\n"
     ]
    },
    {
     "name": "stdout",
     "output_type": "stream",
     "text": [
      "582/582 [==============================] - 30s 50ms/step - loss: 0.6891 - accuracy: 0.6603\n",
      " 16/146 [==>...........................] - ETA: 1s"
     ]
    },
    {
     "name": "stderr",
     "output_type": "stream",
     "text": [
      "Corrupt JPEG data: 162 extraneous bytes before marker 0xd9\n",
      "Corrupt JPEG data: 252 extraneous bytes before marker 0xd9\n"
     ]
    },
    {
     "name": "stdout",
     "output_type": "stream",
     "text": [
      " 57/146 [==========>...................] - ETA: 0s"
     ]
    },
    {
     "name": "stderr",
     "output_type": "stream",
     "text": [
      "Corrupt JPEG data: 214 extraneous bytes before marker 0xd9\n"
     ]
    },
    {
     "name": "stdout",
     "output_type": "stream",
     "text": [
      " 87/146 [================>.............] - ETA: 0s"
     ]
    },
    {
     "name": "stderr",
     "output_type": "stream",
     "text": [
      "Corrupt JPEG data: 1403 extraneous bytes before marker 0xd9\n"
     ]
    },
    {
     "name": "stdout",
     "output_type": "stream",
     "text": [
      "146/146 [==============================] - 2s 10ms/step\n",
      "test dataset accuracy score: 0.7308684436801376\n",
      "        l      pred  pnorm  diff\n",
      "0     1.0  0.557551      1   0.0\n",
      "1     0.0  0.516746      1  -1.0\n",
      "2     1.0  0.851982      1   0.0\n",
      "3     1.0  0.720640      1   0.0\n",
      "4     1.0  0.804592      1   0.0\n",
      "...   ...       ...    ...   ...\n",
      "4647  0.0  0.243625      0   0.0\n",
      "4648  0.0  0.669425      1  -1.0\n",
      "4649  0.0  0.414941      0   0.0\n",
      "4650  1.0  0.604247      1   0.0\n",
      "4651  0.0  0.371276      0   0.0\n",
      "\n",
      "[4652 rows x 4 columns]\n",
      "Saving model to  acc_0.731_epochs_1.000_date_20250718-175545.h5\n"
     ]
    },
    {
     "name": "stderr",
     "output_type": "stream",
     "text": [
      "/media/data/miniconda3/envs/jh_class/lib/python3.10/site-packages/keras/src/engine/training.py:3103: UserWarning: You are saving your model as an HDF5 file via `model.save()`. This file format is considered legacy. We recommend using instead the native Keras format, e.g. `model.save('my_model.keras')`.\n",
      "  saving_api.save_model(\n"
     ]
    }
   ],
   "source": [
    "# Train the model\n",
    "epochs=1\n",
    "model.fit(train_dataset, epochs=epochs)\n",
    "\n",
    "\n",
    "# Make predictions\n",
    "predictions = model.predict(test_dataset)\n",
    "allpreds=predictions.flatten()\n",
    "allpnorms = np.where(allpreds > 0.5, 1, 0)\n",
    "\n",
    "alllabels=np.empty(0)\n",
    "for images, labels in test_dataset:\n",
    "    alllabels = np.append(alllabels, labels.numpy().flatten())\n",
    "\n",
    "score = metrics.accuracy_score(alllabels, allpnorms)\n",
    "print(\"test dataset accuracy score: {}\".format(score))\n",
    "\n",
    "collabels = pd.DataFrame(alllabels, columns=[\"l\"])\n",
    "colpreds = pd.DataFrame( allpreds, columns=[\"pred\"])\n",
    "pnorm = pd.DataFrame( allpnorms, columns=[\"pnorm\"])\n",
    "diff = collabels[\"l\"] - pnorm[\"pnorm\"]\n",
    "\n",
    "compare = pd.concat([collabels, colpreds,pnorm,diff], axis=1)\n",
    "compare.columns = [\"l\", \"pred\", \"pnorm\",\"diff\"]\n",
    "print(compare)\n",
    "\n",
    "compare.to_csv(OUTPUT_PATH + \"pred_test_fit.csv\", index=False)    \n",
    "\n",
    "# Save model\n",
    "timestr = time.strftime(\"%Y%m%d-%H%M%S\")\n",
    "filename = f\"acc_{score:.3f}_epochs_{epochs:.3f}_date_{timestr}.h5\"\n",
    "fullpath = f\"{OUTPUT_PATH}{filename}\"\n",
    "print(\"Saving model to \", filename)\n",
    "model.save(fullpath)"
   ]
  }
 ],
 "metadata": {
  "kernelspec": {
   "display_name": "jh_class",
   "language": "python",
   "name": "python3"
  },
  "language_info": {
   "codemirror_mode": {
    "name": "ipython",
    "version": 3
   },
   "file_extension": ".py",
   "mimetype": "text/x-python",
   "name": "python",
   "nbconvert_exporter": "python",
   "pygments_lexer": "ipython3",
   "version": "3.10.13"
  }
 },
 "nbformat": 4,
 "nbformat_minor": 5
}
