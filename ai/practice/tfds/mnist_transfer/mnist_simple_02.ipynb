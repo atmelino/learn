{
 "cells": [
  {
   "cell_type": "code",
   "execution_count": 105,
   "id": "17555099",
   "metadata": {},
   "outputs": [],
   "source": [
    "# Explanation of prediction output when activation is sigmoid:\n",
    "# https://forum.freecodecamp.org/t/model-predict-output/470349\n",
    "\n",
    "import tensorflow as tf\n",
    "import tensorflow_datasets as tfds\n",
    "import logging, os\n",
    "import pandas as pd\n",
    "import time\n",
    "from sklearn import metrics\n",
    "import numpy as np\n",
    "import matplotlib.pyplot as plt\n",
    "\n",
    "BASE_PATH = \"../../../../../local_data/practice/tfds/\"\n",
    "DATA_PATH = \"../../../../../local_data/tfds/\"\n",
    "OUTPUT_PATH = BASE_PATH+\"mnist_simple_02/\"\n",
    "os.system(\"mkdir -p \" + OUTPUT_PATH)\n",
    "\n",
    "# Load the dataset\n",
    "(train_dataset, test_dataset), metadata = tfds.load(\n",
    "    'mnist',\n",
    "    # 'cifar10',\n",
    "    # 'cats_vs_dogs',\n",
    "    data_dir=DATA_PATH,\n",
    "    # split=['train[:80%]', 'train[80%:]'],\n",
    "    split=['train[:80%]', 'train[99%:]'],\n",
    "    with_info=True,\n",
    "    as_supervised=True\n",
    ")"
   ]
  },
  {
   "cell_type": "code",
   "execution_count": 106,
   "id": "b7039fad",
   "metadata": {},
   "outputs": [
    {
     "name": "stderr",
     "output_type": "stream",
     "text": [
      "2025-07-16 21:52:10.796789: W tensorflow/core/kernels/data/cache_dataset_ops.cc:858] The calling iterator did not fully read the dataset being cached. In order to avoid unexpected truncation of the dataset, the partially cached contents of the dataset  will be discarded. This can happen if you have an input pipeline similar to `dataset.cache().take(k).repeat()`. You should use `dataset.take(k).cache().repeat()` instead.\n"
     ]
    },
    {
     "data": {
      "image/png": "[encoded data removed]",
      "text/plain": [
       "<Figure size 300x300 with 1 Axes>"
      ]
     },
     "metadata": {},
     "output_type": "display_data"
    }
   ],
   "source": [
    "def plot_one(image,label):\n",
    "    plt.figure(figsize=(3, 3))\n",
    "    plt.imshow(image)\n",
    "    plt.title(int(label))\n",
    "    plt.axis(\"off\")\n",
    "\n",
    "for image, label in train_dataset.take(1):\n",
    "    plot_one(image,label)"
   ]
  },
  {
   "cell_type": "code",
   "execution_count": 107,
   "id": "391125e4",
   "metadata": {},
   "outputs": [
    {
     "data": {
      "image/png": "[encoded data removed]",
      "text/plain": [
       "<Figure size 300x300 with 1 Axes>"
      ]
     },
     "metadata": {},
     "output_type": "display_data"
    }
   ],
   "source": [
    "image = tf.cast(image, tf.float32)\n",
    "image = tf.image.resize(image, [25, 256])\n",
    "image = image / 255.0\n",
    "plot_one(image,label)\n"
   ]
  },
  {
   "cell_type": "code",
   "execution_count": 108,
   "id": "173d9927",
   "metadata": {},
   "outputs": [],
   "source": [
    "# Preprocess the data\n",
    "def preprocess(image, label):\n",
    "    image = tf.cast(image, tf.float32)\n",
    "    image = tf.image.resize(image, [256, 256])\n",
    "    image = image / 255.0\n",
    "    return image, label\n",
    "\n",
    "train_dataset = train_dataset.map(preprocess)\n",
    "test_dataset = test_dataset.map(preprocess)\n",
    "\n",
    "batch_size = 32\n",
    "train_dataset = train_dataset.cache().batch(batch_size).prefetch(buffer_size=10)\n",
    "test_dataset = test_dataset.cache().batch(batch_size).prefetch(buffer_size=10)\n",
    "\n",
    "\n",
    "# Apply data augmentation\n",
    "def augment(image, label):\n",
    "    image = tf.image.random_flip_left_right(image)\n",
    "    image = tf.image.random_brightness(image, 0.1)\n",
    "    return image, label\n",
    "\n",
    "train_dataset = train_dataset.map(augment)"
   ]
  },
  {
   "cell_type": "code",
   "execution_count": 109,
   "id": "d6c60f84",
   "metadata": {},
   "outputs": [
    {
     "name": "stderr",
     "output_type": "stream",
     "text": [
      "/media/data/miniconda3/envs/jh_class/lib/python3.10/site-packages/keras/src/backend.py:5727: UserWarning: \"`sparse_categorical_crossentropy` received `from_logits=True`, but the `output` argument was produced by a Softmax activation and thus does not represent logits. Was this intended?\n",
      "  output, from_logits = _get_logits(\n"
     ]
    },
    {
     "name": "stdout",
     "output_type": "stream",
     "text": [
      "1500/1500 [==============================] - 39s 26ms/step - loss: 0.2951 - sparse_categorical_accuracy: 0.9074\n"
     ]
    },
    {
     "data": {
      "text/plain": [
       "<keras.src.callbacks.History at 0x7776a87e6890>"
      ]
     },
     "execution_count": 109,
     "metadata": {},
     "output_type": "execute_result"
    }
   ],
   "source": [
    "# Model prediction\n",
    "model = tf.keras.models.Sequential([\n",
    "    tf.keras.layers.Conv2D(32, (3,3), activation='relu', input_shape=(256, 256,1)),\n",
    "    tf.keras.layers.MaxPooling2D(2,2),\n",
    "    tf.keras.layers.Conv2D(64, (3,3), activation='relu'),\n",
    "    tf.keras.layers.MaxPooling2D(2,2),\n",
    "    tf.keras.layers.Flatten(),\n",
    "    tf.keras.layers.Dense(512, activation='relu'),\n",
    "    tf.keras.layers.Dense(10, activation='sigmoid')\n",
    "])\n",
    "\n",
    "# model.compile(optimizer='adam', loss='binary_crossentropy', metrics=['accuracy'])\n",
    "model.compile(\n",
    "    optimizer=tf.keras.optimizers.Adam(0.001),\n",
    "    loss=tf.keras.losses.SparseCategoricalCrossentropy(from_logits=True),\n",
    "    metrics=[tf.keras.metrics.SparseCategoricalAccuracy()],\n",
    ")\n",
    "\n",
    "# Train the model\n",
    "epochs=1\n",
    "model.fit(train_dataset, epochs=epochs)"
   ]
  },
  {
   "cell_type": "code",
   "execution_count": 110,
   "id": "578d46c6",
   "metadata": {},
   "outputs": [],
   "source": [
    "# # Make predictions\n",
    "# predictions = model.predict(test_dataset)\n",
    "# allpreds=predictions.flatten()\n",
    "# allpnorms = np.where(allpreds > 0.5, 1, 0)\n",
    "\n",
    "# alllabels=np.empty(0)\n",
    "# for images, labels in test_dataset:\n",
    "#     alllabels = np.append(alllabels, labels.numpy().flatten())\n",
    "\n",
    "# score = metrics.accuracy_score(alllabels, allpnorms)\n",
    "# print(\"Validation accuracy score: {}\".format(score))\n",
    "\n",
    "# collabels = pd.DataFrame(alllabels, columns=[\"l\"])\n",
    "# colpreds = pd.DataFrame( allpreds, columns=[\"pred\"])\n",
    "# pnorm = pd.DataFrame( allpnorms, columns=[\"pnorm\"])\n",
    "# diff = collabels[\"l\"] - pnorm[\"pnorm\"]\n",
    "\n",
    "# compare = pd.concat([collabels, colpreds,pnorm,diff], axis=1)\n",
    "# compare.columns = [\"l\", \"pred\", \"pnorm\",\"diff\"]\n",
    "# print(compare)\n",
    "\n",
    "# compare.to_csv(OUTPUT_PATH + \"pred_test_fit.csv\", index=False)    \n",
    "\n",
    "# # Save model\n",
    "# timestr = time.strftime(\"%Y%m%d-%H%M%S\")\n",
    "# filename = f\"acc_{score:.3f}_epochs_{epochs:.3f}_date_{timestr}.h5\"\n",
    "# fullpath = f\"{OUTPUT_PATH}{filename}\"\n",
    "# print(\"Saving model to \", filename)\n",
    "# model.save(fullpath)\n"
   ]
  }
 ],
 "metadata": {
  "kernelspec": {
   "display_name": "jh_class",
   "language": "python",
   "name": "python3"
  },
  "language_info": {
   "codemirror_mode": {
    "name": "ipython",
    "version": 3
   },
   "file_extension": ".py",
   "mimetype": "text/x-python",
   "name": "python",
   "nbconvert_exporter": "python",
   "pygments_lexer": "ipython3",
   "version": "3.10.13"
  }
 },
 "nbformat": 4,
 "nbformat_minor": 5
}
