{
 "cells": [
  {
   "cell_type": "code",
   "execution_count": 53,
   "id": "36ae75c8",
   "metadata": {},
   "outputs": [
    {
     "name": "stderr",
     "output_type": "stream",
     "text": [
      "INFO:absl:Load dataset info from /home/tmeng12/tensorflow_datasets/mnist/3.0.1\n",
      "INFO:absl:Fields info.[citation, splits, supervised_keys, module_name] from disk and from code do not match. Keeping the one from code.\n",
      "INFO:absl:Reusing dataset mnist (/home/tmeng12/tensorflow_datasets/mnist/3.0.1)\n"
     ]
    },
    {
     "name": "stderr",
     "output_type": "stream",
     "text": [
      "INFO:absl:Constructing tf.data.Dataset mnist for split ['train', 'test'], from /home/tmeng12/tensorflow_datasets/mnist/3.0.1\n"
     ]
    },
    {
     "name": "stdout",
     "output_type": "stream",
     "text": [
      "Number of training samples: 60000\n",
      "Number of test samples: 10000\n"
     ]
    }
   ],
   "source": [
    "# https://www.tensorflow.org/datasets/keras_example\n",
    "\n",
    "import tensorflow as tf\n",
    "import tensorflow_datasets as tfds\n",
    "import numpy as np\n",
    "import matplotlib.pyplot as plt\n",
    "import logging, os\n",
    "import pandas as pd\n",
    "\n",
    "logging.basicConfig(level=logging.INFO)\n",
    "# logging.basicConfig(level=logging.DEBUG)\n",
    "\n",
    "BASE_PATH = \"../../../../../local_data/practice/tfds/\"\n",
    "DATA_PATH = \"../../../../../local_data/tfds/\"\n",
    "OUTPUT_PATH = BASE_PATH+\"mnist_simple_fit/\"\n",
    "os.system(\"mkdir -p \" + OUTPUT_PATH)\n",
    "\n",
    "\n",
    "(ds_train, ds_test), ds_info = tfds.load(\n",
    "    'mnist',\n",
    "    split=['train', 'test'],\n",
    "    shuffle_files=True,\n",
    "    as_supervised=True,\n",
    "    with_info=True,\n",
    ")\n",
    "\n",
    "print(f\"Number of training samples: {ds_train.cardinality()}\")\n",
    "print(f\"Number of test samples: {ds_test.cardinality()}\")\n",
    "\n",
    "# plt.figure(figsize=(10, 10))\n",
    "# for i, (image, label) in enumerate(ds_train.take(9)):\n",
    "#     ax = plt.subplot(3, 3, i + 1)\n",
    "#     plt.imshow(image)\n",
    "#     plt.title(int(label))\n",
    "#     plt.axis(\"off\")"
   ]
  },
  {
   "cell_type": "code",
   "execution_count": 54,
   "id": "9fe65753",
   "metadata": {},
   "outputs": [
    {
     "name": "stdout",
     "output_type": "stream",
     "text": [
      "0     4\n",
      "1     1\n",
      "2     0\n",
      "3     7\n",
      "4     8\n",
      "5     1\n",
      "6     2\n",
      "7     7\n",
      "8     1\n",
      "9     6\n",
      "10    6\n",
      "11    4\n",
      "12    7\n",
      "13    7\n",
      "14    3\n",
      "15    3\n",
      "16    7\n",
      "17    9\n",
      "18    9\n",
      "19    1\n",
      "Name: label, dtype: int64\n"
     ]
    },
    {
     "name": "stderr",
     "output_type": "stream",
     "text": [
      "2025-07-05 21:13:27.692370: W tensorflow/core/kernels/data/cache_dataset_ops.cc:858] The calling iterator did not fully read the dataset being cached. In order to avoid unexpected truncation of the dataset, the partially cached contents of the dataset  will be discarded. This can happen if you have an input pipeline similar to `dataset.cache().take(k).repeat()`. You should use `dataset.take(k).cache().repeat()` instead.\n"
     ]
    }
   ],
   "source": [
    "c1=tfds.as_dataframe(ds_train.take(20), ds_info)\n",
    "col1 = c1['label']\n",
    "# col1 = pd.DataFrame(train_ds, columns=[\"image\",\"train_ds\"])\n",
    "print(col1)\n"
   ]
  },
  {
   "cell_type": "code",
   "execution_count": 55,
   "id": "b92facee",
   "metadata": {},
   "outputs": [],
   "source": [
    "batch_size=16"
   ]
  },
  {
   "cell_type": "code",
   "execution_count": 56,
   "id": "83dc02aa",
   "metadata": {},
   "outputs": [],
   "source": [
    "def normalize_img(image, label):\n",
    "  \"\"\"Normalizes images: `uint8` -> `float32`.\"\"\"\n",
    "  return tf.cast(image, tf.float32) / 255., label\n",
    "\n",
    "ds_train = ds_train.map(\n",
    "    normalize_img, num_parallel_calls=tf.data.AUTOTUNE)\n",
    "ds_train = ds_train.cache()\n",
    "# ds_train = ds_train.shuffle(ds_info.splits['train'].num_examples)\n",
    "ds_train = ds_train.batch(batch_size)\n",
    "ds_train = ds_train.prefetch(tf.data.AUTOTUNE)"
   ]
  },
  {
   "cell_type": "code",
   "execution_count": 57,
   "id": "2e129a74",
   "metadata": {},
   "outputs": [],
   "source": [
    "ds_test = ds_test.map(\n",
    "    normalize_img, num_parallel_calls=tf.data.AUTOTUNE)\n",
    "ds_test = ds_test.batch(batch_size)\n",
    "ds_test = ds_test.cache()\n",
    "ds_test = ds_test.prefetch(tf.data.AUTOTUNE)"
   ]
  },
  {
   "cell_type": "code",
   "execution_count": 58,
   "id": "5eeb7c29",
   "metadata": {},
   "outputs": [
    {
     "name": "stdout",
     "output_type": "stream",
     "text": [
      "3750/3750 [==============================] - 6s 2ms/step - loss: 0.3724 - sparse_categorical_accuracy: 0.8938 - val_loss: 0.2427 - val_sparse_categorical_accuracy: 0.9295\n"
     ]
    },
    {
     "data": {
      "text/plain": [
       "<keras.src.callbacks.History at 0x7b28d4383d60>"
      ]
     },
     "execution_count": 58,
     "metadata": {},
     "output_type": "execute_result"
    }
   ],
   "source": [
    "model = tf.keras.models.Sequential([\n",
    "  tf.keras.layers.Flatten(input_shape=(28, 28)),\n",
    "  tf.keras.layers.Dense(batch_size, activation='relu'),\n",
    "  tf.keras.layers.Dense(10)\n",
    "])\n",
    "model.compile(\n",
    "    optimizer=tf.keras.optimizers.Adam(0.001),\n",
    "    loss=tf.keras.losses.SparseCategoricalCrossentropy(from_logits=True),\n",
    "    metrics=[tf.keras.metrics.SparseCategoricalAccuracy()],\n",
    ")\n",
    "\n",
    "model.fit(\n",
    "    ds_train,\n",
    "    epochs=1,\n",
    "    validation_data=ds_test,\n",
    ")"
   ]
  },
  {
   "cell_type": "code",
   "execution_count": 66,
   "id": "ab408f6e",
   "metadata": {},
   "outputs": [
    {
     "name": "stdout",
     "output_type": "stream",
     "text": [
      "(3750,)\n",
      "3750/3750 [==============================] - 2s 660us/step\n",
      "                                                  label        p0         p1  \\\n",
      "0      [4, 1, 0, 7, 8, 1, 2, 7, 1, 6, 6, 4, 7, 7, 3, 3] -5.956169  -2.458499   \n",
      "1      [7, 9, 9, 1, 0, 6, 6, 9, 9, 4, 8, 9, 4, 7, 3, 3] -7.247459   5.286657   \n",
      "2      [0, 9, 4, 9, 0, 6, 8, 4, 7, 2, 6, 0, 3, 1, 1, 7]  6.364180 -13.030648   \n",
      "3      [2, 4, 4, 6, 5, 1, 9, 3, 2, 4, 3, 4, 4, 7, 5, 8] -2.080820 -11.679232   \n",
      "4      [1, 1, 4, 1, 5, 3, 5, 8, 4, 1, 1, 4, 5, 3, 2, 4] -0.852570  -8.281330   \n",
      "...                                                 ...       ...        ...   \n",
      "59995                                               NaN -6.878458  -8.306971   \n",
      "59996                                               NaN -6.511928   4.651679   \n",
      "59997                                               NaN  0.543633 -11.649591   \n",
      "59998                                               NaN -8.476761   6.316989   \n",
      "59999                                               NaN -2.062973  -8.252373   \n",
      "\n",
      "              p2        p3        p4        p5         p6         p7  \\\n",
      "0      -3.666446 -3.827793  3.739894 -1.333223  -0.673635  -3.485857   \n",
      "1       0.257103 -0.118548 -4.326395 -6.046022  -6.675352   2.060884   \n",
      "2      -1.342199 -2.941734 -6.083220 -0.517440   0.476591  -6.705421   \n",
      "3      -1.264952 -0.892840 -5.757543 -2.548045 -11.772996   9.052360   \n",
      "4      -0.643564  3.812722 -4.583135  0.266897  -5.180207  -5.097891   \n",
      "...          ...       ...       ...       ...        ...        ...   \n",
      "59995  -0.544648  1.670801 -6.964205 -5.865695 -17.132494  11.506975   \n",
      "59996   1.519968 -0.027312 -3.969824 -6.684813  -7.532210   1.089031   \n",
      "59997   2.916955 -2.882319 -3.039274  2.173707   7.144996  -8.681167   \n",
      "59998  -1.263311  1.581492 -4.074287 -2.518527  -3.306666  -1.747459   \n",
      "59999 -11.159311 -5.850181  1.377741  6.754282  -7.008857  -1.487900   \n",
      "\n",
      "             p8        p9  \n",
      "0     -0.908066 -0.671663  \n",
      "1     -0.111972 -1.363958  \n",
      "2     -1.305179 -3.354089  \n",
      "3     -0.981895 -0.105134  \n",
      "4      4.861974 -0.805707  \n",
      "...         ...       ...  \n",
      "59995 -1.252396  2.236209  \n",
      "59996  0.598283 -0.963457  \n",
      "59997 -3.385985 -7.339815  \n",
      "59998 -0.095882 -1.832639  \n",
      "59999  2.436001 -2.448941  \n",
      "\n",
      "[60000 rows x 11 columns]\n"
     ]
    }
   ],
   "source": [
    "c1=tfds.as_dataframe(ds_train.take(5000), ds_info)\n",
    "col1 = c1['label']\n",
    "print(col1.shape)\n",
    "\n",
    "pred = model.predict(ds_train)\n",
    "# print(\"pred\\n\",pred)\n",
    "# col2 = pd.DataFrame(pred[0:20], columns=[\"p0\",\"p1\",\"p2\",\"p3\",\"p4\",\"p5\",\"p6\",\"p7\",\"p8\",\"p9\"])\n",
    "col2 = pd.DataFrame(pred, columns=[\"p0\",\"p1\",\"p2\",\"p3\",\"p4\",\"p5\",\"p6\",\"p7\",\"p8\",\"p9\"])\n",
    "# print(col2)\n",
    "\n",
    "compare = pd.concat([col1, col2], axis=1)\n",
    "print(compare)\n",
    "compare.to_csv(OUTPUT_PATH + \"pred_train.csv\", index=False)"
   ]
  },
  {
   "cell_type": "code",
   "execution_count": 63,
   "id": "2e687067",
   "metadata": {},
   "outputs": [
    {
     "name": "stdout",
     "output_type": "stream",
     "text": [
      "625/625 [==============================] - 0s 682us/step\n",
      "                                                 label         p0         p1  \\\n",
      "0     [4, 1, 0, 7, 8, 1, 2, 7, 1, 6, 6, 4, 7, 7, 3, 3]  -1.607273  -8.651509   \n",
      "1     [7, 9, 9, 1, 0, 6, 6, 9, 9, 4, 8, 9, 4, 7, 3, 3]  11.293907 -13.419129   \n",
      "2     [0, 9, 4, 9, 0, 6, 8, 4, 7, 2, 6, 0, 3, 1, 1, 7]  -5.026979 -13.232710   \n",
      "3     [2, 4, 4, 6, 5, 1, 9, 3, 2, 4, 3, 4, 4, 7, 5, 8]  -2.464123   1.259126   \n",
      "4     [1, 1, 4, 1, 5, 3, 5, 8, 4, 1, 1, 4, 5, 3, 2, 4]  -4.745425  -9.406466   \n",
      "...                                                ...        ...        ...   \n",
      "9995                                               NaN  -1.270953  -6.688278   \n",
      "9996                                               NaN  -6.967772  -5.836210   \n",
      "9997                                               NaN  -1.490661 -10.125095   \n",
      "9998                                               NaN   9.247137 -15.051533   \n",
      "9999                                               NaN  -2.010626  -5.587040   \n",
      "\n",
      "            p2        p3         p4        p5         p6         p7        p8  \\\n",
      "0     7.620036  1.921903  -4.263691  0.060794  -5.229957  -5.145656  1.224007   \n",
      "1    -0.829534 -5.253804 -10.229202  2.939761  -1.276011 -11.305601 -0.494037   \n",
      "2    -4.273230 -2.741253   6.682111 -2.114347  -3.414756   1.605905 -1.289862   \n",
      "3    -0.050295 -0.204520  -5.914363 -0.858951  -4.871742  -3.687380  4.557539   \n",
      "4    -0.548382  0.726167  -4.693200 -4.082668 -13.995422  10.753796 -1.208008   \n",
      "...        ...       ...        ...       ...        ...        ...       ...   \n",
      "9995 -1.627650 -1.128555  -3.344962  6.220513   1.574622 -10.225335  0.905732   \n",
      "9996 -7.608839  1.860291   0.057612  0.676018  -6.040122   0.746393 -0.806485   \n",
      "9997 -0.101354 -1.885504  -2.175756 -1.485045  -1.329518  -9.235645  6.590412   \n",
      "9998 -1.678155 -3.308967  -7.186980  0.487139  -5.413968  -4.009305 -1.529121   \n",
      "9999 -5.299697 -2.969025  -0.147173  8.211569  -1.936209  -7.690293  1.473206   \n",
      "\n",
      "            p9  \n",
      "0    -2.237836  \n",
      "1    -7.131317  \n",
      "2     1.018717  \n",
      "3    -0.065141  \n",
      "4     0.896001  \n",
      "...        ...  \n",
      "9995 -1.849721  \n",
      "9996  5.662777  \n",
      "9997 -0.239582  \n",
      "9998 -3.357070  \n",
      "9999 -1.734068  \n",
      "\n",
      "[10000 rows x 11 columns]\n"
     ]
    }
   ],
   "source": [
    "pred = model.predict(ds_test)\n",
    "# print(\"pred\\n\",pred)\n",
    "# col2 = pd.DataFrame(pred[0:20], columns=[\"p0\",\"p1\",\"p2\",\"p3\",\"p4\",\"p5\",\"p6\",\"p7\",\"p8\",\"p9\"])\n",
    "col2 = pd.DataFrame(pred, columns=[\"p0\",\"p1\",\"p2\",\"p3\",\"p4\",\"p5\",\"p6\",\"p7\",\"p8\",\"p9\"])\n",
    "# print(col2)\n",
    "\n",
    "compare = pd.concat([col1, col2], axis=1)\n",
    "print(compare)\n",
    "compare.to_csv(OUTPUT_PATH + \"pred_test.csv\", index=False)"
   ]
  }
 ],
 "metadata": {
  "kernelspec": {
   "display_name": "jh_class",
   "language": "python",
   "name": "python3"
  },
  "language_info": {
   "codemirror_mode": {
    "name": "ipython",
    "version": 3
   },
   "file_extension": ".py",
   "mimetype": "text/x-python",
   "name": "python",
   "nbconvert_exporter": "python",
   "pygments_lexer": "ipython3",
   "version": "3.10.13"
  }
 },
 "nbformat": 4,
 "nbformat_minor": 5
}
