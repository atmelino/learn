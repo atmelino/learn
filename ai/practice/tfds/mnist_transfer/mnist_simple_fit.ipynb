{
 "cells": [
  {
   "cell_type": "code",
   "execution_count": 37,
   "id": "36ae75c8",
   "metadata": {},
   "outputs": [
    {
     "name": "stderr",
     "output_type": "stream",
     "text": [
      "INFO:absl:Load dataset info from /home/tmeng12/tensorflow_datasets/mnist/3.0.1\n",
      "INFO:absl:Fields info.[citation, splits, supervised_keys, module_name] from disk and from code do not match. Keeping the one from code.\n",
      "INFO:absl:Reusing dataset mnist (/home/tmeng12/tensorflow_datasets/mnist/3.0.1)\n",
      "INFO:absl:Constructing tf.data.Dataset mnist for split ['train', 'test'], from /home/tmeng12/tensorflow_datasets/mnist/3.0.1\n"
     ]
    },
    {
     "name": "stdout",
     "output_type": "stream",
     "text": [
      "Number of training samples: 60000\n",
      "Number of test samples: 10000\n"
     ]
    }
   ],
   "source": [
    "# https://www.tensorflow.org/datasets/keras_example\n",
    "\n",
    "import tensorflow as tf\n",
    "import tensorflow_datasets as tfds\n",
    "import numpy as np\n",
    "import matplotlib.pyplot as plt\n",
    "import logging, os\n",
    "import pandas as pd\n",
    "\n",
    "logging.basicConfig(level=logging.INFO)\n",
    "# logging.basicConfig(level=logging.DEBUG)\n",
    "\n",
    "BASE_PATH = \"../../../../../local_data/practice/tfds/\"\n",
    "DATA_PATH = \"../../../../../local_data/tfds/\"\n",
    "OUTPUT_PATH = BASE_PATH+\"mnist_simple_fit/\"\n",
    "os.system(\"mkdir -p \" + OUTPUT_PATH)\n",
    "\n",
    "\n",
    "(ds_train, ds_test), ds_info = tfds.load(\n",
    "    'mnist',\n",
    "    split=['train', 'test'],\n",
    "    shuffle_files=True,\n",
    "    as_supervised=True,\n",
    "    with_info=True,\n",
    ")\n",
    "\n",
    "print(f\"Number of training samples: {ds_train.cardinality()}\")\n",
    "print(f\"Number of test samples: {ds_test.cardinality()}\")\n",
    "\n",
    "# plt.figure(figsize=(10, 10))\n",
    "# for i, (image, label) in enumerate(ds_train.take(9)):\n",
    "#     ax = plt.subplot(3, 3, i + 1)\n",
    "#     plt.imshow(image)\n",
    "#     plt.title(int(label))\n",
    "#     plt.axis(\"off\")"
   ]
  },
  {
   "cell_type": "code",
   "execution_count": 38,
   "id": "9fe65753",
   "metadata": {},
   "outputs": [
    {
     "name": "stdout",
     "output_type": "stream",
     "text": [
      "0     4\n",
      "1     1\n",
      "2     0\n",
      "3     7\n",
      "4     8\n",
      "5     1\n",
      "6     2\n",
      "7     7\n",
      "8     1\n",
      "9     6\n",
      "10    6\n",
      "11    4\n",
      "12    7\n",
      "13    7\n",
      "14    3\n",
      "15    3\n",
      "16    7\n",
      "17    9\n",
      "18    9\n",
      "19    1\n",
      "Name: label, dtype: int64\n"
     ]
    },
    {
     "name": "stderr",
     "output_type": "stream",
     "text": [
      "2025-07-05 16:35:51.341628: W tensorflow/core/kernels/data/cache_dataset_ops.cc:858] The calling iterator did not fully read the dataset being cached. In order to avoid unexpected truncation of the dataset, the partially cached contents of the dataset  will be discarded. This can happen if you have an input pipeline similar to `dataset.cache().take(k).repeat()`. You should use `dataset.take(k).cache().repeat()` instead.\n"
     ]
    }
   ],
   "source": [
    "c1=tfds.as_dataframe(ds_train.take(20), ds_info)\n",
    "col1 = c1['label']\n",
    "# col1 = pd.DataFrame(train_ds, columns=[\"image\",\"train_ds\"])\n",
    "print(col1)\n"
   ]
  },
  {
   "cell_type": "code",
   "execution_count": 39,
   "id": "83dc02aa",
   "metadata": {},
   "outputs": [],
   "source": [
    "def normalize_img(image, label):\n",
    "  \"\"\"Normalizes images: `uint8` -> `float32`.\"\"\"\n",
    "  return tf.cast(image, tf.float32) / 255., label\n",
    "\n",
    "ds_train = ds_train.map(\n",
    "    normalize_img, num_parallel_calls=tf.data.AUTOTUNE)\n",
    "ds_train = ds_train.cache()\n",
    "ds_train = ds_train.shuffle(ds_info.splits['train'].num_examples)\n",
    "ds_train = ds_train.batch(128)\n",
    "ds_train = ds_train.prefetch(tf.data.AUTOTUNE)"
   ]
  },
  {
   "cell_type": "code",
   "execution_count": 40,
   "id": "2e129a74",
   "metadata": {},
   "outputs": [],
   "source": [
    "ds_test = ds_test.map(\n",
    "    normalize_img, num_parallel_calls=tf.data.AUTOTUNE)\n",
    "ds_test = ds_test.batch(128)\n",
    "ds_test = ds_test.cache()\n",
    "ds_test = ds_test.prefetch(tf.data.AUTOTUNE)"
   ]
  },
  {
   "cell_type": "code",
   "execution_count": 41,
   "id": "5eeb7c29",
   "metadata": {},
   "outputs": [
    {
     "name": "stdout",
     "output_type": "stream",
     "text": [
      "Epoch 1/6\n",
      "469/469 [==============================] - 3s 3ms/step - loss: 0.3542 - sparse_categorical_accuracy: 0.9027 - val_loss: 0.1915 - val_sparse_categorical_accuracy: 0.9446\n",
      "Epoch 2/6\n",
      "469/469 [==============================] - 2s 3ms/step - loss: 0.1640 - sparse_categorical_accuracy: 0.9532 - val_loss: 0.1387 - val_sparse_categorical_accuracy: 0.9570\n",
      "Epoch 3/6\n",
      "469/469 [==============================] - 2s 3ms/step - loss: 0.1196 - sparse_categorical_accuracy: 0.9658 - val_loss: 0.1095 - val_sparse_categorical_accuracy: 0.9680\n",
      "Epoch 4/6\n",
      "469/469 [==============================] - 2s 3ms/step - loss: 0.0932 - sparse_categorical_accuracy: 0.9728 - val_loss: 0.1001 - val_sparse_categorical_accuracy: 0.9688\n",
      "Epoch 5/6\n",
      "469/469 [==============================] - 1s 3ms/step - loss: 0.0758 - sparse_categorical_accuracy: 0.9780 - val_loss: 0.0872 - val_sparse_categorical_accuracy: 0.9746\n",
      "Epoch 6/6\n",
      "469/469 [==============================] - 1s 3ms/step - loss: 0.0626 - sparse_categorical_accuracy: 0.9821 - val_loss: 0.0825 - val_sparse_categorical_accuracy: 0.9746\n"
     ]
    },
    {
     "data": {
      "text/plain": [
       "<keras.src.callbacks.History at 0x76fe206eacb0>"
      ]
     },
     "execution_count": 41,
     "metadata": {},
     "output_type": "execute_result"
    }
   ],
   "source": [
    "model = tf.keras.models.Sequential([\n",
    "  tf.keras.layers.Flatten(input_shape=(28, 28)),\n",
    "  tf.keras.layers.Dense(128, activation='relu'),\n",
    "  tf.keras.layers.Dense(10)\n",
    "])\n",
    "model.compile(\n",
    "    optimizer=tf.keras.optimizers.Adam(0.001),\n",
    "    loss=tf.keras.losses.SparseCategoricalCrossentropy(from_logits=True),\n",
    "    metrics=[tf.keras.metrics.SparseCategoricalAccuracy()],\n",
    ")\n",
    "\n",
    "model.fit(\n",
    "    ds_train,\n",
    "    epochs=6,\n",
    "    validation_data=ds_test,\n",
    ")"
   ]
  },
  {
   "cell_type": "code",
   "execution_count": 42,
   "id": "ab408f6e",
   "metadata": {},
   "outputs": [
    {
     "name": "stdout",
     "output_type": "stream",
     "text": [
      "469/469 [==============================] - 1s 1ms/step\n",
      "pred\n",
      " [[ -4.982441    -5.3980865   -2.0220566  ...  -1.4140185   -6.693772\n",
      "   -2.1357856 ]\n",
      " [ -9.589455    -4.6805024   -4.1413274  ... -10.023688     1.2847191\n",
      "   -0.16779128]\n",
      " [ -7.8583755   -3.8878503    9.492837   ...  -9.776202    -0.93961823\n",
      "   -4.4986873 ]\n",
      " ...\n",
      " [ -6.2451305   -6.6068544   -2.5088427  ...  -9.003259     9.393931\n",
      "   -0.5799242 ]\n",
      " [ -6.3814297    6.801446    -2.5506017  ...  -0.5635487   -2.6256201\n",
      "   -5.503732  ]\n",
      " [ -8.505396    -2.1075935   -2.6739006  ... -10.7592325   -1.0060546\n",
      "   -0.39955002]]\n",
      "           p0         p1        p2         p3         p4        p5         p6  \\\n",
      "0   -4.982441  -5.398087 -2.022057  -4.477812   8.419209 -6.223377  -2.875536   \n",
      "1   -9.589455  -4.680502 -4.141327   2.337778  -8.765142  8.257325  -5.988466   \n",
      "2   -7.858376  -3.887850  9.492837   1.789162  -6.692420 -7.813008  -7.781231   \n",
      "3  -11.777388  -0.797188 -1.375965   1.720406  -5.605047 -5.030684 -11.350565   \n",
      "4   -3.762067  -5.926872 -3.634418   0.594005  -0.094136 -5.908297  -9.909420   \n",
      "5   -6.388640  -7.007925 -4.783582   8.227901  -7.375295  2.072030 -14.145214   \n",
      "6    8.484571  -3.427753  1.170360  -3.461397 -13.610508  2.587625  -4.234998   \n",
      "7   10.177855  -4.352880 -2.240430  -9.014365  -3.603715 -0.661245   4.635416   \n",
      "8   -6.973285  -7.405877 -3.094775  -2.958290  10.377844 -7.433637  -5.957757   \n",
      "9   14.533360  -7.756119 -3.276215 -10.477646  -8.695430  0.909763   3.037425   \n",
      "10   3.524019  -3.901430 -1.206833  -6.039618  -3.304179  1.146459   7.710002   \n",
      "11  -2.103941  -4.697814  9.920202  -0.659642  -9.597968 -7.155586  -8.905054   \n",
      "12   0.500143  -9.243078 -4.811916  -1.330651  -4.130298 -2.345758  -2.102320   \n",
      "13  -5.076663  -4.768531  1.646306  -0.327916  -6.421844 -2.066777  -3.831902   \n",
      "14  -2.553458  -7.353631  0.204874  -4.361221   6.219444 -2.575030  -2.063739   \n",
      "15  -0.790962  -8.175318 -6.235920  -4.141965  -8.916314  9.915874   0.502606   \n",
      "16   4.592720 -10.560321  0.927325  -7.554157   4.109694 -5.347840  10.049263   \n",
      "17  -1.448182  -7.533340 -0.005060   0.865902 -10.630957 -3.554805 -15.807885   \n",
      "18  -5.749269   5.832349 -4.474115  -4.448291  -6.105017 -4.947003  -2.161433   \n",
      "19  -5.546371  -3.313037 -5.864398   8.713611 -10.578516  1.882545 -11.653614   \n",
      "\n",
      "           p7        p8        p9  \n",
      "0   -1.414019 -6.693772 -2.135786  \n",
      "1  -10.023688  1.284719 -0.167791  \n",
      "2   -9.776202 -0.939618 -4.498687  \n",
      "3    5.629530 -0.437799  2.101696  \n",
      "4    0.643940 -0.277320  8.246522  \n",
      "5  -10.866334  2.271130  0.563399  \n",
      "6   -8.979692 -2.879152 -6.798327  \n",
      "7   -8.223273 -4.924898 -2.183481  \n",
      "8   -1.956762 -4.019261  2.352816  \n",
      "9   -2.006964 -4.631085 -6.160650  \n",
      "10  -7.497182 -3.838354 -6.778424  \n",
      "11   1.140529 -3.142759 -1.242533  \n",
      "12  -7.369794  5.244723  0.687051  \n",
      "13  -3.331409  6.486452 -1.409113  \n",
      "14  -2.856482 -5.461894  0.421540  \n",
      "15  -9.984497  1.046388  0.662328  \n",
      "16  -6.407418 -6.357333 -9.715617  \n",
      "17  11.887149 -2.245991  1.631368  \n",
      "18  -4.121234 -0.458883 -5.116069  \n",
      "19 -16.379480  3.056749 -0.638191  \n",
      "    label         p0         p1        p2         p3         p4        p5  \\\n",
      "0       4  -4.982441  -5.398087 -2.022057  -4.477812   8.419209 -6.223377   \n",
      "1       1  -9.589455  -4.680502 -4.141327   2.337778  -8.765142  8.257325   \n",
      "2       0  -7.858376  -3.887850  9.492837   1.789162  -6.692420 -7.813008   \n",
      "3       7 -11.777388  -0.797188 -1.375965   1.720406  -5.605047 -5.030684   \n",
      "4       8  -3.762067  -5.926872 -3.634418   0.594005  -0.094136 -5.908297   \n",
      "5       1  -6.388640  -7.007925 -4.783582   8.227901  -7.375295  2.072030   \n",
      "6       2   8.484571  -3.427753  1.170360  -3.461397 -13.610508  2.587625   \n",
      "7       7  10.177855  -4.352880 -2.240430  -9.014365  -3.603715 -0.661245   \n",
      "8       1  -6.973285  -7.405877 -3.094775  -2.958290  10.377844 -7.433637   \n",
      "9       6  14.533360  -7.756119 -3.276215 -10.477646  -8.695430  0.909763   \n",
      "10      6   3.524019  -3.901430 -1.206833  -6.039618  -3.304179  1.146459   \n",
      "11      4  -2.103941  -4.697814  9.920202  -0.659642  -9.597968 -7.155586   \n",
      "12      7   0.500143  -9.243078 -4.811916  -1.330651  -4.130298 -2.345758   \n",
      "13      7  -5.076663  -4.768531  1.646306  -0.327916  -6.421844 -2.066777   \n",
      "14      3  -2.553458  -7.353631  0.204874  -4.361221   6.219444 -2.575030   \n",
      "15      3  -0.790962  -8.175318 -6.235920  -4.141965  -8.916314  9.915874   \n",
      "16      7   4.592720 -10.560321  0.927325  -7.554157   4.109694 -5.347840   \n",
      "17      9  -1.448182  -7.533340 -0.005060   0.865902 -10.630957 -3.554805   \n",
      "18      9  -5.749269   5.832349 -4.474115  -4.448291  -6.105017 -4.947003   \n",
      "19      1  -5.546371  -3.313037 -5.864398   8.713611 -10.578516  1.882545   \n",
      "\n",
      "           p6         p7        p8        p9  \n",
      "0   -2.875536  -1.414019 -6.693772 -2.135786  \n",
      "1   -5.988466 -10.023688  1.284719 -0.167791  \n",
      "2   -7.781231  -9.776202 -0.939618 -4.498687  \n",
      "3  -11.350565   5.629530 -0.437799  2.101696  \n",
      "4   -9.909420   0.643940 -0.277320  8.246522  \n",
      "5  -14.145214 -10.866334  2.271130  0.563399  \n",
      "6   -4.234998  -8.979692 -2.879152 -6.798327  \n",
      "7    4.635416  -8.223273 -4.924898 -2.183481  \n",
      "8   -5.957757  -1.956762 -4.019261  2.352816  \n",
      "9    3.037425  -2.006964 -4.631085 -6.160650  \n",
      "10   7.710002  -7.497182 -3.838354 -6.778424  \n",
      "11  -8.905054   1.140529 -3.142759 -1.242533  \n",
      "12  -2.102320  -7.369794  5.244723  0.687051  \n",
      "13  -3.831902  -3.331409  6.486452 -1.409113  \n",
      "14  -2.063739  -2.856482 -5.461894  0.421540  \n",
      "15   0.502606  -9.984497  1.046388  0.662328  \n",
      "16  10.049263  -6.407418 -6.357333 -9.715617  \n",
      "17 -15.807885  11.887149 -2.245991  1.631368  \n",
      "18  -2.161433  -4.121234 -0.458883 -5.116069  \n",
      "19 -11.653614 -16.379480  3.056749 -0.638191  \n"
     ]
    }
   ],
   "source": [
    "# pred = model.predict(test_ds)\n",
    "pred = model.predict(ds_train)\n",
    "print(\"pred\\n\",pred)\n",
    "\n",
    "# col2 = pd.DataFrame(pred[0:20], columns=[\"p1\"])\n",
    "col2 = pd.DataFrame(pred[0:20], columns=[\"p0\",\"p1\",\"p2\",\"p3\",\"p4\",\"p5\",\"p6\",\"p7\",\"p8\",\"p9\"])\n",
    "print(col2)\n",
    "\n",
    "compare = pd.concat([col1, col2], axis=1)\n",
    "print(compare)\n",
    "compare.to_csv(OUTPUT_PATH + \"pred.csv\", index=False)\n"
   ]
  }
 ],
 "metadata": {
  "kernelspec": {
   "display_name": "jh_class",
   "language": "python",
   "name": "python3"
  },
  "language_info": {
   "codemirror_mode": {
    "name": "ipython",
    "version": 3
   },
   "file_extension": ".py",
   "mimetype": "text/x-python",
   "name": "python",
   "nbconvert_exporter": "python",
   "pygments_lexer": "ipython3",
   "version": "3.10.13"
  }
 },
 "nbformat": 4,
 "nbformat_minor": 5
}
