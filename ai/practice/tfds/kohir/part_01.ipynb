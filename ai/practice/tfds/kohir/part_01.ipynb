{
 "cells": [
  {
   "cell_type": "markdown",
   "id": "dc724d56",
   "metadata": {},
   "source": [
    "https://blog.devgenius.io/starting-with-tensorflow-datasets-part-1-an-intro-to-tf-datasets-9a26e2db4995"
   ]
  },
  {
   "cell_type": "code",
   "execution_count": 3,
   "id": "7a8455be",
   "metadata": {},
   "outputs": [],
   "source": [
    "import tensorflow as tf\n",
    "import numpy as np"
   ]
  },
  {
   "cell_type": "code",
   "execution_count": 4,
   "id": "2d31024a",
   "metadata": {},
   "outputs": [
    {
     "data": {
      "text/plain": [
       "TensorSpec(shape=(), dtype=tf.int32, name=None)"
      ]
     },
     "execution_count": 4,
     "metadata": {},
     "output_type": "execute_result"
    }
   ],
   "source": [
    "list_data = tf.data.Dataset.from_tensor_slices([1, 2, 3])\n",
    "list_data.element_spec # The type specification of an element of this dataset."
   ]
  },
  {
   "cell_type": "code",
   "execution_count": 5,
   "id": "6144ed42",
   "metadata": {},
   "outputs": [
    {
     "data": {
      "text/plain": [
       "TensorSpec(shape=(3,), dtype=tf.int64, name=None)"
      ]
     },
     "execution_count": 5,
     "metadata": {},
     "output_type": "execute_result"
    }
   ],
   "source": [
    "np_data = tf.data.Dataset.from_tensor_slices(np.array([\n",
    "                                                       [1, 2, 3],\n",
    "                                                       [4, 5, 6,],\n",
    "                                                       [7, 8, 9],\n",
    "                                                       ]\n",
    "                                            ))\n",
    "np_data.element_spec"
   ]
  },
  {
   "cell_type": "code",
   "execution_count": 7,
   "id": "8d17c971",
   "metadata": {},
   "outputs": [],
   "source": [
    "# Load data the mnist data\n",
    "train, test = tf.keras.datasets.mnist.load_data()\n",
    "# Read the images array's and the lables\n",
    "images, lables = train\n",
    "# Quick preprocess\n",
    "images = images/255.0\n",
    "# Create your dataset\n",
    "mnist_dataset = tf.data.Dataset.from_tensor_slices((images, lables))"
   ]
  },
  {
   "cell_type": "code",
   "execution_count": 8,
   "id": "70591b52",
   "metadata": {},
   "outputs": [
    {
     "data": {
      "text/plain": [
       "(TensorSpec(shape=(28, 28), dtype=tf.float64, name=None),\n",
       " TensorSpec(shape=(), dtype=tf.uint8, name=None))"
      ]
     },
     "execution_count": 8,
     "metadata": {},
     "output_type": "execute_result"
    }
   ],
   "source": [
    "# Element inspection\n",
    "mnist_dataset.element_spec\n",
    "# Returns the created tensors and following is the output\n",
    "# (TensorSpec(shape=(28, 28), dtype=tf.float64, name=None),\n",
    "# TensorSpec(shape=(), dtype=tf.uint8, name=None))"
   ]
  },
  {
   "cell_type": "code",
   "execution_count": 11,
   "id": "35c07cc9",
   "metadata": {},
   "outputs": [
    {
     "name": "stdout",
     "output_type": "stream",
     "text": [
      "Shape of X, y\n",
      "(28, 28) ()\n",
      "<class 'numpy.ndarray'> , This number is --> 5\n"
     ]
    }
   ],
   "source": [
    "\n",
    "# X is the first input array and y is the corresponding lable\n",
    "for X,y in mnist_dataset.as_numpy_iterator():\n",
    "    print(\"Shape of X, y\")\n",
    "    print(X.shape, y.shape)\n",
    "    print(type(X), \", This number is -->\", y)\n",
    "    break # to avoid iterating over all the training examples\n",
    "# Output is as follows:\n",
    "# Shape of X, y\n",
    "# (28, 28) ()\n",
    "# <class 'numpy.ndarray'> , This number is --> 5"
   ]
  }
 ],
 "metadata": {
  "kernelspec": {
   "display_name": "jh_class",
   "language": "python",
   "name": "python3"
  },
  "language_info": {
   "codemirror_mode": {
    "name": "ipython",
    "version": 3
   },
   "file_extension": ".py",
   "mimetype": "text/x-python",
   "name": "python",
   "nbconvert_exporter": "python",
   "pygments_lexer": "ipython3",
   "version": "3.10.13"
  }
 },
 "nbformat": 4,
 "nbformat_minor": 5
}
