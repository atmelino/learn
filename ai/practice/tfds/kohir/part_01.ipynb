{
 "cells": [
  {
   "cell_type": "markdown",
   "id": "dc724d56",
   "metadata": {},
   "source": [
    "https://blog.devgenius.io/starting-with-tensorflow-datasets-part-1-an-intro-to-tf-datasets-9a26e2db4995"
   ]
  },
  {
   "cell_type": "code",
   "execution_count": 7,
   "id": "7a8455be",
   "metadata": {},
   "outputs": [],
   "source": [
    "import tensorflow as tf\n",
    "import numpy as np\n"
   ]
  },
  {
   "cell_type": "code",
   "execution_count": 8,
   "id": "ad4e529c",
   "metadata": {},
   "outputs": [],
   "source": [
    "# Causes Error\n",
    "\n",
    "# #Creating a tensorflow dataset using a list\n",
    "# list_data = tf.data.Dataset.from_tensor_slices([1, 2, 3],)\n",
    "# #Creating a tensorflow dataset using a numpy array\n",
    "# np_data = tf.data.Dataset.from_tensor_slices(np.array([[1, 2, 3]\n",
    "#                                                        [4, 5, 6,],\n",
    "#                                                        [7, 8, 9],\n",
    "#                                                        ]\n",
    "#                                                ))\n",
    "                                               \n",
    "# #Use the element_spec attribute to look at your data\n",
    "# print(list_data.element_spec)\n",
    "# # TensorSpec(shape=(), dtype=tf.int32, name=None)\n",
    "# np_data.element_spec\n",
    "# # TensorSpec(shape=(3,), dtype=tf.int64, name=None)"
   ]
  },
  {
   "cell_type": "code",
   "execution_count": 9,
   "id": "35c07cc9",
   "metadata": {},
   "outputs": [
    {
     "name": "stdout",
     "output_type": "stream",
     "text": [
      "Shape of X, y\n",
      "(28, 28) ()\n",
      "<class 'numpy.ndarray'> , This number is --> 5\n"
     ]
    }
   ],
   "source": [
    "# Load data the mnist data\n",
    "train, test = tf.keras.datasets.mnist.load_data()\n",
    "# Read the images array's and the lables\n",
    "images, lables = train\n",
    "# Quick preprocess\n",
    "images = images/255.0\n",
    "# Create your dataset\n",
    "mnist_dataset = tf.data.Dataset.from_tensor_slices((images, lables))\n",
    "# Element inspection\n",
    "mnist_dataset.element_spec\n",
    "# Returns the created tensors and following is the output\n",
    "# (TensorSpec(shape=(28, 28), dtype=tf.float64, name=None),\n",
    "# TensorSpec(shape=(), dtype=tf.uint8, name=None))\n",
    "\n",
    "# X is the first input array and y is the corresponding lable\n",
    "for X,y in mnist_dataset.as_numpy_iterator():\n",
    "    print(\"Shape of X, y\")\n",
    "    print(X.shape, y.shape)\n",
    "    print(type(X), \", This number is -->\", y)\n",
    "    break # to avoid iterating over all the training examples\n",
    "# Output is as follows:\n",
    "# Shape of X, y\n",
    "# (28, 28) ()\n",
    "# <class 'numpy.ndarray'> , This number is --> 5"
   ]
  }
 ],
 "metadata": {
  "kernelspec": {
   "display_name": "jh_class",
   "language": "python",
   "name": "python3"
  },
  "language_info": {
   "codemirror_mode": {
    "name": "ipython",
    "version": 3
   },
   "file_extension": ".py",
   "mimetype": "text/x-python",
   "name": "python",
   "nbconvert_exporter": "python",
   "pygments_lexer": "ipython3",
   "version": "3.10.13"
  }
 },
 "nbformat": 4,
 "nbformat_minor": 5
}
