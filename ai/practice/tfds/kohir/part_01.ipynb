{
 "cells": [
  {
   "cell_type": "markdown",
   "id": "dc724d56",
   "metadata": {},
   "source": [
    "https://blog.devgenius.io/starting-with-tensorflow-datasets-part-1-an-intro-to-tf-datasets-9a26e2db4995"
   ]
  },
  {
   "cell_type": "code",
   "execution_count": 1,
   "id": "7a8455be",
   "metadata": {},
   "outputs": [
    {
     "name": "stderr",
     "output_type": "stream",
     "text": [
      "2025-07-22 12:00:08.306532: E external/local_xla/xla/stream_executor/cuda/cuda_dnn.cc:9261] Unable to register cuDNN factory: Attempting to register factory for plugin cuDNN when one has already been registered\n",
      "2025-07-22 12:00:08.306565: E external/local_xla/xla/stream_executor/cuda/cuda_fft.cc:607] Unable to register cuFFT factory: Attempting to register factory for plugin cuFFT when one has already been registered\n",
      "2025-07-22 12:00:08.307408: E external/local_xla/xla/stream_executor/cuda/cuda_blas.cc:1515] Unable to register cuBLAS factory: Attempting to register factory for plugin cuBLAS when one has already been registered\n",
      "2025-07-22 12:00:08.312458: I tensorflow/core/platform/cpu_feature_guard.cc:182] This TensorFlow binary is optimized to use available CPU instructions in performance-critical operations.\n",
      "To enable the following instructions: SSE4.1 SSE4.2 AVX AVX2 FMA, in other operations, rebuild TensorFlow with the appropriate compiler flags.\n"
     ]
    }
   ],
   "source": [
    "import tensorflow as tf\n",
    "import numpy as np"
   ]
  },
  {
   "cell_type": "code",
   "execution_count": 4,
   "id": "2d31024a",
   "metadata": {},
   "outputs": [
    {
     "data": {
      "text/plain": [
       "TensorSpec(shape=(), dtype=tf.int32, name=None)"
      ]
     },
     "execution_count": 4,
     "metadata": {},
     "output_type": "execute_result"
    }
   ],
   "source": [
    "list_data = tf.data.Dataset.from_tensor_slices([1, 2, 3],)\n",
    "list_data.element_spec # The type specification of an element of this dataset."
   ]
  },
  {
   "cell_type": "code",
   "execution_count": 6,
   "id": "6144ed42",
   "metadata": {},
   "outputs": [
    {
     "data": {
      "text/plain": [
       "TensorSpec(shape=(3,), dtype=tf.int64, name=None)"
      ]
     },
     "execution_count": 6,
     "metadata": {},
     "output_type": "execute_result"
    }
   ],
   "source": [
    "np_data = tf.data.Dataset.from_tensor_slices(np.array([\n",
    "                                                       [1, 2, 3],\n",
    "                                                       [4, 5, 6,],\n",
    "                                                       [7, 8, 9],\n",
    "                                                       ]\n",
    "                                            ))\n",
    "np_data.element_spec"
   ]
  },
  {
   "cell_type": "code",
   "execution_count": 7,
   "id": "8d17c971",
   "metadata": {},
   "outputs": [
    {
     "data": {
      "text/plain": [
       "(TensorSpec(shape=(28, 28), dtype=tf.float64, name=None),\n",
       " TensorSpec(shape=(), dtype=tf.uint8, name=None))"
      ]
     },
     "execution_count": 7,
     "metadata": {},
     "output_type": "execute_result"
    }
   ],
   "source": [
    "# Load data the mnist data\n",
    "train, test = tf.keras.datasets.mnist.load_data()\n",
    "# Read the images array's and the lables\n",
    "images, lables = train\n",
    "# Quick preprocess\n",
    "images = images/255.0\n",
    "# Create your dataset\n",
    "mnist_dataset = tf.data.Dataset.from_tensor_slices((images, lables))\n",
    "# Element inspection\n",
    "mnist_dataset.element_spec\n",
    "# Returns the created tensors and following is the output\n",
    "# (TensorSpec(shape=(28, 28), dtype=tf.float64, name=None),\n",
    "# TensorSpec(shape=(), dtype=tf.uint8, name=None))"
   ]
  },
  {
   "cell_type": "code",
   "execution_count": 10,
   "id": "35c07cc9",
   "metadata": {},
   "outputs": [
    {
     "name": "stdout",
     "output_type": "stream",
     "text": [
      "Shape of X, y\n",
      "(28, 28) ()\n",
      "<class 'numpy.ndarray'> , This number is --> 5\n"
     ]
    }
   ],
   "source": [
    "\n",
    "# X is the first input array and y is the corresponding lable\n",
    "for X,y in mnist_dataset.as_numpy_iterator():\n",
    "    print(\"Shape of X, y\")\n",
    "    print(X.shape, y.shape)\n",
    "    print(type(X), \", This number is -->\", y)\n",
    "    break # to avoid iterating over all the training examples\n",
    "# Output is as follows:\n",
    "# Shape of X, y\n",
    "# (28, 28) ()\n",
    "# <class 'numpy.ndarray'> , This number is --> 5"
   ]
  }
 ],
 "metadata": {
  "kernelspec": {
   "display_name": "jh_class",
   "language": "python",
   "name": "python3"
  },
  "language_info": {
   "codemirror_mode": {
    "name": "ipython",
    "version": 3
   },
   "file_extension": ".py",
   "mimetype": "text/x-python",
   "name": "python",
   "nbconvert_exporter": "python",
   "pygments_lexer": "ipython3",
   "version": "3.10.13"
  }
 },
 "nbformat": 4,
 "nbformat_minor": 5
}
