{
 "cells": [
  {
   "cell_type": "code",
   "execution_count": null,
   "id": "03bc5965",
   "metadata": {},
   "outputs": [],
   "source": [
    "    # plt.imshow((image * 255).astype(np.uint8))\n"
   ]
  },
  {
   "cell_type": "markdown",
   "id": "92e66873",
   "metadata": {},
   "source": [
    "Before map resize:\n",
    "\n",
    "print(\"train_ds\",train_ds)\n",
    "\n",
    "train_ds <_PrefetchDataset element_spec=(TensorSpec(shape=(28, 28, 1), dtype=tf.uint8, name=None), TensorSpec(shape=(), dtype=tf.int64, name=None))>\n",
    "\n",
    "After map resize:\n",
    "\n",
    "print(\"train_ds\",train_ds)\n",
    "\n",
    "train_ds <_MapDataset element_spec=(TensorSpec(shape=(10, 10, 1), dtype=tf.float32, name=None), TensorSpec(shape=(), dtype=tf.int64, name=None))>\n",
    "\n",
    "\n",
    "dtype of element_spec changed from uint8 to float32!\n",
    "\n"
   ]
  }
 ],
 "metadata": {
  "language_info": {
   "name": "python"
  }
 },
 "nbformat": 4,
 "nbformat_minor": 5
}
