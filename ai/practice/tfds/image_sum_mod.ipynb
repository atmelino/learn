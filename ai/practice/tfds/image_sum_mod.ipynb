{
 "cells": [
  {
   "cell_type": "markdown",
   "id": "c005121b",
   "metadata": {},
   "source": [
    "https://stackoverflow.com/questions/55421290/tensorflow-2-0-keras-how-to-write-image-summaries-for-tensorboard"
   ]
  },
  {
   "cell_type": "code",
   "execution_count": 9,
   "id": "358980e9",
   "metadata": {},
   "outputs": [],
   "source": [
    "import tensorflow_datasets as tfds\n",
    "\n",
    "dataset = tfds.load(\"mnist\", as_supervised=True, split=tfds.Split.TRAIN)"
   ]
  },
  {
   "cell_type": "code",
   "execution_count": null,
   "id": "58563a7f",
   "metadata": {},
   "outputs": [
    {
     "name": "stderr",
     "output_type": "stream",
     "text": [
      "2025-06-30 14:20:42.980086: W tensorflow/core/kernels/data/cache_dataset_ops.cc:858] The calling iterator did not fully read the dataset being cached. In order to avoid unexpected truncation of the dataset, the partially cached contents of the dataset  will be discarded. This can happen if you have an input pipeline similar to `dataset.cache().take(k).repeat()`. You should use `dataset.take(k).cache().repeat()` instead.\n",
      "2025-06-30 14:20:43.049070: W tensorflow/core/kernels/data/cache_dataset_ops.cc:858] The calling iterator did not fully read the dataset being cached. In order to avoid unexpected truncation of the dataset, the partially cached contents of the dataset  will be discarded. This can happen if you have an input pipeline similar to `dataset.cache().take(k).repeat()`. You should use `dataset.take(k).cache().repeat()` instead.\n",
      "2025-06-30 14:20:43.128290: W tensorflow/core/kernels/data/cache_dataset_ops.cc:858] The calling iterator did not fully read the dataset being cached. In order to avoid unexpected truncation of the dataset, the partially cached contents of the dataset  will be discarded. This can happen if you have an input pipeline similar to `dataset.cache().take(k).repeat()`. You should use `dataset.take(k).cache().repeat()` instead.\n"
     ]
    },
    {
     "data": {
      "image/png": "[encoded data removed]",
      "text/plain": [
       "<Figure size 1000x1000 with 2 Axes>"
      ]
     },
     "metadata": {},
     "output_type": "display_data"
    },
    {
     "data": {
      "image/png": "[encoded data removed]",
      "text/plain": [
       "<Figure size 1000x1000 with 2 Axes>"
      ]
     },
     "metadata": {},
     "output_type": "display_data"
    },
    {
     "data": {
      "image/png": "[encoded data removed]",
      "text/plain": [
       "<Figure size 1000x1000 with 2 Axes>"
      ]
     },
     "metadata": {},
     "output_type": "display_data"
    }
   ],
   "source": [
    "import tensorflow as tf\n",
    "import tensorflow_datasets as tfds\n",
    "import matplotlib.pyplot as plt\n",
    "\n",
    "\n",
    "class ExampleAugmentation:\n",
    "    def __init__(self, logdir: str, max_images: int, name: str):\n",
    "        self.file_writer = tf.summary.create_file_writer(logdir)\n",
    "        self.max_images: int = max_images\n",
    "        self.name: str = name\n",
    "        self._counter: int = 0\n",
    "\n",
    "    def __call__(self, image, label):\n",
    "        augmented_image = tf.image.random_flip_left_right(\n",
    "            tf.image.random_flip_up_down(image)\n",
    "        )\n",
    "        with self.file_writer.as_default():\n",
    "            tf.summary.image(\n",
    "                self.name,\n",
    "                augmented_image,\n",
    "                step=self._counter,\n",
    "                max_outputs=self.max_images,\n",
    "            )\n",
    "\n",
    "        self._counter += 1\n",
    "        return augmented_image, label\n",
    "\n",
    "\n",
    "if __name__ == \"__main__\":\n",
    "\n",
    "    # Global settings\n",
    "\n",
    "    BATCH_SIZE = 32\n",
    "    DATASET_SIZE = 60000\n",
    "    EPOCHS = 5\n",
    "\n",
    "    LOG_DIR = \".\"\n",
    "    AUGMENTATION = ExampleAugmentation(LOG_DIR, max_images=4, name=\"Images\")\n",
    "\n",
    "    # Dataset\n",
    "\n",
    "    # dataset = tfds.load(\"mnist\", as_supervised=True, split=tfds.Split.TRAIN)\n",
    "    dataset = tfds.load(\"cats_vs_dogs\", as_supervised=True, split=tfds.Split.TRAIN)\n",
    "    # tfds.show_examples(train_ds,metadata)\n",
    "    plt.figure(figsize=(10, 10))\n",
    "    for i, (image, label) in enumerate(dataset.take(2)):\n",
    "        ax = plt.subplot(3, 3, i + 1)\n",
    "        plt.imshow(image)\n",
    "        plt.title(int(label))\n",
    "        plt.axis(\"off\")\n",
    "\n",
    "\n",
    "    size = (150, 150)\n",
    "    size = (15, 15)\n",
    "    dataset = dataset.map(lambda x, y: (tf.image.resize(x, size), y))\n",
    "\n",
    "    plt.figure(figsize=(10, 10))\n",
    "    for i, (image, label) in enumerate(dataset.take(2)):\n",
    "        ax = plt.subplot(3, 3, i + 1)\n",
    "        plt.imshow(image)\n",
    "        plt.title(int(label))\n",
    "        plt.axis(\"off\")\n",
    "\n",
    "\n",
    "    dataset = (\n",
    "        dataset.map(\n",
    "            lambda image, label: (\n",
    "                tf.image.convert_image_dtype(image, dtype=tf.float32),\n",
    "                label,\n",
    "            )\n",
    "        )\n",
    "        # .batch(BATCH_SIZE)\n",
    "        # .map(AUGMENTATION)\n",
    "        # .repeat(EPOCHS)\n",
    "    )\n",
    "\n",
    "    plt.figure(figsize=(10, 10))\n",
    "    for i, (image, label) in enumerate(dataset.take(2)):\n",
    "        ax = plt.subplot(3, 3, i + 1)\n",
    "        plt.imshow(image)\n",
    "        plt.title(int(label))\n",
    "        plt.axis(\"off\")\n",
    "\n",
    "\n",
    "    # Model and training\n",
    "\n",
    "    model = tf.keras.models.Sequential(\n",
    "        [\n",
    "            tf.keras.layers.Flatten(input_shape=(28, 28, 1)),\n",
    "            tf.keras.layers.Dense(128, activation=\"relu\"),\n",
    "            tf.keras.layers.Dropout(0.2),\n",
    "            tf.keras.layers.Dense(10, activation=\"softmax\"),\n",
    "        ]\n",
    "    )\n",
    "\n",
    "    model.compile(\n",
    "        optimizer=\"adam\", loss=\"sparse_categorical_crossentropy\", metrics=[\"accuracy\"]\n",
    "    )\n",
    "\n",
    "    # model.fit(\n",
    "    #     dataset,\n",
    "    #     epochs=EPOCHS,\n",
    "    #     steps_per_epoch=DATASET_SIZE // BATCH_SIZE,\n",
    "    #     callbacks=[tf.keras.callbacks.TensorBoard(log_dir=LOG_DIR)],\n",
    "    # )"
   ]
  }
 ],
 "metadata": {
  "kernelspec": {
   "display_name": "jh_class",
   "language": "python",
   "name": "python3"
  },
  "language_info": {
   "codemirror_mode": {
    "name": "ipython",
    "version": 3
   },
   "file_extension": ".py",
   "mimetype": "text/x-python",
   "name": "python",
   "nbconvert_exporter": "python",
   "pygments_lexer": "ipython3",
   "version": "3.10.13"
  }
 },
 "nbformat": 4,
 "nbformat_minor": 5
}
