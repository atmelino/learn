{
 "cells": [
  {
   "cell_type": "markdown",
   "id": "08035dd4",
   "metadata": {},
   "source": [
    "Brave search: simple gradient tape model<br>\n",
    "https://www.linkedin.com/pulse/gradient-tape-deploy-descent-tensorflow-vu-hong-quan<br>\n",
    "https://github.com/quanvu0996/data_science/blob/main/tf/gradient_tape1_en.ipynb"
   ]
  },
  {
   "cell_type": "markdown",
   "id": "f027a0b7",
   "metadata": {},
   "source": [
    "without debug statements"
   ]
  },
  {
   "cell_type": "code",
   "execution_count": 1,
   "id": "3dfc8b5f",
   "metadata": {},
   "outputs": [
    {
     "name": "stderr",
     "output_type": "stream",
     "text": [
      "2025-09-18 14:42:48.741811: I tensorflow/core/util/port.cc:113] oneDNN custom operations are on. You may see slightly different numerical results due to floating-point round-off errors from different computation orders. To turn them off, set the environment variable `TF_ENABLE_ONEDNN_OPTS=0`.\n",
      "2025-09-18 14:42:48.768907: I tensorflow/core/platform/cpu_feature_guard.cc:182] This TensorFlow binary is optimized to use available CPU instructions in performance-critical operations.\n",
      "To enable the following instructions: SSE4.1 SSE4.2 AVX AVX2 AVX512F AVX512_VNNI FMA, in other operations, rebuild TensorFlow with the appropriate compiler flags.\n"
     ]
    },
    {
     "name": "stdout",
     "output_type": "stream",
     "text": [
      "Epoch:  0\n",
      "Loss:  19.457\n",
      "Epoch:  1\n",
      "Loss:  10.991247\n",
      "Epoch:  2\n",
      "Loss:  5.402445\n",
      "Epoch:  3\n",
      "Loss:  2.563472\n",
      "Epoch:  4\n",
      "Loss:  2.0541918\n"
     ]
    }
   ],
   "source": [
    "import tensorflow as tf\n",
    "\n",
    "X = tf.constant([1., 4., 6, 3, 3, 4, 5, 6, 7])\n",
    "Y = tf.constant([0.25, 1.2, 0.79, 0.52, 1.6, 1.7, 1.9, 2, 2])\n",
    "\n",
    "# Define the loss function\n",
    "def loss_fn(y_true, y_pred):\n",
    "    return tf.reduce_sum(tf.square(y_true - y_pred))\n",
    "\n",
    "model = tf.keras.Sequential([\n",
    "    tf.keras.layers.Dense( 1, \n",
    "    kernel_initializer='zeros', \n",
    "    bias_initializer='zeros')\n",
    "])\n",
    "\n",
    "optimizer= tf.optimizers.Adam(learning_rate = .07)\n",
    "\n",
    "def train_step2(x_true, y_true):\n",
    "    with tf.GradientTape(persistent =True) as tape:\n",
    "        # Find prediction value and calculate loss value\n",
    "        y_pred = model(tf.expand_dims(X,-1))\n",
    "        loss = loss_fn( tf.expand_dims(Y, -1), y_pred)\n",
    "        print(\"Loss: \", loss.numpy())\n",
    " \n",
    "    # calculate partial gradient by each parameter\n",
    "    variables = model.trainable_variables \n",
    "    gradients = tape.gradient(loss, variables)\n",
    " \n",
    "    # update value of each parameter: w1 = w0 - learning_rate * d(loss)/dw\n",
    "    optimizer.apply_gradients(zip(gradients, variables))\n",
    "\n",
    "for i in range(5):\n",
    "    print(\"Epoch: \", i)\n",
    "    train_step2(X, Y)\n",
    "     "
   ]
  },
  {
   "cell_type": "markdown",
   "id": "60523458",
   "metadata": {},
   "source": [
    "with debug statements"
   ]
  },
  {
   "cell_type": "code",
   "execution_count": 5,
   "id": "491480ca",
   "metadata": {},
   "outputs": [
    {
     "name": "stdout",
     "output_type": "stream",
     "text": [
      "Epoch:  0\n",
      "Loss:  19.457\n",
      "[<tf.Variable 'dense_2/kernel:0' shape=(1, 1) dtype=float32, numpy=array([[0.]], dtype=float32)>, <tf.Variable 'dense_2/bias:0' shape=(1,) dtype=float32, numpy=array([0.], dtype=float32)>]\n",
      "Layer: dense_2\n",
      "Weights: [[0.]]\n",
      "Bias: [0.]\n",
      "Epoch:  1\n",
      "Loss:  10.991247\n",
      "[<tf.Variable 'dense_2/kernel:0' shape=(1, 1) dtype=float32, numpy=array([[0.06999953]], dtype=float32)>, <tf.Variable 'dense_2/bias:0' shape=(1,) dtype=float32, numpy=array([0.06999952], dtype=float32)>]\n",
      "Layer: dense_2\n",
      "Weights: [[0.06999953]]\n",
      "Bias: [0.06999952]\n",
      "Epoch:  2\n",
      "Loss:  5.402445\n",
      "[<tf.Variable 'dense_2/kernel:0' shape=(1, 1) dtype=float32, numpy=array([[0.13847694]], dtype=float32)>, <tf.Variable 'dense_2/bias:0' shape=(1,) dtype=float32, numpy=array([0.13849366], dtype=float32)>]\n",
      "Layer: dense_2\n",
      "Weights: [[0.13847694]]\n",
      "Bias: [0.13849366]\n",
      "Epoch:  3\n",
      "Loss:  2.563472\n",
      "[<tf.Variable 'dense_2/kernel:0' shape=(1, 1) dtype=float32, numpy=array([[0.20339632]], dtype=float32)>, <tf.Variable 'dense_2/bias:0' shape=(1,) dtype=float32, numpy=array([0.20347738], dtype=float32)>]\n",
      "Layer: dense_2\n",
      "Weights: [[0.20339632]]\n",
      "Bias: [0.20347738]\n",
      "Epoch:  4\n",
      "Loss:  2.0541918\n",
      "[<tf.Variable 'dense_2/kernel:0' shape=(1, 1) dtype=float32, numpy=array([[0.261599]], dtype=float32)>, <tf.Variable 'dense_2/bias:0' shape=(1,) dtype=float32, numpy=array([0.26184723], dtype=float32)>]\n",
      "Layer: dense_2\n",
      "Weights: [[0.261599]]\n",
      "Bias: [0.26184723]\n",
      "Model: \"sequential_2\"\n",
      "_________________________________________________________________\n",
      " Layer (type)                Output Shape              Param #   \n",
      "=================================================================\n",
      " dense_2 (Dense)             (9, 1)                    2         \n",
      "                                                                 \n",
      "=================================================================\n",
      "Total params: 2 (8.00 Byte)\n",
      "Trainable params: 2 (8.00 Byte)\n",
      "Non-trainable params: 0 (0.00 Byte)\n",
      "_________________________________________________________________\n"
     ]
    },
    {
     "data": {
      "image/png": "[encoded data removed]",
      "text/plain": [
       "<IPython.core.display.Image object>"
      ]
     },
     "execution_count": 5,
     "metadata": {},
     "output_type": "execute_result"
    }
   ],
   "source": [
    "import tensorflow as tf\n",
    "from keras.utils import plot_model\n",
    "\n",
    "X = tf.constant([1., 4., 6, 3, 3, 4, 5, 6, 7])\n",
    "Y = tf.constant([0.25, 1.2, 0.79, 0.52, 1.6, 1.7, 1.9, 2, 2])\n",
    "\n",
    "# Define the loss function\n",
    "def loss_fn(y_true, y_pred):\n",
    "    return tf.reduce_sum(tf.square(y_true - y_pred))\n",
    "\n",
    "model = tf.keras.Sequential([\n",
    "    tf.keras.layers.Dense( 1, \n",
    "    kernel_initializer='zeros', \n",
    "    bias_initializer='zeros')\n",
    "])\n",
    "\n",
    "optimizer= tf.optimizers.Adam(learning_rate = .07)\n",
    "\n",
    "def train_step2(x_true, y_true):\n",
    "    with tf.GradientTape(persistent =True) as tape:\n",
    "        # Find prediction value and calculate loss value\n",
    "        y_pred = model(tf.expand_dims(X,-1))\n",
    "        loss = loss_fn( tf.expand_dims(Y, -1), y_pred)\n",
    "        print(\"Loss: \", loss.numpy())\n",
    " \n",
    "    # calculate partial gradient by each parameter\n",
    "    variables = model.trainable_variables \n",
    "    print(model.trainable_variables) \n",
    "    pretty_print(model)\n",
    "    gradients = tape.gradient(loss, variables)\n",
    " \n",
    "    # update value of each parameter: w1 = w0 - learning_rate * d(loss)/dw\n",
    "    optimizer.apply_gradients(zip(gradients, variables))\n",
    "\n",
    "for i in range(5):\n",
    "    print(\"Epoch: \", i)\n",
    "    train_step2(X, Y)\n",
    "\n",
    "model.build()\n",
    "model.summary()\n",
    "plot_model(model, to_file='model_plot.png', show_shapes=True, show_layer_names=True)"
   ]
  },
  {
   "cell_type": "code",
   "execution_count": 4,
   "id": "ffa57f42",
   "metadata": {},
   "outputs": [],
   "source": [
    "def pretty_print(model):\n",
    "    for layer in model.layers:\n",
    "        weights, biases = layer.get_weights()\n",
    "        print(f\"Layer: {layer.name}\")\n",
    "        print(f\"Weights: {weights}\")\n",
    "        print(f\"Bias: {biases}\")"
   ]
  }
 ],
 "metadata": {
  "kernelspec": {
   "display_name": "jh_class",
   "language": "python",
   "name": "python3"
  },
  "language_info": {
   "codemirror_mode": {
    "name": "ipython",
    "version": 3
   },
   "file_extension": ".py",
   "mimetype": "text/x-python",
   "name": "python",
   "nbconvert_exporter": "python",
   "pygments_lexer": "ipython3",
   "version": "3.10.13"
  }
 },
 "nbformat": 4,
 "nbformat_minor": 5
}
