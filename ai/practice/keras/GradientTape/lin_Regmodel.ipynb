{
 "cells": [
  {
   "cell_type": "markdown",
   "id": "08035dd4",
   "metadata": {},
   "source": [
    "Brave search: simple gradient tape model<br>\n",
    "https://www.linkedin.com/pulse/gradient-tape-deploy-descent-tensorflow-vu-hong-quan<br>\n",
    "https://github.com/quanvu0996/data_science/blob/main/tf/gradient_tape1_en.ipynb<br>\n",
    "https://keras.io/examples/generative/neural_style_transfer/"
   ]
  },
  {
   "cell_type": "code",
   "execution_count": 8,
   "id": "1c8e9d47",
   "metadata": {},
   "outputs": [],
   "source": [
    "import matplotlib.pyplot as plt\n",
    "import tensorflow as tf\n",
    "import numpy as np"
   ]
  },
  {
   "cell_type": "markdown",
   "id": "4502efcc",
   "metadata": {},
   "source": [
    "Generate dataset: 10 points near y=x"
   ]
  },
  {
   "cell_type": "code",
   "execution_count": 9,
   "id": "0a8d6e58",
   "metadata": {},
   "outputs": [
    {
     "name": "stdout",
     "output_type": "stream",
     "text": [
      "[0 1 2 3 4 5 6 7 8 9]\n",
      "[ 1.36800513  0.12304543  2.98533466  1.94784637  4.03841385  3.90775881\n",
      "  6.56710944  8.02524317  7.77652699 10.37077801]\n",
      "1.051672749246733 -0.02152118556824941\n"
     ]
    }
   ],
   "source": [
    "x = np.arange(10)\n",
    "print(x)\n",
    "\n",
    "# y=x+np.random.randint(10)\n",
    "# print(y)\n",
    "\n",
    "rng=np.random.default_rng(10)\n",
    "y=x+3*rng.random(10)-1.5\n",
    "print(y)\n",
    "\n",
    "m_fit,b_fit = np.polyfit(x, y, 1)\n",
    "\n",
    "# m,b=1,0\n",
    "print(m_fit,b_fit)"
   ]
  },
  {
   "cell_type": "code",
   "execution_count": 10,
   "id": "373616c9",
   "metadata": {},
   "outputs": [],
   "source": [
    "def make_plot(number, X, Y, a, b):\n",
    "    plt.scatter(X, Y, color='purple')\n",
    "    plt.plot(X, a*X+b, color='steelblue', linestyle='--', linewidth=2)"
   ]
  },
  {
   "cell_type": "code",
   "execution_count": 11,
   "id": "1d78d164",
   "metadata": {},
   "outputs": [
    {
     "data": {
      "image/png": "[encoded data removed]",
      "text/plain": [
       "<Figure size 640x480 with 1 Axes>"
      ]
     },
     "metadata": {},
     "output_type": "display_data"
    }
   ],
   "source": [
    "make_plot(0,x,y,m_fit,b_fit)"
   ]
  },
  {
   "cell_type": "markdown",
   "id": "f027a0b7",
   "metadata": {},
   "source": []
  },
  {
   "cell_type": "code",
   "execution_count": 12,
   "id": "a05cf009",
   "metadata": {},
   "outputs": [],
   "source": [
    "# Define the loss function\n",
    "def compute_loss(y_true, m,b):\n",
    "    y_pred=m*x+b\n",
    "    # print(y_pred)\n",
    "    loss = tf.reduce_sum(tf.square(y_true - y_pred))\n",
    "    return loss"
   ]
  },
  {
   "cell_type": "code",
   "execution_count": 13,
   "id": "9b9c426d",
   "metadata": {},
   "outputs": [
    {
     "name": "stdout",
     "output_type": "stream",
     "text": [
      "Loss= 0\n",
      "Loss= 0.6655171291941702\n"
     ]
    }
   ],
   "source": [
    "print(\"Loss=\",compute_loss(x,1,0).numpy())    \n",
    "print(\"Loss=\",compute_loss(x,m_fit,b_fit).numpy())    "
   ]
  },
  {
   "cell_type": "code",
   "execution_count": 21,
   "id": "c209be2e",
   "metadata": {},
   "outputs": [
    {
     "name": "stdout",
     "output_type": "stream",
     "text": [
      "Iteration 1: loss=321.73\n",
      "<tf.Variable 'Variable:0' shape=() dtype=float32, numpy=0.06999953>\n",
      "Iteration 2: loss=281.30\n",
      "<tf.Variable 'Variable:0' shape=() dtype=float32, numpy=0.13983113>\n",
      "Iteration 3: loss=243.75\n",
      "<tf.Variable 'Variable:0' shape=() dtype=float32, numpy=0.20936519>\n",
      "Iteration 4: loss=209.12\n",
      "<tf.Variable 'Variable:0' shape=() dtype=float32, numpy=0.2784552>\n",
      "Iteration 5: loss=177.45\n",
      "<tf.Variable 'Variable:0' shape=() dtype=float32, numpy=0.34693956>\n",
      "Iteration 6: loss=148.73\n",
      "<tf.Variable 'Variable:0' shape=() dtype=float32, numpy=0.414639>\n",
      "Iteration 7: loss=122.98\n",
      "<tf.Variable 'Variable:0' shape=() dtype=float32, numpy=0.48135543>\n",
      "Iteration 8: loss=100.15\n",
      "<tf.Variable 'Variable:0' shape=() dtype=float32, numpy=0.5468731>\n",
      "Iteration 9: loss=80.20\n",
      "<tf.Variable 'Variable:0' shape=() dtype=float32, numpy=0.6109578>\n",
      "Iteration 10: loss=63.06\n",
      "<tf.Variable 'Variable:0' shape=() dtype=float32, numpy=0.6733585>\n",
      "Iteration 11: loss=48.61\n",
      "<tf.Variable 'Variable:0' shape=() dtype=float32, numpy=0.73380876>\n",
      "Iteration 12: loss=36.73\n",
      "<tf.Variable 'Variable:0' shape=() dtype=float32, numpy=0.7920303>\n",
      "Iteration 13: loss=27.26\n",
      "<tf.Variable 'Variable:0' shape=() dtype=float32, numpy=0.84773725>\n",
      "Iteration 14: loss=20.01\n",
      "<tf.Variable 'Variable:0' shape=() dtype=float32, numpy=0.9006419>\n",
      "Iteration 15: loss=14.76\n",
      "<tf.Variable 'Variable:0' shape=() dtype=float32, numpy=0.95046175>\n",
      "Iteration 16: loss=11.28\n",
      "<tf.Variable 'Variable:0' shape=() dtype=float32, numpy=0.9969274>\n",
      "Iteration 17: loss=9.30\n",
      "<tf.Variable 'Variable:0' shape=() dtype=float32, numpy=1.0397915>\n",
      "Iteration 18: loss=8.57\n",
      "<tf.Variable 'Variable:0' shape=() dtype=float32, numpy=1.0788374>\n",
      "Iteration 19: loss=8.82\n",
      "<tf.Variable 'Variable:0' shape=() dtype=float32, numpy=1.1138877>\n",
      "Iteration 20: loss=9.78\n",
      "<tf.Variable 'Variable:0' shape=() dtype=float32, numpy=1.144811>\n",
      "Iteration 21: loss=11.21\n",
      "<tf.Variable 'Variable:0' shape=() dtype=float32, numpy=1.1715281>\n",
      "Iteration 22: loss=12.88\n",
      "<tf.Variable 'Variable:0' shape=() dtype=float32, numpy=1.1940141>\n",
      "Iteration 23: loss=14.60\n",
      "<tf.Variable 'Variable:0' shape=() dtype=float32, numpy=1.2122998>\n",
      "Iteration 24: loss=16.22\n",
      "<tf.Variable 'Variable:0' shape=() dtype=float32, numpy=1.2264707>\n",
      "Iteration 25: loss=17.60\n",
      "<tf.Variable 'Variable:0' shape=() dtype=float32, numpy=1.2366631>\n",
      "Iteration 26: loss=18.67\n",
      "<tf.Variable 'Variable:0' shape=() dtype=float32, numpy=1.2430592>\n",
      "Iteration 27: loss=19.36\n",
      "<tf.Variable 'Variable:0' shape=() dtype=float32, numpy=1.2458816>\n",
      "Iteration 28: loss=19.68\n",
      "<tf.Variable 'Variable:0' shape=() dtype=float32, numpy=1.2453867>\n",
      "Iteration 29: loss=19.62\n",
      "<tf.Variable 'Variable:0' shape=() dtype=float32, numpy=1.2418582>\n",
      "Iteration 30: loss=19.23\n",
      "<tf.Variable 'Variable:0' shape=() dtype=float32, numpy=1.2356007>\n",
      "Iteration 31: loss=18.55\n",
      "<tf.Variable 'Variable:0' shape=() dtype=float32, numpy=1.2269336>\n",
      "Iteration 32: loss=17.65\n",
      "<tf.Variable 'Variable:0' shape=() dtype=float32, numpy=1.216186>\n",
      "Iteration 33: loss=16.59\n",
      "<tf.Variable 'Variable:0' shape=() dtype=float32, numpy=1.2036917>\n",
      "Iteration 34: loss=15.43\n",
      "<tf.Variable 'Variable:0' shape=() dtype=float32, numpy=1.1897842>\n",
      "Iteration 35: loss=14.26\n",
      "<tf.Variable 'Variable:0' shape=() dtype=float32, numpy=1.174793>\n",
      "Iteration 36: loss=13.11\n",
      "<tf.Variable 'Variable:0' shape=() dtype=float32, numpy=1.1590399>\n",
      "Iteration 37: loss=12.05\n",
      "<tf.Variable 'Variable:0' shape=() dtype=float32, numpy=1.142835>\n",
      "Iteration 38: loss=11.10\n",
      "<tf.Variable 'Variable:0' shape=() dtype=float32, numpy=1.1264744>\n",
      "Iteration 39: loss=10.29\n",
      "<tf.Variable 'Variable:0' shape=() dtype=float32, numpy=1.1102358>\n",
      "Iteration 40: loss=9.64\n",
      "<tf.Variable 'Variable:0' shape=() dtype=float32, numpy=1.0943769>\n",
      "Iteration 41: loss=9.16\n",
      "<tf.Variable 'Variable:0' shape=() dtype=float32, numpy=1.0791321>\n",
      "Iteration 42: loss=8.82\n",
      "<tf.Variable 'Variable:0' shape=() dtype=float32, numpy=1.0647101>\n",
      "Iteration 43: loss=8.63\n",
      "<tf.Variable 'Variable:0' shape=() dtype=float32, numpy=1.0512928>\n",
      "Iteration 44: loss=8.55\n",
      "<tf.Variable 'Variable:0' shape=() dtype=float32, numpy=1.0390327>\n",
      "Iteration 45: loss=8.57\n",
      "<tf.Variable 'Variable:0' shape=() dtype=float32, numpy=1.0280526>\n",
      "Iteration 46: loss=8.67\n",
      "<tf.Variable 'Variable:0' shape=() dtype=float32, numpy=1.0184449>\n",
      "Iteration 47: loss=8.80\n",
      "<tf.Variable 'Variable:0' shape=() dtype=float32, numpy=1.0102715>\n",
      "Iteration 48: loss=8.96\n",
      "<tf.Variable 'Variable:0' shape=() dtype=float32, numpy=1.0035647>\n",
      "Iteration 49: loss=9.12\n",
      "<tf.Variable 'Variable:0' shape=() dtype=float32, numpy=0.9983281>\n",
      "Iteration 50: loss=9.26\n",
      "<tf.Variable 'Variable:0' shape=() dtype=float32, numpy=0.9945383>\n",
      "Iteration 51: loss=9.37\n",
      "<tf.Variable 'Variable:0' shape=() dtype=float32, numpy=0.9921472>\n",
      "Iteration 52: loss=9.45\n",
      "<tf.Variable 'Variable:0' shape=() dtype=float32, numpy=0.9910841>\n",
      "Iteration 53: loss=9.48\n",
      "<tf.Variable 'Variable:0' shape=() dtype=float32, numpy=0.9912588>\n",
      "Iteration 54: loss=9.48\n",
      "<tf.Variable 'Variable:0' shape=() dtype=float32, numpy=0.9925645>\n",
      "Iteration 55: loss=9.43\n",
      "<tf.Variable 'Variable:0' shape=() dtype=float32, numpy=0.99488074>\n",
      "Iteration 56: loss=9.36\n",
      "<tf.Variable 'Variable:0' shape=() dtype=float32, numpy=0.99807686>\n",
      "Iteration 57: loss=9.27\n",
      "<tf.Variable 'Variable:0' shape=() dtype=float32, numpy=1.002015>\n",
      "Iteration 58: loss=9.16\n",
      "<tf.Variable 'Variable:0' shape=() dtype=float32, numpy=1.0065532>\n",
      "Iteration 59: loss=9.05\n",
      "<tf.Variable 'Variable:0' shape=() dtype=float32, numpy=1.0115485>\n",
      "Iteration 60: loss=8.93\n",
      "<tf.Variable 'Variable:0' shape=() dtype=float32, numpy=1.01686>\n",
      "Iteration 61: loss=8.83\n",
      "<tf.Variable 'Variable:0' shape=() dtype=float32, numpy=1.0223509>\n",
      "Iteration 62: loss=8.74\n",
      "<tf.Variable 'Variable:0' shape=() dtype=float32, numpy=1.0278914>\n",
      "Iteration 63: loss=8.67\n",
      "<tf.Variable 'Variable:0' shape=() dtype=float32, numpy=1.0333607>\n",
      "Iteration 64: loss=8.61\n",
      "<tf.Variable 'Variable:0' shape=() dtype=float32, numpy=1.0386488>\n",
      "Iteration 65: loss=8.58\n",
      "<tf.Variable 'Variable:0' shape=() dtype=float32, numpy=1.0436581>\n",
      "Iteration 66: loss=8.56\n",
      "<tf.Variable 'Variable:0' shape=() dtype=float32, numpy=1.0483043>\n",
      "Iteration 67: loss=8.55\n",
      "<tf.Variable 'Variable:0' shape=() dtype=float32, numpy=1.0525174>\n",
      "Iteration 68: loss=8.56\n",
      "<tf.Variable 'Variable:0' shape=() dtype=float32, numpy=1.0562423>\n",
      "Iteration 69: loss=8.57\n",
      "<tf.Variable 'Variable:0' shape=() dtype=float32, numpy=1.0594387>\n",
      "Iteration 70: loss=8.59\n",
      "<tf.Variable 'Variable:0' shape=() dtype=float32, numpy=1.062081>\n"
     ]
    }
   ],
   "source": [
    "\n",
    "m = tf.Variable(initial_value=0.0, trainable=True)\n",
    "\n",
    "\n",
    "model = tf.keras.Sequential([\n",
    "    tf.keras.layers.Dense( 1, \n",
    "    kernel_initializer='zeros', \n",
    "    bias_initializer='zeros')\n",
    "])\n",
    "\n",
    "optimizer= tf.optimizers.Adam(learning_rate = .07)\n",
    "\n",
    "iterations = 70\n",
    "\n",
    "for i in range(1, iterations + 1):\n",
    "    with tf.GradientTape() as tape:\n",
    "        loss = compute_loss(y,m,0)\n",
    "    grads = tape.gradient(loss, m)\n",
    "    optimizer.apply_gradients([(grads, m)])\n",
    "    print(\"Iteration %d: loss=%.2f\" % (i, loss))\n",
    "    print(m)\n",
    "\n"
   ]
  },
  {
   "cell_type": "code",
   "execution_count": null,
   "id": "1ca8b16f",
   "metadata": {},
   "outputs": [],
   "source": [
    "\n",
    "m = tf.Variable(initial_value=0.0, trainable=True)\n",
    "b = tf.Variable(initial_value=1.0, trainable=True)\n",
    "\n",
    "model = tf.keras.Sequential([\n",
    "    tf.keras.layers.Dense( 1, \n",
    "    kernel_initializer='zeros', \n",
    "    bias_initializer='zeros')\n",
    "])\n",
    "\n",
    "optimizer= tf.optimizers.Adam(learning_rate = .07)\n",
    "# optimizer.build(m,b)\n",
    "\n",
    "iterations = 100\n",
    "\n",
    "for i in range(1, iterations + 1):\n",
    "    with tf.GradientTape() as tape:\n",
    "        # loss = compute_loss(y,m,b_fit)\n",
    "        loss = compute_loss(y,m,b)\n",
    "    grads = tape.gradient(loss, m)\n",
    "    optimizer.apply_gradients([(grads, m)])\n",
    "\n",
    "    with tf.GradientTape() as tape:\n",
    "        # loss = compute_loss(y,m,b_fit)\n",
    "        loss = compute_loss(y,m,b)\n",
    "    grads = tape.gradient(loss, b)\n",
    "    optimizer.apply_gradients([(grads, b)])\n",
    "\n",
    "    print(\"Iteration %d: loss=%.2f\" % (i, loss))\n",
    "    print(m)"
   ]
  }
 ],
 "metadata": {
  "kernelspec": {
   "display_name": "jh_class",
   "language": "python",
   "name": "python3"
  },
  "language_info": {
   "codemirror_mode": {
    "name": "ipython",
    "version": 3
   },
   "file_extension": ".py",
   "mimetype": "text/x-python",
   "name": "python",
   "nbconvert_exporter": "python",
   "pygments_lexer": "ipython3",
   "version": "3.10.13"
  }
 },
 "nbformat": 4,
 "nbformat_minor": 5
}
