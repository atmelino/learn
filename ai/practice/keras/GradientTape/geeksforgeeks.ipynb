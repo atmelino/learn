{
 "cells": [
  {
   "cell_type": "markdown",
   "id": "a93bc5f0",
   "metadata": {},
   "source": [
    "https://www.geeksforgeeks.org/deep-learning/tf-gradienttape-in-tensorflow/<br>\n",
    "conda environment for this program:<br>\n",
    "<code>conda activate jh_class</code>"
   ]
  },
  {
   "cell_type": "markdown",
   "id": "2153b360",
   "metadata": {},
   "source": [
    "higher-order derivatives"
   ]
  },
  {
   "cell_type": "code",
   "execution_count": 1,
   "id": "d4c1fdbd",
   "metadata": {},
   "outputs": [
    {
     "name": "stderr",
     "output_type": "stream",
     "text": [
      "2025-09-14 20:34:43.194370: I tensorflow/core/util/port.cc:113] oneDNN custom operations are on. You may see slightly different numerical results due to floating-point round-off errors from different computation orders. To turn them off, set the environment variable `TF_ENABLE_ONEDNN_OPTS=0`.\n",
      "2025-09-14 20:34:43.326700: I tensorflow/core/platform/cpu_feature_guard.cc:182] This TensorFlow binary is optimized to use available CPU instructions in performance-critical operations.\n",
      "To enable the following instructions: SSE4.1 SSE4.2 AVX AVX2 AVX512F AVX512_VNNI FMA, in other operations, rebuild TensorFlow with the appropriate compiler flags.\n"
     ]
    },
    {
     "name": "stdout",
     "output_type": "stream",
     "text": [
      "First-order derivative (dy_dx): tf.Tensor(75.0, shape=(), dtype=float32)\n",
      "Second-order derivative (d2y_dx2): tf.Tensor(30.0, shape=(), dtype=float32)\n"
     ]
    }
   ],
   "source": [
    "import tensorflow as tf\n",
    "\n",
    "x = tf.constant(5.0)\n",
    "\n",
    "with tf.GradientTape() as outer_tape:\n",
    "    outer_tape.watch(x)\n",
    "    \n",
    "    with tf.GradientTape() as inner_tape:\n",
    "        inner_tape.watch(x)\n",
    "        y = x **3 #the function is x cube \n",
    "    \n",
    "    dy_dx = inner_tape.gradient(y, x)  # First-order derivative of y with respect to x (dy_dx = 2 * x)\n",
    "\n",
    "d2y_dx2 = outer_tape.gradient(dy_dx, x)  # Second-order derivative of y with respect to x (d2y_dx2 = 2)\n",
    "\n",
    "print(\"First-order derivative (dy_dx):\", dy_dx)\n",
    "print(\"Second-order derivative (d2y_dx2):\", d2y_dx2)"
   ]
  },
  {
   "cell_type": "markdown",
   "id": "57dd53cb",
   "metadata": {},
   "source": [
    "gradient of a scalar function with respect to a scalar variable"
   ]
  },
  {
   "cell_type": "code",
   "execution_count": 2,
   "id": "dc17c1a1",
   "metadata": {},
   "outputs": [
    {
     "name": "stdout",
     "output_type": "stream",
     "text": [
      "tf.Tensor(6.0, shape=(), dtype=float32)\n"
     ]
    }
   ],
   "source": [
    "# Importing tensorflow\n",
    "import tensorflow as tf\n",
    "\n",
    "# Step 1: Define your variables\n",
    "# Defining a scalar variable\n",
    "scalar = tf.Variable(3.0)\n",
    "\n",
    "# Step 2: Create a tf.GradientTape\n",
    "# Creating a tape\n",
    "with tf.GradientTape() as tape:\n",
    "  y = scalar**2 \n",
    "\n",
    "# Step 3: Call the tape.gradient() method  \n",
    "# Calling the tape.gradient() for computing the gradient of y with respect to scalar\n",
    "dy_dx = tape.gradient(y, scalar) \n",
    "\n",
    "# Step 4: Use the computed gradient\n",
    "# Use the compute gradient for printing the gradient as an output\n",
    "print(dy_dx)"
   ]
  },
  {
   "cell_type": "markdown",
   "id": "ccdab877",
   "metadata": {},
   "source": [
    "jacobian of a vector function with respect to a vector variable"
   ]
  },
  {
   "cell_type": "markdown",
   "id": "852f7c0d",
   "metadata": {},
   "source": [
    "$y=(y_1,y_2)$  $\\quad$ $x=(x_1,x_2,x_3)$\n",
    "\n",
    "$J=\n",
    "\\begin{bmatrix}\n",
    "  \\frac{\\partial y_1}{\\partial x_1} & \n",
    "    \\frac{\\partial y_1}{\\partial x_2} & \n",
    "    \\frac{\\partial y_1}{\\partial x_3} \\\\[1ex] % <-- 1ex more space between rows of matrix\n",
    "  \\frac{\\partial y_2}{\\partial x_1} & \n",
    "    \\frac{\\partial y_2}{\\partial x_2} & \n",
    "    \\frac{\\partial y_2}{\\partial x_3} \\\\[1ex]\n",
    "\\end{bmatrix}\n",
    "$\n"
   ]
  },
  {
   "cell_type": "markdown",
   "id": "98abc3c1",
   "metadata": {},
   "source": [
    "$y=(x_1^2, sin(x_2))$ $\\quad$ $x=(1,2,3)$\n",
    "\n",
    "$J=\n",
    "\\begin{bmatrix}\n",
    "  2 x_1 & \n",
    "  2 x_2 & \n",
    "  2 x_3 \\\\[1ex] % <-- 1ex more space between rows of matrix\n",
    "  cos(x_1) & \n",
    "  cos(x_2) & \n",
    "  cos(x_3) \\\\[1ex]\n",
    "\\end{bmatrix}\n",
    "$\n",
    "\n",
    "$J=\n",
    "\\begin{bmatrix}\n",
    "  2 & \n",
    "  0 & \n",
    "  0 \\\\[1ex] % <-- 1ex more space between rows of matrix\n",
    "  0 & \n",
    "  -0.4161468365 & \n",
    "  0 \\\\[1ex]\n",
    "\\end{bmatrix}\n",
    "$\n",
    "\n"
   ]
  },
  {
   "cell_type": "markdown",
   "id": "91f8be67",
   "metadata": {},
   "source": [
    "\n",
    "\n"
   ]
  },
  {
   "cell_type": "code",
   "execution_count": 3,
   "id": "776f94c0",
   "metadata": {},
   "outputs": [
    {
     "name": "stdout",
     "output_type": "stream",
     "text": [
      "Input values (x): [1. 2. 3.]\n",
      "Function values (y): [1.        0.9092974]\n",
      "Jacobian matrix:\n",
      " [[ 2.          0.          0.        ]\n",
      " [ 0.         -0.41614684  0.        ]]\n"
     ]
    }
   ],
   "source": [
    "import tensorflow as tf\n",
    "\n",
    "# Define the vector-valued function\n",
    "def my_function(x):\n",
    "    return tf.stack([x[0] ** 2, tf.sin(x[1])], axis=0)\n",
    "\n",
    "# Define the input values\n",
    "x = tf.constant([1.0, 2.0, 3.0])\n",
    "\n",
    "# Use tf.GradientTape() to compute Jacobian matrix\n",
    "with tf.GradientTape(persistent=True) as tape:\n",
    "    tape.watch(x)\n",
    "    y = my_function(x)\n",
    "\n",
    "# Compute Jacobian matrix\n",
    "jacobian = tape.jacobian(y, x)\n",
    "\n",
    "print(\"Input values (x):\", x.numpy())\n",
    "print(\"Function values (y):\", y.numpy())\n",
    "print(\"Jacobian matrix:\\n\", jacobian.numpy())"
   ]
  }
 ],
 "metadata": {
  "kernelspec": {
   "display_name": "jh_class",
   "language": "python",
   "name": "python3"
  },
  "language_info": {
   "codemirror_mode": {
    "name": "ipython",
    "version": 3
   },
   "file_extension": ".py",
   "mimetype": "text/x-python",
   "name": "python",
   "nbconvert_exporter": "python",
   "pygments_lexer": "ipython3",
   "version": "3.10.13"
  }
 },
 "nbformat": 4,
 "nbformat_minor": 5
}
