{
 "cells": [
  {
   "cell_type": "markdown",
   "id": "a93bc5f0",
   "metadata": {},
   "source": [
    "https://www.geeksforgeeks.org/deep-learning/tf-gradienttape-in-tensorflow/<br>\n",
    "conda environment for this program:<br>\n",
    "<code>conda activate jh_class</code>"
   ]
  },
  {
   "cell_type": "code",
   "execution_count": 2,
   "id": "90b35a16",
   "metadata": {},
   "outputs": [
    {
     "name": "stderr",
     "output_type": "stream",
     "text": [
      "2025-09-12 14:52:39.277392: I tensorflow/core/util/port.cc:113] oneDNN custom operations are on. You may see slightly different numerical results due to floating-point round-off errors from different computation orders. To turn them off, set the environment variable `TF_ENABLE_ONEDNN_OPTS=0`.\n",
      "2025-09-12 14:52:39.342557: I tensorflow/core/platform/cpu_feature_guard.cc:182] This TensorFlow binary is optimized to use available CPU instructions in performance-critical operations.\n",
      "To enable the following instructions: SSE4.1 SSE4.2 AVX AVX2 AVX512F AVX512_VNNI FMA, in other operations, rebuild TensorFlow with the appropriate compiler flags.\n"
     ]
    },
    {
     "name": "stdout",
     "output_type": "stream",
     "text": [
      "First-order derivative (dy_dx): tf.Tensor(75.0, shape=(), dtype=float32)\n",
      "Second-order derivative (d2y_dx2): tf.Tensor(30.0, shape=(), dtype=float32)\n"
     ]
    }
   ],
   "source": [
    "import tensorflow as tf\n",
    "\n",
    "x = tf.constant(5.0)\n",
    "\n",
    "with tf.GradientTape() as outer_tape:\n",
    "    outer_tape.watch(x)\n",
    "    \n",
    "    with tf.GradientTape() as inner_tape:\n",
    "        inner_tape.watch(x)\n",
    "        y = x **3 #the function is x cube \n",
    "    \n",
    "    dy_dx = inner_tape.gradient(y, x)  # First-order derivative of y with respect to x (dy_dx = 2 * x)\n",
    "\n",
    "d2y_dx2 = outer_tape.gradient(dy_dx, x)  # Second-order derivative of y with respect to x (d2y_dx2 = 2)\n",
    "\n",
    "print(\"First-order derivative (dy_dx):\", dy_dx)\n",
    "print(\"Second-order derivative (d2y_dx2):\", d2y_dx2)"
   ]
  }
 ],
 "metadata": {
  "kernelspec": {
   "display_name": "jh_class",
   "language": "python",
   "name": "python3"
  },
  "language_info": {
   "codemirror_mode": {
    "name": "ipython",
    "version": 3
   },
   "file_extension": ".py",
   "mimetype": "text/x-python",
   "name": "python",
   "nbconvert_exporter": "python",
   "pygments_lexer": "ipython3",
   "version": "3.10.13"
  }
 },
 "nbformat": 4,
 "nbformat_minor": 5
}
