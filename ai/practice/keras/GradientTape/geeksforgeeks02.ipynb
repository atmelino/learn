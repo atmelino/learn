{
 "cells": [
  {
   "cell_type": "markdown",
   "id": "a93bc5f0",
   "metadata": {},
   "source": [
    "https://www.geeksforgeeks.org/deep-learning/tf-gradienttape-in-tensorflow/<br>\n",
    "conda environment for this program:<br>\n",
    "<code>conda activate jh_class</code>"
   ]
  },
  {
   "cell_type": "code",
   "execution_count": 1,
   "id": "90b35a16",
   "metadata": {},
   "outputs": [
    {
     "name": "stderr",
     "output_type": "stream",
     "text": [
      "2025-09-12 21:25:08.620469: I tensorflow/core/util/port.cc:113] oneDNN custom operations are on. You may see slightly different numerical results due to floating-point round-off errors from different computation orders. To turn them off, set the environment variable `TF_ENABLE_ONEDNN_OPTS=0`.\n",
      "2025-09-12 21:25:08.735061: I tensorflow/core/platform/cpu_feature_guard.cc:182] This TensorFlow binary is optimized to use available CPU instructions in performance-critical operations.\n",
      "To enable the following instructions: SSE4.1 SSE4.2 AVX AVX2 AVX512F AVX512_VNNI FMA, in other operations, rebuild TensorFlow with the appropriate compiler flags.\n"
     ]
    },
    {
     "name": "stdout",
     "output_type": "stream",
     "text": [
      "tf.Tensor(6.0, shape=(), dtype=float32)\n"
     ]
    }
   ],
   "source": [
    "# Importing tensorflow\n",
    "import tensorflow as tf\n",
    "\n",
    "# Step 1: Define your variables\n",
    "# Defining a scalar variable\n",
    "scalar = tf.Variable(3.0)\n",
    "\n",
    "# Step 2: Create a tf.GradientTape\n",
    "# Creating a tape\n",
    "with tf.GradientTape() as tape:\n",
    "  y = scalar**2 \n",
    "\n",
    "# Step 3: Call the tape.gradient() method  \n",
    "# Calling the tape.gradient() for computing the gradient of y with respect to scalar\n",
    "dy_dx = tape.gradient(y, scalar) \n",
    "\n",
    "# Step 4: Use the computed gradient\n",
    "# Use the compute gradient for printing the gradient as an output\n",
    "print(dy_dx)"
   ]
  }
 ],
 "metadata": {
  "kernelspec": {
   "display_name": "jh_class",
   "language": "python",
   "name": "python3"
  },
  "language_info": {
   "codemirror_mode": {
    "name": "ipython",
    "version": 3
   },
   "file_extension": ".py",
   "mimetype": "text/x-python",
   "name": "python",
   "nbconvert_exporter": "python",
   "pygments_lexer": "ipython3",
   "version": "3.10.13"
  }
 },
 "nbformat": 4,
 "nbformat_minor": 5
}
