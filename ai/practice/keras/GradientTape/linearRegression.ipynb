{
 "cells": [
  {
   "cell_type": "markdown",
   "id": "490c62c9",
   "metadata": {},
   "source": [
    "Brave search: simple gradient tape model<br>\n",
    "https://www.linkedin.com/pulse/gradient-tape-deploy-descent-tensorflow-vu-hong-quan"
   ]
  },
  {
   "cell_type": "code",
   "execution_count": 1,
   "id": "c855e0b3",
   "metadata": {},
   "outputs": [
    {
     "name": "stderr",
     "output_type": "stream",
     "text": [
      "2025-09-16 14:48:51.483502: I tensorflow/core/util/port.cc:113] oneDNN custom operations are on. You may see slightly different numerical results due to floating-point round-off errors from different computation orders. To turn them off, set the environment variable `TF_ENABLE_ONEDNN_OPTS=0`.\n",
      "2025-09-16 14:48:51.611306: I tensorflow/core/platform/cpu_feature_guard.cc:182] This TensorFlow binary is optimized to use available CPU instructions in performance-critical operations.\n",
      "To enable the following instructions: SSE4.1 SSE4.2 AVX AVX2 AVX512F AVX512_VNNI FMA, in other operations, rebuild TensorFlow with the appropriate compiler flags.\n"
     ]
    },
    {
     "ename": "TypeError",
     "evalue": "can't multiply sequence by non-int of type 'float'",
     "output_type": "error",
     "traceback": [
      "\u001b[0;31m---------------------------------------------------------------------------\u001b[0m",
      "\u001b[0;31mTypeError\u001b[0m                                 Traceback (most recent call last)",
      "Cell \u001b[0;32mIn[1], line 31\u001b[0m\n\u001b[1;32m     28\u001b[0m gradients \u001b[38;5;241m=\u001b[39m tape\u001b[38;5;241m.\u001b[39mgradient(loss, [a, b])\n\u001b[1;32m     30\u001b[0m \u001b[38;5;66;03m# Update the parameters using the gradients\u001b[39;00m\n\u001b[0;32m---> 31\u001b[0m a\u001b[38;5;241m.\u001b[39massign_sub(\u001b[43mgradients\u001b[49m\u001b[43m \u001b[49m\u001b[38;5;241;43m*\u001b[39;49m\u001b[43m \u001b[49m\u001b[43mlearning_rate\u001b[49m)\n\u001b[1;32m     32\u001b[0m b\u001b[38;5;241m.\u001b[39massign_sub(gradients \u001b[38;5;241m*\u001b[39m learning_rate)\n\u001b[1;32m     34\u001b[0m \u001b[38;5;66;03m# Print loss every 10 epochs\u001b[39;00m\n",
      "\u001b[0;31mTypeError\u001b[0m: can't multiply sequence by non-int of type 'float'"
     ]
    }
   ],
   "source": [
    "import tensorflow as tf\n",
    "\n",
    "# Define model parameters as trainable variables\n",
    "a = tf.Variable(initial_value=0.0, trainable=True)\n",
    "b = tf.Variable(initial_value=0.0, trainable=True)\n",
    "\n",
    "# Define training data (X, Y)\n",
    "X = tf.constant([1.0, 2.0, 3.0, 4.0])\n",
    "Y = tf.constant([2.0, 4.0, 6.0, 8.0])\n",
    "\n",
    "# Define the loss function\n",
    "def loss_fn(y_true, y_pred):\n",
    "    return tf.reduce_sum(tf.square(y_true - y_pred))\n",
    "\n",
    "# Define the learning rate\n",
    "learning_rate = 0.01\n",
    "\n",
    "# Training loop\n",
    "for epoch in range(100):\n",
    "    # Record operations for automatic differentiation\n",
    "    with tf.GradientTape() as tape:\n",
    "        # Forward pass: compute predictions\n",
    "        y_pred = a * X + b\n",
    "        # Compute the loss\n",
    "        loss = loss_fn(Y, y_pred)\n",
    "    \n",
    "    # Compute gradients of the loss with respect to the model parameters\n",
    "    gradients = tape.gradient(loss, [a, b])\n",
    "    \n",
    "    # Update the parameters using the gradients\n",
    "    a.assign_sub(gradients * learning_rate)\n",
    "    b.assign_sub(gradients * learning_rate)\n",
    "    \n",
    "    # Print loss every 10 epochs\n",
    "    if epoch % 10 == 0:\n",
    "        print(f\"Epoch {epoch}, Loss: {loss.numpy():.4f}\")\n",
    "\n",
    "# Output: The model parameters a and b will converge to values close to 2.0 and 0.0, respectively.   "
   ]
  }
 ],
 "metadata": {
  "kernelspec": {
   "display_name": "jh_class",
   "language": "python",
   "name": "python3"
  },
  "language_info": {
   "codemirror_mode": {
    "name": "ipython",
    "version": 3
   },
   "file_extension": ".py",
   "mimetype": "text/x-python",
   "name": "python",
   "nbconvert_exporter": "python",
   "pygments_lexer": "ipython3",
   "version": "3.10.13"
  }
 },
 "nbformat": 4,
 "nbformat_minor": 5
}
