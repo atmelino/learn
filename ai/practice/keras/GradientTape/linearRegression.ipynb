{
 "cells": [
  {
   "cell_type": "markdown",
   "id": "490c62c9",
   "metadata": {},
   "source": [
    "Brave search: simple gradient tape model<br>\n",
    "https://www.linkedin.com/pulse/gradient-tape-deploy-descent-tensorflow-vu-hong-quan<br>\n",
    "https://github.com/quanvu0996/data_science/blob/main/tf/gradient_tape1_en.ipynb"
   ]
  },
  {
   "cell_type": "code",
   "execution_count": 1,
   "id": "0dc8c637",
   "metadata": {},
   "outputs": [
    {
     "name": "stderr",
     "output_type": "stream",
     "text": [
      "2025-09-18 14:28:06.467452: I tensorflow/core/util/port.cc:113] oneDNN custom operations are on. You may see slightly different numerical results due to floating-point round-off errors from different computation orders. To turn them off, set the environment variable `TF_ENABLE_ONEDNN_OPTS=0`.\n",
      "2025-09-18 14:28:06.495133: I tensorflow/core/platform/cpu_feature_guard.cc:182] This TensorFlow binary is optimized to use available CPU instructions in performance-critical operations.\n",
      "To enable the following instructions: SSE4.1 SSE4.2 AVX AVX2 AVX512F AVX512_VNNI FMA, in other operations, rebuild TensorFlow with the appropriate compiler flags.\n"
     ]
    },
    {
     "data": {
      "text/plain": [
       "'2.15.0'"
      ]
     },
     "execution_count": 1,
     "metadata": {},
     "output_type": "execute_result"
    }
   ],
   "source": [
    "import tensorflow as tf\n",
    "import matplotlib.pyplot as plt\n",
    "import numpy as np\n",
    "\n",
    "tf.__version__"
   ]
  },
  {
   "cell_type": "code",
   "execution_count": 2,
   "id": "519f7fbb",
   "metadata": {},
   "outputs": [
    {
     "name": "stdout",
     "output_type": "stream",
     "text": [
      "tf.Tensor(1, shape=(), dtype=int32)\n",
      "tf.Tensor([3 5], shape=(2,), dtype=int32)\n",
      "tf.Tensor(\n",
      "[[1. 1. 1. 1. 1.]\n",
      " [1. 1. 1. 1. 1.]\n",
      " [1. 1. 1. 1. 1.]], shape=(3, 5), dtype=float32)\n"
     ]
    }
   ],
   "source": [
    "a = tf.constant(1)\n",
    "b = tf.constant([3, 5])\n",
    "c = tf.ones(shape=(3,5))\n",
    "\n",
    "print(a)\n",
    "print(b)\n",
    "print(c)"
   ]
  },
  {
   "cell_type": "code",
   "execution_count": 3,
   "id": "045f391b",
   "metadata": {},
   "outputs": [
    {
     "data": {
      "text/plain": [
       "<tf.Variable 'Variable:0' shape=(2, 2) dtype=float32, numpy=\n",
       "array([[0., 0.],\n",
       "       [0., 0.]], dtype=float32)>"
      ]
     },
     "execution_count": 3,
     "metadata": {},
     "output_type": "execute_result"
    }
   ],
   "source": [
    "X = tf.Variable(initial_value= tf.zeros((2, 2)), trainable= True)\n",
    "X"
   ]
  },
  {
   "cell_type": "code",
   "execution_count": 4,
   "id": "0fa3c823",
   "metadata": {},
   "outputs": [
    {
     "name": "stdout",
     "output_type": "stream",
     "text": [
      "tf.Tensor(10.0, shape=(), dtype=float32)\n"
     ]
    }
   ],
   "source": [
    "x = tf.constant(5.0)\n",
    " \n",
    "with tf.GradientTape() as tape:\n",
    "    tape.watch(x) # while x is not a tf.Variable => we need to set the tape watch it, or else the derivative will be 0.\n",
    "                  # if x is a tf.Variable then watch is no need\n",
    "    y = x ** 2\n",
    "dy_dx = tape.gradient(y, x)\n",
    "print(dy_dx)\n",
    "del tape"
   ]
  },
  {
   "cell_type": "markdown",
   "id": "d2039fca",
   "metadata": {},
   "source": [
    "$y=x^2$\n",
    "\n",
    "$\\frac{dy}{dx}=2x$\n",
    "\n",
    "$\\frac{d^2y}{dx^2}=2$\n"
   ]
  },
  {
   "cell_type": "code",
   "execution_count": 5,
   "id": "d80b6bfa",
   "metadata": {},
   "outputs": [
    {
     "name": "stdout",
     "output_type": "stream",
     "text": [
      "tf.Tensor(12.0, shape=(), dtype=float32)\n",
      "tf.Tensor(2.0, shape=(), dtype=float32)\n"
     ]
    }
   ],
   "source": [
    "x = tf.constant(6.0)\n",
    "\n",
    "with tf.GradientTape() as t2:\n",
    "    t2.watch(x)\n",
    "    with tf.GradientTape() as t:\n",
    "        t.watch(x)\n",
    "        y = x ** 2\n",
    "    dy_dx = t.gradient(y, x)\n",
    "    print(dy_dx)\n",
    "d2y_dx = t2.gradient(dy_dx, x)\n",
    "print(d2y_dx)\n",
    "\n",
    "del t, t2"
   ]
  },
  {
   "cell_type": "code",
   "execution_count": 6,
   "id": "db0303ad",
   "metadata": {},
   "outputs": [],
   "source": [
    "def make_plot(number, X, Y, a, b):\n",
    "    #add points to plot\n",
    "    plt.scatter(X, Y, color='purple')\n",
    "\n",
    "    #add line of best fit to plot\n",
    "    plt.plot(X, a*X+b, color='steelblue', linestyle='--', linewidth=2)\n",
    "\n",
    "    ptext = \"y=%0.2f*x+%0.2f\" % (a,b)\n",
    "    print(ptext)\n",
    "    #add fitted regression equation to plot\n",
    "    plt.text(1, 1.75, ptext)\n",
    "\n",
    "    # plt.close()\n"
   ]
  },
  {
   "cell_type": "code",
   "execution_count": 7,
   "id": "c855e0b3",
   "metadata": {},
   "outputs": [
    {
     "name": "stdout",
     "output_type": "stream",
     "text": [
      "tf.Tensor([0.25 1.2  0.79 0.52 1.6  1.7  1.9  2.   2.  ], shape=(9,), dtype=float32)\n",
      "y=0.00*x+0.00\n",
      "<tf.Variable 'Variable:0' shape=() dtype=float32, numpy=0.116900004>\n",
      "<tf.Variable 'Variable:0' shape=() dtype=float32, numpy=0.023920001>\n",
      "y=0.12*x+0.02\n"
     ]
    },
    {
     "data": {
      "image/png": "[encoded data removed]",
      "text/plain": [
       "<Figure size 640x480 with 1 Axes>"
      ]
     },
     "metadata": {},
     "output_type": "display_data"
    }
   ],
   "source": [
    "\n",
    "# Define model parameters as trainable variables\n",
    "a = tf.Variable(initial_value=0.0, trainable=True)\n",
    "b = tf.Variable(initial_value=0.0, trainable=True)\n",
    "\n",
    "# Define training data (X, Y)\n",
    "X = tf.constant([1., 4., 6., 3., 3., 4., 5., 6., 7.])\n",
    "Y = tf.constant([0.25, 1.2, 0.79, 0.52, 1.6, 1.7, 1.9, 2., 2.])\n",
    "\n",
    "print(Y)\n",
    "make_plot(0,X, Y, a, b)\n",
    "# plt.scatter(X, Y, color='purple')\n",
    "\n",
    "# Define the loss function\n",
    "def loss_fn(y_true, y_pred):\n",
    "    return tf.reduce_sum(tf.square(y_true - y_pred))\n",
    "\n",
    "# Define the learning rate\n",
    "learning_rate = 0.001\n",
    " \n",
    "with tf.GradientTape(persistent =True) as tape:\n",
    "    # Find prediction value and calculate loss value\n",
    "    y_pred = a*X+b\n",
    "    loss = loss_fn(Y, y_pred)\n",
    " \n",
    "# Calculate partial derivative by each parameter\n",
    "a_gradient = tape.gradient(loss, a)\n",
    "b_gradient = tape.gradient(loss, b)\n",
    " \n",
    "# update value of each parameter: w1 = w0 - learning_rate * d(loss)/dw\n",
    "a.assign_sub(a_gradient*learning_rate)\n",
    "b.assign_sub(b_gradient*learning_rate)\n",
    " \n",
    "print(a)\n",
    "print(b)\n",
    "\n",
    "make_plot(1,X, Y, a, b)\n",
    "\n",
    "del tape"
   ]
  },
  {
   "cell_type": "code",
   "execution_count": 8,
   "id": "77276f56",
   "metadata": {},
   "outputs": [
    {
     "name": "stdout",
     "output_type": "stream",
     "text": [
      "Epoch:  0\n",
      "y=0.00*x+0.00\n",
      "Loss:  19.457\n",
      "model: Y= 0.116900004 X + 0.023920001\n",
      "Epoch:  1\n",
      "y=0.12*x+0.02\n",
      "Loss:  8.134604\n",
      "model: Y= 0.18587564 X + 0.038291242\n",
      "Epoch:  2\n",
      "y=0.19*x+0.04\n",
      "Loss:  4.186867\n",
      "model: Y= 0.22655392 X + 0.0470237\n",
      "Epoch:  3\n",
      "y=0.23*x+0.05\n",
      "Loss:  2.8102624\n",
      "model: Y= 0.25052384 X + 0.052426066\n",
      "Epoch:  4\n",
      "y=0.25*x+0.05\n",
      "Loss:  2.330071\n",
      "model: Y= 0.2646282 X + 0.055861536\n"
     ]
    },
    {
     "data": {
      "image/png": "[encoded data removed]",
      "text/plain": [
       "<Figure size 640x480 with 1 Axes>"
      ]
     },
     "metadata": {},
     "output_type": "display_data"
    }
   ],
   "source": [
    "def train_step(x_true, y_true):\n",
    "    with tf.GradientTape(persistent =True) as tape:\n",
    "        # Find prediction value and calculate loss value\n",
    "        y_pred = a*X+b\n",
    "        loss = loss_fn(Y, y_pred)\n",
    "        print(\"Loss: \", loss.numpy())\n",
    " \n",
    "    # calculate partial gradient by each parameter\n",
    "    a_gradient = tape.gradient(loss, a)\n",
    "    b_gradient = tape.gradient(loss, b)\n",
    " \n",
    "    # update value of each parameter: w1 = w0 - learning_rate * d(loss)/dw\n",
    "    a.assign_sub(a_gradient*learning_rate)\n",
    "    b.assign_sub(b_gradient*learning_rate)\n",
    "    print(\"model: Y= %s X + %s\"%(a.numpy(), b.numpy()))\n",
    "\n",
    "a = tf.Variable(initial_value=0.0, trainable=True)\n",
    "b = tf.Variable(initial_value=0.0, trainable=True)\n",
    "X = tf.constant([1., 4., 6, 3, 3, 4, 5, 6, 7])\n",
    "Y = tf.constant([0.25, 1.2, 0.79, 0.52, 1.6, 1.7, 1.9, 2, 2])\n",
    "\n",
    "for i in range(5):\n",
    "    print(\"Epoch: \", i)\n",
    "    make_plot(i,X, Y, a, b)\n",
    "\n",
    "    train_step(X, Y)"
   ]
  },
  {
   "cell_type": "code",
   "execution_count": 9,
   "id": "e9507e3b",
   "metadata": {},
   "outputs": [
    {
     "name": "stdout",
     "output_type": "stream",
     "text": [
      "Epoch:  0\n",
      "Loss:  19.457\n",
      "Epoch:  1\n",
      "Loss:  10.991247\n",
      "Epoch:  2\n",
      "Loss:  5.402445\n",
      "Epoch:  3\n",
      "Loss:  2.563472\n",
      "Epoch:  4\n",
      "Loss:  2.0541918\n"
     ]
    }
   ],
   "source": [
    "import tensorflow as tf\n",
    "\n",
    "X = tf.constant([1., 4., 6, 3, 3, 4, 5, 6, 7])\n",
    "Y = tf.constant([0.25, 1.2, 0.79, 0.52, 1.6, 1.7, 1.9, 2, 2])\n",
    "\n",
    "# Define the loss function\n",
    "def loss_fn(y_true, y_pred):\n",
    "    return tf.reduce_sum(tf.square(y_true - y_pred))\n",
    "\n",
    "model = tf.keras.Sequential([\n",
    "    tf.keras.layers.Dense( 1, \n",
    "    kernel_initializer='zeros', \n",
    "    bias_initializer='zeros')\n",
    "])\n",
    "\n",
    "optimizer= tf.optimizers.Adam(learning_rate = .07)\n",
    "\n",
    "def train_step2(x_true, y_true):\n",
    "    with tf.GradientTape(persistent =True) as tape:\n",
    "        # Find prediction value and calculate loss value\n",
    "        y_pred = model(tf.expand_dims(X,-1))\n",
    "        loss = loss_fn( tf.expand_dims(Y, -1), y_pred)\n",
    "        print(\"Loss: \", loss.numpy())\n",
    " \n",
    "    # calculate partial gradient by each parameter\n",
    "    variables = model.trainable_variables \n",
    "    gradients = tape.gradient(loss, variables)\n",
    " \n",
    "    # update value of each parameter: w1 = w0 - learning_rate * d(loss)/dw\n",
    "    optimizer.apply_gradients(zip(gradients, variables))\n",
    "\n",
    "for i in range(5):\n",
    "    print(\"Epoch: \", i)\n",
    "    train_step2(X, Y)\n",
    "     "
   ]
  }
 ],
 "metadata": {
  "kernelspec": {
   "display_name": "jh_class",
   "language": "python",
   "name": "python3"
  },
  "language_info": {
   "codemirror_mode": {
    "name": "ipython",
    "version": 3
   },
   "file_extension": ".py",
   "mimetype": "text/x-python",
   "name": "python",
   "nbconvert_exporter": "python",
   "pygments_lexer": "ipython3",
   "version": "3.10.13"
  }
 },
 "nbformat": 4,
 "nbformat_minor": 5
}
