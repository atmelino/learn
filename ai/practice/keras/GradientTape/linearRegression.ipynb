{
 "cells": [
  {
   "cell_type": "markdown",
   "id": "490c62c9",
   "metadata": {},
   "source": [
    "Brave search: simple gradient tape model<br>\n",
    "https://www.linkedin.com/pulse/gradient-tape-deploy-descent-tensorflow-vu-hong-quan<br>\n",
    "https://github.com/quanvu0996/data_science/blob/main/tf/gradient_tape1_en.ipynb"
   ]
  },
  {
   "cell_type": "code",
   "execution_count": 177,
   "id": "0dc8c637",
   "metadata": {},
   "outputs": [
    {
     "data": {
      "text/plain": [
       "'2.15.0'"
      ]
     },
     "execution_count": 177,
     "metadata": {},
     "output_type": "execute_result"
    }
   ],
   "source": [
    "import tensorflow as tf\n",
    "import matplotlib.pyplot as plt\n",
    "import numpy as np\n",
    "\n",
    "tf.__version__"
   ]
  },
  {
   "cell_type": "code",
   "execution_count": 178,
   "id": "519f7fbb",
   "metadata": {},
   "outputs": [
    {
     "name": "stdout",
     "output_type": "stream",
     "text": [
      "tf.Tensor(1, shape=(), dtype=int32)\n",
      "tf.Tensor([3 5], shape=(2,), dtype=int32)\n",
      "tf.Tensor(\n",
      "[[1. 1. 1. 1. 1.]\n",
      " [1. 1. 1. 1. 1.]\n",
      " [1. 1. 1. 1. 1.]], shape=(3, 5), dtype=float32)\n"
     ]
    }
   ],
   "source": [
    "a = tf.constant(1)\n",
    "b = tf.constant([3, 5])\n",
    "c = tf.ones(shape=(3,5))\n",
    "\n",
    "print(a)\n",
    "print(b)\n",
    "print(c)"
   ]
  },
  {
   "cell_type": "code",
   "execution_count": 179,
   "id": "045f391b",
   "metadata": {},
   "outputs": [
    {
     "data": {
      "text/plain": [
       "<tf.Variable 'Variable:0' shape=(2, 2) dtype=float32, numpy=\n",
       "array([[0., 0.],\n",
       "       [0., 0.]], dtype=float32)>"
      ]
     },
     "execution_count": 179,
     "metadata": {},
     "output_type": "execute_result"
    }
   ],
   "source": [
    "X = tf.Variable(initial_value= tf.zeros((2, 2)), trainable= True)\n",
    "X"
   ]
  },
  {
   "cell_type": "code",
   "execution_count": 180,
   "id": "0fa3c823",
   "metadata": {},
   "outputs": [
    {
     "name": "stdout",
     "output_type": "stream",
     "text": [
      "tf.Tensor(10.0, shape=(), dtype=float32)\n"
     ]
    }
   ],
   "source": [
    "x = tf.constant(5.0)\n",
    " \n",
    "with tf.GradientTape() as tape:\n",
    "    tape.watch(x) # while x is not a tf.Variable => we need to set the tape watch it, or else the derivative will be 0.\n",
    "                  # if x is a tf.Variable then watch is no need\n",
    "    y = x ** 2\n",
    "dy_dx = tape.gradient(y, x)\n",
    "print(dy_dx)\n",
    "del tape"
   ]
  },
  {
   "cell_type": "markdown",
   "id": "d2039fca",
   "metadata": {},
   "source": [
    "$y=x^2$\n",
    "\n",
    "$\\frac{dy}{dx}=2x$\n",
    "\n",
    "$\\frac{d^2y}{dx^2}=2$\n"
   ]
  },
  {
   "cell_type": "code",
   "execution_count": 181,
   "id": "d80b6bfa",
   "metadata": {},
   "outputs": [
    {
     "name": "stdout",
     "output_type": "stream",
     "text": [
      "tf.Tensor(12.0, shape=(), dtype=float32)\n",
      "tf.Tensor(2.0, shape=(), dtype=float32)\n"
     ]
    }
   ],
   "source": [
    "x = tf.constant(6.0)\n",
    "\n",
    "with tf.GradientTape() as t2:\n",
    "    t2.watch(x)\n",
    "    with tf.GradientTape() as t:\n",
    "        t.watch(x)\n",
    "        y = x ** 2\n",
    "    dy_dx = t.gradient(y, x)\n",
    "    print(dy_dx)\n",
    "d2y_dx = t2.gradient(dy_dx, x)\n",
    "print(d2y_dx)\n",
    "\n",
    "del t, t2"
   ]
  },
  {
   "cell_type": "code",
   "execution_count": 182,
   "id": "db0303ad",
   "metadata": {},
   "outputs": [],
   "source": [
    "def make_plot(number):\n",
    "    #add points to plot\n",
    "    plt.scatter(X, Y, color='purple')\n",
    "\n",
    "    #add line of best fit to plot\n",
    "    plt.plot(x, a*x+b, color='steelblue', linestyle='--', linewidth=2)\n",
    "\n",
    "    ptext = \"y=%0.2f*x+%0.2f\" % (a,b)\n",
    "    print(ptext)\n",
    "    #add fitted regression equation to plot\n",
    "    # plt.text(1, 17, ptext, size=14)\n",
    "    plt.text(1, 1.75, ptext)\n",
    "\n",
    "    # plt.close()\n"
   ]
  },
  {
   "cell_type": "code",
   "execution_count": 183,
   "id": "c855e0b3",
   "metadata": {},
   "outputs": [
    {
     "name": "stdout",
     "output_type": "stream",
     "text": [
      "<tf.Variable 'Variable:0' shape=() dtype=float32, numpy=0.116900004>\n",
      "<tf.Variable 'Variable:0' shape=() dtype=float32, numpy=0.023920001>\n"
     ]
    },
    {
     "data": {
      "image/png": "[encoded data removed]",
      "text/plain": [
       "<Figure size 640x480 with 1 Axes>"
      ]
     },
     "metadata": {},
     "output_type": "display_data"
    }
   ],
   "source": [
    "\n",
    "# Define model parameters as trainable variables\n",
    "a = tf.Variable(initial_value=0.0, trainable=True)\n",
    "b = tf.Variable(initial_value=0.0, trainable=True)\n",
    "\n",
    "# Define training data (X, Y)\n",
    "X = tf.constant([1., 4., 6, 3, 3, 4, 5, 6, 7])\n",
    "Y = tf.constant([0.25, 1.2, 0.79, 0.52, 1.6, 1.7, 1.9, 2, 2])\n",
    "\n",
    "\n",
    "# make_plot(0)\n",
    "\n",
    "\n",
    "# Define the loss function\n",
    "def loss_fn(y_true, y_pred):\n",
    "    return tf.reduce_sum(tf.square(y_true - y_pred))\n",
    "\n",
    "# Define the learning rate\n",
    "learning_rate = 0.001\n",
    " \n",
    "with tf.GradientTape(persistent =True) as tape:\n",
    "    # Find prediction value and calculate loss value\n",
    "    y_pred = a*X+b\n",
    "    loss = loss_fn(Y, y_pred)\n",
    " \n",
    "# Calculate partial derivative by each parameter\n",
    "a_gradient = tape.gradient(loss, a)\n",
    "b_gradient = tape.gradient(loss, b)\n",
    " \n",
    "# update value of each parameter: w1 = w0 - learning_rate * d(loss)/dw\n",
    "a.assign_sub(a_gradient*learning_rate)\n",
    "b.assign_sub(b_gradient*learning_rate)\n",
    " \n",
    "print(a)\n",
    "print(b)\n",
    "# plt.plot(x, a*x+b, color='steelblue', linestyle='--', linewidth=2)\n",
    "plt.plot(x, 1*x+2, color='steelblue', linestyle='--', linewidth=2)\n",
    "\n",
    "# make_plot(1)\n",
    "\n",
    "del tape"
   ]
  },
  {
   "cell_type": "code",
   "execution_count": 184,
   "id": "77276f56",
   "metadata": {},
   "outputs": [
    {
     "name": "stdout",
     "output_type": "stream",
     "text": [
      "Epoch:  0\n",
      "y=0.12*x+0.02\n",
      "Loss:  8.134604\n",
      "model: Y= 0.18587564 X + 0.038291242\n",
      "Epoch:  1\n",
      "y=0.19*x+0.04\n",
      "Loss:  4.186867\n",
      "model: Y= 0.22655392 X + 0.0470237\n",
      "Epoch:  2\n",
      "y=0.23*x+0.05\n",
      "Loss:  2.8102624\n",
      "model: Y= 0.25052384 X + 0.052426066\n",
      "Epoch:  3\n",
      "y=0.25*x+0.05\n",
      "Loss:  2.330071\n",
      "model: Y= 0.2646282 X + 0.055861536\n",
      "Epoch:  4\n",
      "y=0.26*x+0.06\n",
      "Loss:  2.1624107\n",
      "model: Y= 0.2729075 X + 0.05813503\n"
     ]
    },
    {
     "data": {
      "image/png": "[encoded data removed]",
      "text/plain": [
       "<Figure size 640x480 with 1 Axes>"
      ]
     },
     "metadata": {},
     "output_type": "display_data"
    }
   ],
   "source": [
    "def train_step(x_true, y_true):\n",
    "    with tf.GradientTape(persistent =True) as tape:\n",
    "        # Find prediction value and calculate loss value\n",
    "        y_pred = a*X+b\n",
    "        loss = loss_fn(Y, y_pred)\n",
    "        print(\"Loss: \", loss.numpy())\n",
    " \n",
    "    # calculate partial gradient by each parameter\n",
    "    a_gradient = tape.gradient(loss, a)\n",
    "    b_gradient = tape.gradient(loss, b)\n",
    " \n",
    "    # update value of each parameter: w1 = w0 - learning_rate * d(loss)/dw\n",
    "    a.assign_sub(a_gradient*learning_rate)\n",
    "    b.assign_sub(b_gradient*learning_rate)\n",
    "    print(\"model: Y= %s X + %s\"%(a.numpy(), b.numpy()))\n",
    "\n",
    "for i in range(5):\n",
    "    print(\"Epoch: \", i)\n",
    "    make_plot(i)\n",
    "    train_step(X, Y)"
   ]
  },
  {
   "cell_type": "code",
   "execution_count": 186,
   "id": "fb8b0c98",
   "metadata": {},
   "outputs": [
    {
     "data": {
      "text/plain": [
       "Text(1, 17, 'y = -0.89 + 2.31x')"
      ]
     },
     "execution_count": 186,
     "metadata": {},
     "output_type": "execute_result"
    },
    {
     "data": {
      "image/png": "[encoded data removed]",
      "text/plain": [
       "<Figure size 640x480 with 1 Axes>"
      ]
     },
     "metadata": {},
     "output_type": "display_data"
    }
   ],
   "source": [
    "import numpy as np\n",
    "import matplotlib.pyplot as plt\n",
    "\n",
    "#define data\n",
    "x = np.array([1, 2, 3, 4, 5, 6, 7, 8])\n",
    "y = np.array([2, 5, 6, 7, 9, 12, 16, 19])\n",
    "\n",
    "#find line of best fit\n",
    "a, b = np.polyfit(x, y, 1)\n",
    "\n",
    "#add points to plot\n",
    "plt.scatter(x, y, color='purple')\n",
    "\n",
    "#add line of best fit to plot\n",
    "plt.plot(x, a*x+b, color='steelblue', linestyle='--', linewidth=2)\n",
    "\n",
    "#add fitted regression equation to plot\n",
    "plt.text(1, 17, 'y = ' + '{:.2f}'.format(b) + ' + {:.2f}'.format(a) + 'x', size=14)"
   ]
  }
 ],
 "metadata": {
  "kernelspec": {
   "display_name": "jh_class",
   "language": "python",
   "name": "python3"
  },
  "language_info": {
   "codemirror_mode": {
    "name": "ipython",
    "version": 3
   },
   "file_extension": ".py",
   "mimetype": "text/x-python",
   "name": "python",
   "nbconvert_exporter": "python",
   "pygments_lexer": "ipython3",
   "version": "3.10.13"
  }
 },
 "nbformat": 4,
 "nbformat_minor": 5
}
