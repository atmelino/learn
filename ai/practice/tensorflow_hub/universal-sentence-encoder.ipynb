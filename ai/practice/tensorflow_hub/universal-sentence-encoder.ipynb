{
 "cells": [
  {
   "cell_type": "code",
   "execution_count": 6,
   "id": "ab15a1eb",
   "metadata": {},
   "outputs": [
    {
     "name": "stdout",
     "output_type": "stream",
     "text": [
      "/tmp/tfhub_modules/3bdf4002a346590d64dd2aee920834f58917f372\n",
      "tf.Tensor(\n",
      "[[-0.06045128 -0.00204539  0.02656927 ...  0.00764414 -0.02669661\n",
      "   0.05110301]\n",
      " [-0.08415683 -0.08687922  0.03446118 ... -0.01439385 -0.04546221\n",
      "   0.03639965]\n",
      " [ 0.08160189 -0.01570277 -0.05659248 ... -0.07133698  0.11040761\n",
      "  -0.00710951]\n",
      " [-0.00369538  0.03064632 -0.05556112 ...  0.01751422  0.0316496\n",
      "  -0.05139377]], shape=(4, 512), dtype=float32)\n"
     ]
    }
   ],
   "source": [
    "# https://www.geeksforgeeks.org/python/word-embedding-using-universal-sentence-encoder-in-python/\n",
    "\n",
    "import tensorflow as tf\n",
    "import tensorflow_hub as hub\n",
    "\n",
    "module_url = \"https://tfhub.dev/google/universal-sentence-encoder/4\"\n",
    "# embed = hub.load(module_url)\n",
    "\n",
    "# Load pre-trained universal sentence encoder model\n",
    "module_url =\"https://www.kaggle.com/models/google/universal-sentence-encoder/tensorFlow2/universal-sentence-encoder/2?tfhub-redirect=true\"\n",
    "embed = hub.load(module_url)\n",
    "\n",
    "print(hub.resolve(module_url))\n",
    "\n",
    "sentences = [\n",
    "    \"How old are you\",\n",
    "    \"What is your age\",\n",
    "    \"I love to watch Television\",\n",
    "    \"I am wearing a wrist watch\"\n",
    "]\n",
    "\n",
    "embeddings = embed(sentences)\n",
    "print(embeddings)   "
   ]
  },
  {
   "cell_type": "code",
   "execution_count": null,
   "id": "2308b16a",
   "metadata": {},
   "outputs": [
    {
     "name": "stdout",
     "output_type": "stream",
     "text": [
      "tf.Tensor(\n",
      "[[-0.03133019 -0.06338634 -0.016075   ... -0.0324278  -0.0457574\n",
      "   0.05370456]\n",
      " [ 0.05080861 -0.01652433  0.01573778 ...  0.00976659  0.03170121\n",
      "   0.01788118]], shape=(2, 512), dtype=float32)\n"
     ]
    }
   ],
   "source": [
    "# https://www.kaggle.com/models/google/universal-sentence-encoder/tensorFlow2/universal-sentence-encoder/2\n",
    "\n",
    "\n",
    "# module_url =\"https://kaggle.com/models/google/universal-sentence-encoder/frameworks/TensorFlow1/variations/universal-sentence-encoder/versions/1\"\n",
    "module_url =\"https://www.kaggle.com/models/google/universal-sentence-encoder/tensorFlow2/universal-sentence-encoder/2?tfhub-redirect=true\"\n",
    "embed = hub.load(module_url)\n",
    "embeddings = embed([\n",
    "    \"The quick brown fox jumps over the lazy dog.\",\n",
    "    \"I am a sentence for which I would like to get its embedding\"])\n",
    "\n",
    "print(embeddings)\n",
    "\n",
    "# The following are example embedding output of 512 dimensions per sentence\n",
    "# Embedding for: The quick brown fox jumps over the lazy dog.\n",
    "# [-0.016987282782793045, -0.008949815295636654, -0.0070627182722091675, ...]\n",
    "# Embedding for: I am a sentence for which I would like to get its embedding.\n",
    "# [0.03531332314014435, -0.025384284555912018, -0.007880025543272495, ...]"
   ]
  }
 ],
 "metadata": {
  "kernelspec": {
   "display_name": "jh_class",
   "language": "python",
   "name": "python3"
  },
  "language_info": {
   "codemirror_mode": {
    "name": "ipython",
    "version": 3
   },
   "file_extension": ".py",
   "mimetype": "text/x-python",
   "name": "python",
   "nbconvert_exporter": "python",
   "pygments_lexer": "ipython3",
   "version": "3.10.13"
  }
 },
 "nbformat": 4,
 "nbformat_minor": 5
}
