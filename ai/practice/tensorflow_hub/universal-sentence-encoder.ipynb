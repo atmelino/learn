{
 "cells": [
  {
   "cell_type": "code",
   "execution_count": null,
   "id": "ab15a1eb",
   "metadata": {},
   "outputs": [
    {
     "ename": "NameError",
     "evalue": "name 'handle' is not defined",
     "output_type": "error",
     "traceback": [
      "\u001b[0;31m---------------------------------------------------------------------------\u001b[0m",
      "\u001b[0;31mNameError\u001b[0m                                 Traceback (most recent call last)",
      "Cell \u001b[0;32mIn[4], line 13\u001b[0m\n\u001b[1;32m     10\u001b[0m module_url \u001b[38;5;241m=\u001b[39m\u001b[38;5;124m\"\u001b[39m\u001b[38;5;124mhttps://www.kaggle.com/models/google/universal-sentence-encoder/tensorFlow2/universal-sentence-encoder/2?tfhub-redirect=true\u001b[39m\u001b[38;5;124m\"\u001b[39m\n\u001b[1;32m     11\u001b[0m embed \u001b[38;5;241m=\u001b[39m hub\u001b[38;5;241m.\u001b[39mload(module_url)\n\u001b[0;32m---> 13\u001b[0m \u001b[38;5;28mprint\u001b[39m(hub\u001b[38;5;241m.\u001b[39mresolve(\u001b[43mhandle\u001b[49m))\n\u001b[1;32m     15\u001b[0m sentences \u001b[38;5;241m=\u001b[39m [\n\u001b[1;32m     16\u001b[0m     \u001b[38;5;124m\"\u001b[39m\u001b[38;5;124mHow old are you\u001b[39m\u001b[38;5;124m\"\u001b[39m,\n\u001b[1;32m     17\u001b[0m     \u001b[38;5;124m\"\u001b[39m\u001b[38;5;124mWhat is your age\u001b[39m\u001b[38;5;124m\"\u001b[39m,\n\u001b[1;32m     18\u001b[0m     \u001b[38;5;124m\"\u001b[39m\u001b[38;5;124mI love to watch Television\u001b[39m\u001b[38;5;124m\"\u001b[39m,\n\u001b[1;32m     19\u001b[0m     \u001b[38;5;124m\"\u001b[39m\u001b[38;5;124mI am wearing a wrist watch\u001b[39m\u001b[38;5;124m\"\u001b[39m\n\u001b[1;32m     20\u001b[0m ]\n\u001b[1;32m     22\u001b[0m embeddings \u001b[38;5;241m=\u001b[39m embed(sentences)\n",
      "\u001b[0;31mNameError\u001b[0m: name 'handle' is not defined"
     ]
    }
   ],
   "source": [
    "# https://www.geeksforgeeks.org/python/word-embedding-using-universal-sentence-encoder-in-python/\n",
    "\n",
    "import tensorflow as tf\n",
    "import tensorflow_hub as hub\n",
    "\n",
    "module_url = \"https://tfhub.dev/google/universal-sentence-encoder/4\"\n",
    "# embed = hub.load(module_url)\n",
    "\n",
    "# Load pre-trained universal sentence encoder model\n",
    "module_url =\"https://www.kaggle.com/models/google/universal-sentence-encoder/tensorFlow2/universal-sentence-encoder/2?tfhub-redirect=true\"\n",
    "embed = hub.load(module_url)\n",
    "\n",
    "# print(hub.resolve(handle))\n",
    "\n",
    "sentences = [\n",
    "    \"How old are you\",\n",
    "    \"What is your age\",\n",
    "    \"I love to watch Television\",\n",
    "    \"I am wearing a wrist watch\"\n",
    "]\n",
    "\n",
    "embeddings = embed(sentences)\n",
    "print(embeddings)   "
   ]
  },
  {
   "cell_type": "code",
   "execution_count": null,
   "id": "2308b16a",
   "metadata": {},
   "outputs": [
    {
     "name": "stdout",
     "output_type": "stream",
     "text": [
      "tf.Tensor(\n",
      "[[-0.03133019 -0.06338634 -0.016075   ... -0.0324278  -0.0457574\n",
      "   0.05370456]\n",
      " [ 0.05080861 -0.01652433  0.01573778 ...  0.00976659  0.03170121\n",
      "   0.01788118]], shape=(2, 512), dtype=float32)\n"
     ]
    }
   ],
   "source": [
    "# https://www.kaggle.com/models/google/universal-sentence-encoder/tensorFlow2/universal-sentence-encoder/2\n",
    "\n",
    "\n",
    "# module_url =\"https://kaggle.com/models/google/universal-sentence-encoder/frameworks/TensorFlow1/variations/universal-sentence-encoder/versions/1\"\n",
    "module_url =\"https://www.kaggle.com/models/google/universal-sentence-encoder/tensorFlow2/universal-sentence-encoder/2?tfhub-redirect=true\"\n",
    "embed = hub.load(module_url)\n",
    "embeddings = embed([\n",
    "    \"The quick brown fox jumps over the lazy dog.\",\n",
    "    \"I am a sentence for which I would like to get its embedding\"])\n",
    "\n",
    "print(embeddings)\n",
    "\n",
    "# The following are example embedding output of 512 dimensions per sentence\n",
    "# Embedding for: The quick brown fox jumps over the lazy dog.\n",
    "# [-0.016987282782793045, -0.008949815295636654, -0.0070627182722091675, ...]\n",
    "# Embedding for: I am a sentence for which I would like to get its embedding.\n",
    "# [0.03531332314014435, -0.025384284555912018, -0.007880025543272495, ...]"
   ]
  }
 ],
 "metadata": {
  "kernelspec": {
   "display_name": "jh_class",
   "language": "python",
   "name": "python3"
  },
  "language_info": {
   "codemirror_mode": {
    "name": "ipython",
    "version": 3
   },
   "file_extension": ".py",
   "mimetype": "text/x-python",
   "name": "python",
   "nbconvert_exporter": "python",
   "pygments_lexer": "ipython3",
   "version": "3.10.13"
  }
 },
 "nbformat": 4,
 "nbformat_minor": 5
}
