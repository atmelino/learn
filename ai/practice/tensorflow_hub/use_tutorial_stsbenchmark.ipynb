{
 "cells": [
  {
   "cell_type": "markdown",
   "id": "bc8312de",
   "metadata": {},
   "source": [
    "https://www.tensorflow.org/hub/tutorials/semantic_similarity_with_tf_hub_universal_encoder"
   ]
  },
  {
   "cell_type": "code",
   "execution_count": 20,
   "id": "4081097f",
   "metadata": {},
   "outputs": [
    {
     "name": "stdout",
     "output_type": "stream",
     "text": [
      "module https://tfhub.dev/google/universal-sentence-encoder/4 loaded\n"
     ]
    }
   ],
   "source": [
    "from absl import logging\n",
    "import tensorflow as tf\n",
    "import tensorflow_hub as hub\n",
    "import matplotlib.pyplot as plt\n",
    "import numpy as np\n",
    "import os\n",
    "import pandas as pd\n",
    "import re\n",
    "import seaborn as sns\n",
    "import pandas\n",
    "import scipy\n",
    "import math\n",
    "import csv\n",
    "\n",
    "BASE_PATH = \"../../../../local_data/practice/tensorflow_hub/\"\n",
    "DATA_PATH = \"../../../../local_data/tfds/\"\n",
    "OUTPUT_PATH = BASE_PATH+\"use_tutorial_stsbenchmark/\"\n",
    "os.system(\"mkdir -p \" + OUTPUT_PATH)\n",
    "\n",
    "module_url = \"https://tfhub.dev/google/universal-sentence-encoder/4\"\n",
    "model = hub.load(module_url)\n",
    "print (\"module %s loaded\" % module_url)\n",
    "def embed(input):\n",
    "  return model(input)"
   ]
  },
  {
   "cell_type": "code",
   "execution_count": 21,
   "id": "006c9427",
   "metadata": {},
   "outputs": [],
   "source": [
    "sts_dataset = tf.keras.utils.get_file(\n",
    "    fname=\"Stsbenchmark.tar.gz\",\n",
    "    origin=\"http://ixa2.si.ehu.es/stswiki/images/4/48/Stsbenchmark.tar.gz\",\n",
    "    extract=True)\n",
    "sts_dev = pandas.read_table(\n",
    "    os.path.join(os.path.dirname(sts_dataset), \"stsbenchmark\", \"sts-dev.csv\"),\n",
    "    skip_blank_lines=True,\n",
    "    usecols=[4, 5, 6],\n",
    "    names=[\"sim\", \"sent_1\", \"sent_2\"])\n",
    "sts_test = pandas.read_table(\n",
    "    os.path.join(\n",
    "        os.path.dirname(sts_dataset), \"stsbenchmark\", \"sts-test.csv\"),\n",
    "    quoting=csv.QUOTE_NONE,\n",
    "    skip_blank_lines=True,\n",
    "    usecols=[4, 5, 6],\n",
    "    names=[\"sim\", \"sent_1\", \"sent_2\"])\n",
    "# cleanup some NaN values in sts_dev\n",
    "sts_dev = sts_dev[[isinstance(s, str) for s in sts_dev['sent_2']]]"
   ]
  },
  {
   "cell_type": "code",
   "execution_count": 22,
   "id": "e086fa24",
   "metadata": {},
   "outputs": [],
   "source": [
    "pd.set_option('expand_frame_repr', False)\n",
    "# print(sts_dev)"
   ]
  },
  {
   "cell_type": "code",
   "execution_count": 23,
   "id": "a97e33e3",
   "metadata": {},
   "outputs": [],
   "source": [
    "# print(embed([\"A man with a hard hat is dancing.\"]))"
   ]
  },
  {
   "cell_type": "code",
   "execution_count": 24,
   "id": "66920d64",
   "metadata": {},
   "outputs": [],
   "source": [
    "pd.set_option('expand_frame_repr', False)\n",
    "# print(sts_test)"
   ]
  },
  {
   "cell_type": "code",
   "execution_count": 25,
   "id": "d415be65",
   "metadata": {},
   "outputs": [
    {
     "name": "stderr",
     "output_type": "stream",
     "text": [
      "/media/data/miniconda3/envs/jh_class/lib/python3.10/site-packages/numpy/core/fromnumeric.py:59: FutureWarning: 'DataFrame.swapaxes' is deprecated and will be removed in a future version. Please use 'DataFrame.transpose' instead.\n",
      "  return bound(*args, **kwds)\n"
     ]
    },
    {
     "name": "stdout",
     "output_type": "stream",
     "text": [
      "Pearson correlation coefficient = 0.8036394605028534\n",
      "p-value = 0.0\n"
     ]
    }
   ],
   "source": [
    "def run_sts_benchmark_short(batch):\n",
    "  sts_encode1 = tf.nn.l2_normalize(embed(tf.constant(batch['sent_1'].tolist())), axis=1)\n",
    "  sts_encode2 = tf.nn.l2_normalize(embed(tf.constant(batch['sent_2'].tolist())), axis=1)\n",
    "  cosine_similarities = tf.reduce_sum(tf.multiply(sts_encode1, sts_encode2), axis=1)\n",
    "  clip_cosine_similarities = tf.clip_by_value(cosine_similarities, -1.0, 1.0)\n",
    "  scores = 1.0 - tf.acos(clip_cosine_similarities) / math.pi\n",
    "  \"\"\"Returns the similarity scores\"\"\"\n",
    "  return scores\n",
    "\n",
    "sts_data = sts_dev\n",
    "\n",
    "dev_scores = sts_data['sim'].tolist()\n",
    "scores = []\n",
    "for batch in np.array_split(sts_data, 10):\n",
    "  scores.extend(run_sts_benchmark_short(batch))\n",
    "\n",
    "pearson_correlation = scipy.stats.pearsonr(scores, dev_scores)\n",
    "print('Pearson correlation coefficient = {0}\\np-value = {1}'.format(\n",
    "    pearson_correlation[0], pearson_correlation[1]))"
   ]
  },
  {
   "cell_type": "code",
   "execution_count": 26,
   "id": "2d91c1d1",
   "metadata": {},
   "outputs": [
    {
     "name": "stdout",
     "output_type": "stream",
     "text": [
      "len(dev_scores)= 1468\n",
      "dev_scores= [5.0, 4.75, 5.0, 2.4, 2.75, 2.615, 5.0, 2.333, 3.75, 5.0, 3.2, 1.583, 5.0, 5.0, 4.909, 0.8, 2.4, 5.0, 4.0, 0.636, 3.0, 1.714, 3.2, 2.167, 1.0, 1.917, 4.25, 3.0, 1.0, 0.6, 2.6, 5.0, 4.6, 5.0, 4.8, 3.8, 5.0, 5.0, 4.2, 1.4, 3.6, 2.8, 1.6, 3.0, 1.4, 0.25, 0.25, 0.0, 4.0, 4.5, 0.5, 3.8, 4.8, 5.0, 0.25, 1.2, 0.6, 0.8, 3.8, 0.0, 3.5, 4.5, 2.8, 3.8, 3.8, 0.0, 4.0, 4.25, 2.812, 4.25, 3.0, 1.0, 3.75, 0.0, 0.4, 4.0, 2.8, 3.75, 1.154, 2.75, 2.8, 0.0, 0.0, 3.4, 5.0, 0.8, 2.25, 2.75, 4.5, 2.6, 3.8, 2.8, 1.6, 0.0, 1.333, 2.6, 0.6, 0.0, 0.0, 3.0, 0.0, 0.2, 3.2, 2.0, 0.0, 3.0, 3.091, 2.75, 1.2, 0.5, 0.25, 0.0, 0.0, 0.5, 0.0, 0.6, 4.0, 3.4, 0.0, 0.0, 1.0, 0.0, 2.4, 0.4, 1.8, 2.5, 0.083, 0.0, 1.0, 4.5, 0.0, 3.6, 5.0, 5.0, 5.0, 5.0, 3.8, 5.0, 2.5, 3.824, 1.6, 5.0, 5.0, 2.375, 5.0, 1.25, 1.25, 3.0, 2.167, 1.4, 4.0, 3.6, 4.857, 0.4, 0.2, 1.3, 1.2, 1.2, 4.4, 1.8, 1.4, 0.4, 4.4, 3.25, 0.778, 2.25, 2.75, 2.0, 0.833, 3.75, 1.8, 4.333, 4.214, 0.0, 3.4, 4.2, 0.8, 4.2, 2.75, 2.2, 1.2, 1.0, 1.533, 0.2, 3.0, 3.8, 0.75, 3.0, 0.4, 3.4, 3.8, 1.4, 3.4, 3.2, 2.333, 0.8, 0.0, 3.0, 3.75, 0.0, 0.0, 0.0, 0.5, 0.5, 0.4, 0.75, 2.5, 1.8, 2.5, 0.5, 0.4, 1.2, 2.75, 0.4, 0.6, 0.8, 3.0, 0.4, 3.2, 1.25, 5.0, 0.2, 3.0, 1.4, 3.8, 2.75, 0.0, 2.8, 0.0, 0.0, 2.6, 0.1, 0.0, 2.0, 3.75, 3.1, 2.692, 4.429, 5.0, 0.0, 0.8, 1.333, 0.0, 0.6, 0.0, 0.0, 0.0, 3.4, 2.2, 0.0, 3.6, 0.0, 1.4, 2.2, 3.8, 2.6, 0.4, 4.0, 2.25, 3.2, 0.0, 0.4, 3.8, 0.8, 4.2, 3.6, 2.0, 4.2, 3.4, 3.0, 3.4, 3.6, 3.0, 2.4, 2.0, 4.0, 0.0, 4.0, 4.2, 0.8, 2.2, 3.8, 3.2, 4.4, 0.0, 1.4, 2.6, 0.4, 0.0, 3.2, 4.6, 0.0, 0.6, 1.2, 3.8, 3.2, 2.6, 5.0, 0.0, 3.2, 4.0, 1.2, 4.4, 3.4, 4.4, 0.8, 4.6, 4.2, 0.0, 3.2, 0.0, 1.4, 3.2, 1.8, 1.8, 0.0, 3.8, 3.8, 4.0, 0.0, 3.2, 1.6, 3.6, 1.0, 3.6, 2.0, 3.6, 4.0, 3.6, 3.2, 2.8, 2.4, 3.6, 1.8, 0.2, 3.4, 1.2, 1.4, 2.6, 2.4, 0.0, 4.0, 3.0, 4.0, 4.0, 2.0, 4.0, 2.2, 2.2, 3.4, 3.2, 4.0, 3.2, 3.8, 3.0, 4.0, 2.2, 3.4, 3.8, 0.0, 0.0, 4.8, 3.0, 0.8, 4.2, 4.2, 0.0, 4.2, 4.6, 5.0, 0.0, 3.2, 2.6, 2.2, 4.6, 5.0, 4.6, 4.6, 4.8, 0.6, 0.2, 2.2, 4.8, 1.2, 2.2, 4.6, 2.6, 3.6, 0.8, 2.4, 4.8, 5.0, 0.4, 3.2, 1.8, 3.2, 3.4, 4.8, 4.2, 2.6, 2.2, 1.4, 2.6, 1.2, 1.8, 4.0, 0.4, 0.0, 0.4, 3.0, 4.0, 1.4, 0.4, 2.4, 2.8, 4.6, 4.2, 3.2, 1.2, 1.8, 2.6, 1.6, 0.0, 3.8, 4.0, 4.8, 2.4, 5.0, 0.0, 3.6, 2.4, 4.2, 0.2, 4.2, 3.2, 0.6, 1.6, 0.0, 1.4, 4.8, 4.0, 3.0, 0.2, 1.6, 4.4, 4.8, 0.4, 2.4, 3.0, 2.0, 4.6, 1.0, 5.0, 1.4, 0.0, 3.0, 0.6, 0.0, 2.6, 1.2, 5.0, 3.4, 0.8, 0.8, 1.0, 0.0, 0.0, 2.0, 2.4, 2.2, 3.8, 2.2, 4.6, 2.8, 2.0, 4.2, 4.5, 0.0, 1.8, 4.2, 4.2, 1.4, 3.6, 0.6, 5.0, 0.8, 0.0, 0.0, 1.8, 0.8, 2.8, 0.0, 0.8, 1.8, 1.4, 1.8, 2.4, 1.6, 3.8, 4.8, 0.2, 1.0, 0.4, 0.4, 4.0, 3.4, 3.0, 1.8, 2.2, 3.6, 0.4, 0.2, 3.8, 4.2, 1.2, 3.4, 2.4, 3.2, 2.2, 4.4, 2.6, 0.2, 3.2, 2.2, 5.0, 5.0, 2.2, 0.4, 1.0, 2.2, 2.0, 1.2, 4.0, 1.0, 4.2, 3.4, 4.0, 4.8, 0.4, 4.4, 0.4, 0.0, 3.0, 4.6, 0.4, 1.4, 3.0, 1.6, 2.4, 0.0, 1.6, 1.6, 0.2, 2.2, 2.0, 0.4, 4.8, 2.0, 0.2, 3.8, 2.2, 2.0, 4.0, 4.6, 1.4, 0.8, 0.6, 1.2, 1.6, 0.0, 0.6, 3.0, 2.4, 0.6, 4.6, 0.6, 4.8, 5.0, 0.2, 0.6, 0.8, 3.6, 0.0, 4.4, 4.6, 2.8, 4.0, 1.0, 5.0, 0.4, 0.8, 0.4, 0.0, 1.6, 1.6, 3.6, 3.0, 2.8, 0.2, 1.0, 1.4, 2.8, 3.0, 1.6, 2.8, 4.0, 0.8, 2.0, 4.4, 4.6, 2.4, 4.4, 0.8, 3.8, 1.4, 2.8, 3.0, 1.6, 1.0, 2.6, 1.6, 0.2, 3.0, 3.0, 3.2, 3.0, 0.6, 1.0, 0.6, 0.8, 2.4, 1.0, 0.2, 0.6, 3.6, 0.2, 0.2, 0.0, 0.0, 1.2, 0.0, 0.4, 0.4, 3.0, 4.4, 3.2, 3.4, 3.4, 3.6, 0.8, 0.8, 1.0, 1.6, 1.0, 3.2, 2.0, 0.0, 0.6, 0.0, 1.4, 2.0, 2.6, 4.2, 2.8, 0.0, 0.0, 2.0, 0.0, 2.6, 2.6, 0.0, 2.6, 0.0, 1.6, 0.0, 0.6, 1.8, 3.8, 1.6, 3.2, 2.6, 3.0, 1.4, 1.6, 1.6, 1.0, 1.8, 1.8, 1.4, 2.6, 2.0, 1.0, 1.4, 0.6, 1.4, 0.4, 1.8, 4.0, 0.6, 2.8, 2.6, 2.6, 0.6, 4.4, 2.2, 1.0, 0.0, 1.6, 1.8, 3.8, 3.0, 1.4, 3.0, 0.4, 3.6, 3.4, 2.8, 4.2, 4.2, 1.8, 1.0, 2.0, 1.0, 1.6, 2.6, 3.2, 0.4, 0.0, 0.0, 2.2, 1.5, 0.6, 4.0, 1.8, 0.6, 1.6, 2.4, 1.0, 2.0, 1.6, 0.2, 0.2, 2.0, 0.0, 3.2, 1.0, 2.0, 2.4, 0.0, 1.6, 3.8, 1.2, 2.0, 1.0, 2.0, 0.6, 0.0, 0.0, 3.4, 2.6, 0.4, 2.8, 2.0, 1.6, 2.2, 0.6, 2.6, 3.0, 2.2, 1.8, 0.6, 0.0, 1.6, 0.8, 0.2, 1.0, 2.8, 0.6, 2.8, 1.6, 1.4, 1.4, 3.0, 3.2, 2.8, 3.4, 2.0, 2.8, 0.0, 0.2, 0.8, 0.0, 4.2, 0.2, 3.2, 0.0, 0.6, 0.0, 4.8, 3.8, 1.8, 0.4, 2.6, 1.6, 1.4, 2.0, 1.8, 1.2, 0.8, 2.2, 3.2, 1.4, 1.4, 0.0, 1.6, 0.8, 2.8, 1.8, 0.67, 2.6, 0.4, 2.4, 2.8, 2.0, 3.0, 2.6, 1.8, 3.8, 3.0, 1.4, 1.6, 0.0, 0.6, 0.0, 3.4, 3.6, 2.2, 3.0, 1.8, 2.4, 2.6, 1.4, 1.6, 1.6, 1.4, 2.8, 3.8, 3.4, 0.0, 2.0, 0.0, 3.8, 0.2, 0.6, 1.8, 1.8, 1.2, 0.0, 1.0, 0.4, 0.8, 3.0, 3.8, 3.2, 2.6, 3.0, 2.6, 1.8, 2.6, 0.8, 1.6, 0.6, 2.6, 1.2, 0.0, 2.4, 0.4, 0.6, 1.0, 2.6, 4.0, 3.6, 2.6, 1.6, 4.0, 3.0, 0.6, 0.0, 0.4, 0.4, 2.0, 0.6, 0.0, 3.2, 2.8, 2.6, 2.8, 0.2, 3.2, 0.6, 3.6, 0.0, 0.0, 0.0, 0.0, 2.2, 0.0, 0.4, 0.0, 2.6, 0.8, 0.4, 3.0, 2.2, 0.6, 3.4, 2.2, 1.8, 0.8, 0.0, 1.6, 2.8, 1.67, 1.8, 2.8, 0.0, 0.6, 1.8, 0.4, 0.2, 0.0, 1.4, 0.0, 0.6, 0.8, 0.2, 2.2, 1.8, 0.2, 4.0, 4.2, 4.4, 3.0, 2.6, 0.6, 3.2, 2.6, 1.2, 3.0, 0.0, 2.6, 1.2, 2.8, 0.2, 1.8, 0.0, 0.0, 3.0, 0.0, 2.4, 0.4, 2.6, 0.0, 3.6, 1.8, 1.6, 2.0, 2.0, 0.0, 2.6, 0.4, 0.0, 0.2, 1.8, 1.6, 1.0, 0.6, 1.0, 2.8, 2.6, 3.4, 1.6, 4.0, 1.8, 0.2, 0.0, 1.4, 0.0, 1.2, 3.6, 3.0, 1.2, 1.8, 0.8, 1.2, 0.0, 3.2, 0.2, 0.8, 3.6, 5.0, 1.4, 2.6, 2.0, 3.75, 4.0, 3.75, 3.2, 4.0, 2.4, 4.4, 4.2, 3.2, 3.0, 0.8, 3.2, 3.8, 3.0, 2.4, 5.0, 3.8, 3.2, 3.8, 3.75, 3.2, 3.4, 4.6, 3.333, 3.5, 1.75, 3.0, 4.4, 3.8, 3.0, 4.5, 2.2, 4.0, 4.6, 3.5, 4.4, 5.0, 5.0, 3.2, 2.2, 3.25, 3.75, 3.2, 4.4, 2.6, 3.5, 3.75, 3.5, 4.25, 2.4, 3.25, 3.8, 3.4, 3.5, 2.4, 3.8, 3.8, 4.0, 3.4, 2.8, 3.75, 4.4, 1.0, 2.8, 3.25, 1.75, 1.75, 5.0, 3.6, 3.0, 2.8, 3.6, 3.0, 1.0, 5.0, 3.5, 3.692, 4.0, 3.5, 4.75, 3.2, 2.6, 3.0, 3.25, 2.2, 3.5, 4.75, 3.2, 3.25, 3.75, 3.0, 2.6, 3.25, 3.4, 1.333, 5.0, 4.0, 3.6, 0.8, 3.5, 3.0, 1.667, 3.75, 2.25, 4.2, 3.6, 3.4, 3.0, 3.25, 3.6, 3.0, 1.75, 3.25, 4.4, 2.8, 2.75, 3.0, 3.6, 3.0, 2.0, 3.0, 4.4, 2.4, 4.4, 4.4, 2.6, 3.0, 4.5, 3.0, 1.75, 3.6, 2.5, 1.5, 5.0, 3.75, 1.75, 4.4, 3.0, 3.8, 3.25, 2.75, 3.4, 3.2, 3.0, 3.25, 5.0, 3.333, 3.6, 3.8, 3.0, 4.25, 3.5, 3.2, 2.4, 4.0, 4.667, 3.333, 3.0, 3.25, 4.0, 3.5, 2.0, 3.6, 3.4, 3.5, 2.4, 3.5, 2.8, 4.8, 3.0, 3.4, 3.25, 4.75, 3.6, 4.2, 2.0, 3.8, 1.6, 3.25, 5.0, 3.417, 2.75, 4.111, 3.6, 3.6, 4.333, 3.2, 2.25, 4.5, 2.75, 4.0, 3.4, 2.2, 3.25, 3.667, 4.75, 3.5, 3.0, 3.25, 3.6, 3.8, 1.0, 3.333, 4.25, 1.75, 2.75, 3.25, 2.5, 3.091, 4.4, 4.8, 5.0, 3.0, 3.2, 4.4, 1.8, 4.0, 1.0, 0.6, 4.6, 1.8, 1.2, 4.6, 1.4, 3.2, 2.8, 0.8, 3.8, 3.8, 4.2, 1.6, 3.8, 1.4, 3.6, 1.8, 3.8, 0.2, 1.6, 0.4, 2.33333333333333, 0.4, 3.6, 3.4, 2.6, 2.2, 2.6, 4.8, 4.8, 4.8, 2.6, 1.6, 2.2, 1.0, 1.2, 3.4, 0.6, 3.2, 3.2, 1.8, 1.2, 1.6, 4.8, 3.6, 3.8, 3.0, 3.6, 4.4, 2.0, 2.4, 3.2, 3.4, 2.8, 3.2, 1.8, 2.8, 3.4, 4.6, 3.8, 1.6, 0.8, 1.0, 2.6, 4.2, 4.4, 2.2, 2.6, 2.8, 4.0, 3.2, 0.0, 1.8, 0.0, 2.6, 2.75, 3.2, 1.8, 4.2, 4.2, 2.6, 4.2, 2.0, 5.0, 0.8, 3.8, 1.6, 3.4, 0.6, 1.4, 3.8, 1.2, 3.0, 2.2, 1.0, 2.2, 1.8, 0.0, 4.2, 0.4, 2.6, 0.6, 3.8, 0.0, 5.0, 1.0, 3.2, 2.8, 4.6, 3.4, 1.2, 4.0, 1.8, 4.0, 2.4, 1.8, 3.8, 1.4, 2.6, 1.4, 1.6, 4.8, 0.8, 3.4, 3.2, 2.2, 1.2, 3.0, 2.6, 0.4, 4.6, 4.0, 2.8, 3.8, 0.0, 3.4, 4.6, 0.8, 3.8, 2.2, 3.2, 5.0, 1.6, 2.2, 0.8, 3.6, 2.5, 3.0, 2.2, 0.0, 0.2, 3.2, 5.0, 2.2, 4.4, 3.8, 1.2, 4.6, 3.8, 1.4, 3.8, 0.0, 1.6, 5.0, 0.4, 2.4, 3.2, 3.8, 2.6, 1.0, 4.0, 2.0, 2.2, 4.6, 4.4, 1.8, 0.0, 0.0, 2.0, 3.4, 0.2, 2.4, 0.0, 0.4, 1.8, 0.8, 0.4, 2.2, 1.8, 4.6, 2.2, 1.0, 1.0, 4.2, 0.4, 0.2, 0.0, 0.0, 0.0, 0.6, 0.6, 4.0, 0.0, 0.8, 3.2, 4.8, 4.2, 2.2, 1.0, 3.6, 1.6, 3.0, 2.4, 0.4, 0.0, 5.0, 1.2, 1.4, 4.0, 4.6, 3.4, 0.4, 0.0, 4.8, 5.0, 4.0, 4.0, 3.0, 5.0, 2.0, 3.0, 3.0, 1.0, 5.0, 2.0, 2.0, 2.0, 5.0, 3.0, 3.0, 0.0, 2.0, 0.0, 2.0, 0.0, 0.0]\n",
      "         0         0\n",
      "0     5.00  0.930230\n",
      "1     4.75  0.915035\n",
      "2     5.00  0.885844\n",
      "3     2.40  0.815988\n",
      "4     2.75  0.824996\n",
      "...    ...       ...\n",
      "1463  2.00  0.797841\n",
      "1464  0.00  0.575523\n",
      "1465  2.00  0.620073\n",
      "1466  0.00  0.622719\n",
      "1467  0.00  0.666905\n",
      "\n",
      "[1468 rows x 2 columns]\n"
     ]
    }
   ],
   "source": [
    "def run_sts_benchmark_long(batch):\n",
    "  b1=tf.constant(batch['sent_1'].tolist())\n",
    "  b2=tf.constant(batch['sent_2'].tolist())\n",
    "  # print(\"b1=\",b1)\n",
    "  # print(\"b2=\",b2)\n",
    "  e1=embed(b1)\n",
    "  e2=embed(b2)\n",
    "  # print(\"e1=\",e1)\n",
    "  sts_encode1 = tf.nn.l2_normalize(e1, axis=1)\n",
    "  sts_encode2 = tf.nn.l2_normalize(e2, axis=1)\n",
    "  # print(\"sts_encode1=\",sts_encode1)\n",
    "  # print(\"sts_encode2=\",sts_encode2)\n",
    "  mult=tf.multiply(sts_encode1, sts_encode2)\n",
    "  # print(\"mult=\",mult)\n",
    "  # print(\"sts_encode1.shape=\",sts_encode1.shape,\"sts_encode2.shape=\",sts_encode2.shape,\"mult.shape=\",mult.shape)\n",
    "  cosine_similarities = tf.reduce_sum(tf.multiply(sts_encode1, sts_encode2), axis=1)\n",
    "  # print(cosine_similarities)\n",
    "  clip_cosine_similarities = tf.clip_by_value(cosine_similarities, -1.0, 1.0)\n",
    "  scores = 1.0 - tf.acos(clip_cosine_similarities) / math.pi\n",
    "  \"\"\"Returns the similarity scores\"\"\"\n",
    "  return scores\n",
    "\n",
    "sts_data = sts_dev\n",
    "\n",
    "dev_scores = sts_data['sim'].tolist()\n",
    "print(\"len(dev_scores)=\",len(dev_scores))\n",
    "print(\"dev_scores=\",dev_scores)\n",
    "scores = []\n",
    "for batch in np.array_split(sts_data, 10):\n",
    "  # print(batch)\n",
    "  scores.extend(run_sts_benchmark_long(batch))\n",
    "\n",
    "df_dev_scores=pd.DataFrame(dev_scores)\n",
    "calc_scores=tf.convert_to_tensor(scores)\n",
    "df_calc_scores=pd.DataFrame(calc_scores)\n",
    "compare = pd.concat([df_dev_scores, df_calc_scores], axis=1)\n",
    "\n",
    "# print(df_dev_scores)\n",
    "# print(calc_scores)\n",
    "# print(df_calc_scores)\n",
    "print(compare)\n",
    "compare.to_csv(OUTPUT_PATH + \"pred_test_load.csv\", index=False)   "
   ]
  },
  {
   "cell_type": "code",
   "execution_count": 27,
   "id": "2fb819c8",
   "metadata": {},
   "outputs": [
    {
     "name": "stdout",
     "output_type": "stream",
     "text": [
      "Pearson correlation coefficient = 0.8036396865485238\n",
      "p-value = 0.0\n"
     ]
    }
   ],
   "source": [
    "pearson_correlation = scipy.stats.pearsonr(scores, dev_scores)\n",
    "print('Pearson correlation coefficient = {0}\\np-value = {1}'.format(\n",
    "    pearson_correlation[0], pearson_correlation[1]))"
   ]
  }
 ],
 "metadata": {
  "kernelspec": {
   "display_name": "jh_class",
   "language": "python",
   "name": "python3"
  },
  "language_info": {
   "codemirror_mode": {
    "name": "ipython",
    "version": 3
   },
   "file_extension": ".py",
   "mimetype": "text/x-python",
   "name": "python",
   "nbconvert_exporter": "python",
   "pygments_lexer": "ipython3",
   "version": "3.10.13"
  }
 },
 "nbformat": 4,
 "nbformat_minor": 5
}
