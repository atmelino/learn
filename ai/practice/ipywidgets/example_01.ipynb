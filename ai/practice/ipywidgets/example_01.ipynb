{
 "cells": [
  {
   "cell_type": "code",
   "execution_count": 1,
   "id": "ff692ebf",
   "metadata": {},
   "outputs": [
    {
     "data": {
      "application/vnd.jupyter.widget-view+json": {
       "model_id": "69c67e2ce68844f6addcf5754a25f7a5",
       "version_major": 2,
       "version_minor": 0
      },
      "text/plain": [
       "HBox(children=(Image(value=b'\\xff\\xd8\\xff\\xe0\\x00\\x10JFIF\\x00\\x01\\x01\\x00\\x00H\\x00H\\x00\\x00\\xff\\xe1\\x00\\x8cExi…"
      ]
     },
     "execution_count": 1,
     "metadata": {},
     "output_type": "execute_result"
    }
   ],
   "source": [
    "import ipywidgets as widgets\n",
    "from ipywidgets import HBox, Label\n",
    "\n",
    "# Read images from file\n",
    "img1 = open('puppy.jpg', 'rb').read()\n",
    "img2 = open('puppy.jpg', 'rb').read()\n",
    "\n",
    "# Create image widgets\n",
    "wi1 = widgets.Image(value=img1, format='png', width=300, height=400)\n",
    "wi2 = widgets.Image(value=img2, format='png', width=300, height=400)\n",
    "\n",
    "# Side by side thanks to HBox widgets\n",
    "HBox([wi1, wi2])\n"
   ]
  },
  {
   "cell_type": "code",
   "execution_count": 2,
   "id": "a2b31016",
   "metadata": {},
   "outputs": [
    {
     "data": {
      "application/vnd.jupyter.widget-view+json": {
       "model_id": "a9be9914fbce47d2889922af7c6e7266",
       "version_major": 2,
       "version_minor": 0
      },
      "text/plain": [
       "Text(value='', description='Type here:')"
      ]
     },
     "metadata": {},
     "output_type": "display_data"
    }
   ],
   "source": [
    "import ipywidgets as widgets\n",
    "from IPython.display import display\n",
    "\n",
    "\n",
    "text_input = widgets.Text(\n",
    "    value='',  # Initial \n",
    "    description='Type here:',  # Label for the text input\n",
    "    disabled=False  #  to be editable\n",
    ")\n",
    "\n",
    "# Function to handle changes in the text input\n",
    "def on_text_change(change):\n",
    "    if change['type'] == 'change' and change['name'] == 'value':\n",
    "        print(f\"You entered: {change['new']}\")\n",
    "\n",
    "# Observe changes in the text input widget\n",
    "text_input.observe(on_text_change, names='value')\n",
    "\n",
    "display(text_input)"
   ]
  },
  {
   "cell_type": "code",
   "execution_count": 3,
   "id": "e461a126",
   "metadata": {},
   "outputs": [
    {
     "data": {
      "application/vnd.jupyter.widget-view+json": {
       "model_id": "c4be09a4cdd24a18bf1ea4bfb497e97f",
       "version_major": 2,
       "version_minor": 0
      },
      "text/plain": [
       "Image(value=b'\\xff\\xd8\\xff\\xe0\\x00\\x10JFIF\\x00\\x01\\x01\\x00\\x00H\\x00H\\x00\\x00\\xff\\xe1\\x00\\x8cExif\\x00\\x00MM\\x00…"
      ]
     },
     "metadata": {},
     "output_type": "display_data"
    }
   ],
   "source": [
    "import ipywidgets as widgets\n",
    "from IPython.display import display\n",
    "\n",
    "# Read an image file\n",
    "with open('puppy.jpg', 'rb') as f:\n",
    "    image_data = f.read()\n",
    "\n",
    "# Create an Image widget\n",
    "image_widget = widgets.Image(\n",
    "    value=image_data,\n",
    "    format='png',\n",
    "    width=300,\n",
    "    height=400\n",
    ")\n",
    "\n",
    "# Display the image\n",
    "display(image_widget)"
   ]
  },
  {
   "cell_type": "code",
   "execution_count": 4,
   "id": "9d902cf8",
   "metadata": {},
   "outputs": [
    {
     "data": {
      "application/vnd.jupyter.widget-view+json": {
       "model_id": "551357beb8504d24818c0f1d35747644",
       "version_major": 2,
       "version_minor": 0
      },
      "text/plain": [
       "HBox(children=(VBox(children=(Button(description='correct', style=ButtonStyle()), Button(description='horse', …"
      ]
     },
     "execution_count": 4,
     "metadata": {},
     "output_type": "execute_result"
    }
   ],
   "source": [
    "from ipywidgets import Button, HBox, VBox\n",
    "\n",
    "words = ['correct', 'horse', 'battery', 'staple']\n",
    "items = [Button(description=w) for w in words]\n",
    "left_box = VBox([items[0], items[1]])\n",
    "right_box = VBox([items[2], items[3]])\n",
    "HBox([left_box, right_box])"
   ]
  },
  {
   "cell_type": "code",
   "execution_count": 5,
   "id": "c1116c15",
   "metadata": {},
   "outputs": [
    {
     "data": {
      "application/vnd.jupyter.widget-view+json": {
       "model_id": "f7e48d606a7345dc9a5bcf8738a39245",
       "version_major": 2,
       "version_minor": 0
      },
      "text/plain": [
       "HBox(children=(Image(value=b'\\xff\\xd8\\xff\\xe0\\x00\\x10JFIF\\x00\\x01\\x01\\x00\\x00H\\x00H\\x00\\x00\\xff\\xe1\\x00\\x8cExi…"
      ]
     },
     "execution_count": 5,
     "metadata": {},
     "output_type": "execute_result"
    }
   ],
   "source": [
    "from ipywidgets import HBox, Label\n",
    "# Read an image file\n",
    "with open('puppy.jpg', 'rb') as f:\n",
    "    image_data = f.read()\n",
    "\n",
    "# Create an Image widget\n",
    "image_widget = widgets.Image(\n",
    "    value=image_data,\n",
    "    format='png',\n",
    "    width=300,\n",
    "    height=400\n",
    ")\n",
    "\n",
    "HBox([image_widget,Label('A too long description') ])"
   ]
  }
 ],
 "metadata": {
  "kernelspec": {
   "display_name": "jh_class",
   "language": "python",
   "name": "python3"
  },
  "language_info": {
   "codemirror_mode": {
    "name": "ipython",
    "version": 3
   },
   "file_extension": ".py",
   "mimetype": "text/x-python",
   "name": "python",
   "nbconvert_exporter": "python",
   "pygments_lexer": "ipython3",
   "version": "3.10.13"
  }
 },
 "nbformat": 4,
 "nbformat_minor": 5
}
