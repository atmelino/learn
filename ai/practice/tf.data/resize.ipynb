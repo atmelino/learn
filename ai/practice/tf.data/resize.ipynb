{
 "cells": [
  {
   "cell_type": "code",
   "execution_count": 6,
   "id": "50ac7e4a",
   "metadata": {},
   "outputs": [
    {
     "data": {
      "text/plain": [
       "<tf.Tensor: shape=(5, 5), dtype=int32, numpy=\n",
       "array([[1, 0, 0, 0, 0],\n",
       "       [0, 1, 0, 0, 0],\n",
       "       [0, 0, 1, 0, 0],\n",
       "       [0, 0, 0, 1, 0],\n",
       "       [0, 0, 0, 0, 1]], dtype=int32)>"
      ]
     },
     "execution_count": 6,
     "metadata": {},
     "output_type": "execute_result"
    }
   ],
   "source": [
    "# https://www.tensorflow.org/api_docs/python/tf/image/resize\n",
    "\n",
    "import tensorflow as tf\n",
    "import matplotlib.pyplot as plt\n",
    "\n",
    "image = tf.constant([\n",
    " [1,0,0,0,0],\n",
    " [0,1,0,0,0],\n",
    " [0,0,1,0,0],\n",
    " [0,0,0,1,0],\n",
    " [0,0,0,0,1],\n",
    "])\n",
    "image"
   ]
  },
  {
   "cell_type": "code",
   "execution_count": 7,
   "id": "2e1da214",
   "metadata": {},
   "outputs": [],
   "source": [
    "def plot_one(image,label):\n",
    "    plt.figure(figsize=(3, 3))\n",
    "    plt.imshow(image)\n",
    "    plt.title(int(label))\n",
    "    plt.axis(\"off\")"
   ]
  },
  {
   "cell_type": "code",
   "execution_count": 8,
   "id": "6d6da5d3",
   "metadata": {},
   "outputs": [
    {
     "data": {
      "image/png": "[encoded data removed]",
      "text/plain": [
       "<Figure size 300x300 with 1 Axes>"
      ]
     },
     "metadata": {},
     "output_type": "display_data"
    }
   ],
   "source": [
    "plot_one(image,4)"
   ]
  },
  {
   "cell_type": "code",
   "execution_count": 9,
   "id": "dbd1db55",
   "metadata": {},
   "outputs": [
    {
     "data": {
      "text/plain": [
       "array([[0.6666667, 0.3333333, 0.       , 0.       , 0.       ],\n",
       "       [0.       , 0.       , 1.       , 0.       , 0.       ],\n",
       "       [0.       , 0.       , 0.       , 0.3333335, 0.6666665]],\n",
       "      dtype=float32)"
      ]
     },
     "execution_count": 9,
     "metadata": {},
     "output_type": "execute_result"
    }
   ],
   "source": [
    "# Add \"batch\" and \"channels\" dimensions\n",
    "image = image[tf.newaxis, ..., tf.newaxis]\n",
    "image.shape.as_list()\n",
    "tf.image.resize(image, [3,5])[0,...,0].numpy()\n",
    "# image\n",
    "# plot_one(image,4)"
   ]
  }
 ],
 "metadata": {
  "kernelspec": {
   "display_name": "jh_class",
   "language": "python",
   "name": "python3"
  },
  "language_info": {
   "codemirror_mode": {
    "name": "ipython",
    "version": 3
   },
   "file_extension": ".py",
   "mimetype": "text/x-python",
   "name": "python",
   "nbconvert_exporter": "python",
   "pygments_lexer": "ipython3",
   "version": "3.10.13"
  }
 },
 "nbformat": 4,
 "nbformat_minor": 5
}
